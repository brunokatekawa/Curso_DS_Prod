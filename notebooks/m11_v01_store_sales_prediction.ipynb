{
 "cells": [
  {
   "cell_type": "markdown",
   "metadata": {
    "heading_collapsed": true
   },
   "source": [
    "# 0.0 IMPORTS"
   ]
  },
  {
   "cell_type": "code",
   "execution_count": 1,
   "metadata": {
    "ExecuteTime": {
     "end_time": "2020-06-02T11:32:48.152861Z",
     "start_time": "2020-06-02T11:32:39.724426Z"
    },
    "hidden": true
   },
   "outputs": [],
   "source": [
    "import pandas as pd\n",
    "import math\n",
    "import numpy as np\n",
    "\n",
    "import inflection\n",
    "import datetime\n",
    "import pickle\n",
    "\n",
    "import seaborn as sns\n",
    "import matplotlib.pyplot as plt\n",
    "\n",
    "from IPython.display import Image\n",
    "from IPython.core.display import HTML\n",
    "\n",
    "from sklearn.preprocessing import RobustScaler, MinMaxScaler\n",
    "from sklearn.preprocessing import LabelEncoder\n",
    "\n",
    "from boruta import BorutaPy\n",
    "from sklearn.ensemble import RandomForestRegressor\n",
    "from sklearn.metrics import mean_absolute_error, mean_squared_error\n",
    "from sklearn.linear_model import LinearRegression\n",
    "from sklearn.linear_model import Lasso\n",
    "import xgboost as xgb\n",
    "\n",
    "import random\n",
    "import warnings\n",
    "import requests"
   ]
  },
  {
   "cell_type": "markdown",
   "metadata": {
    "heading_collapsed": true,
    "hidden": true
   },
   "source": [
    "## 0.1. Helper functions\n",
    "In this section, we define some functions that will help us along the project."
   ]
  },
  {
   "cell_type": "code",
   "execution_count": 2,
   "metadata": {
    "ExecuteTime": {
     "end_time": "2020-06-02T11:33:07.477837Z",
     "start_time": "2020-06-02T11:33:07.443437Z"
    },
    "hidden": true
   },
   "outputs": [],
   "source": [
    "# sets seaborn style\n",
    "sns.set_style(\"darkgrid\")\n",
    "sns.set_palette(\"muted\")\n",
    "\n",
    "# sets matplolit inline\n",
    "%matplotlib inline\n",
    "\n",
    "# sets to display unlimited number of columns\n",
    "pd.options.display.max_columns = None\n",
    "\n",
    "# setting the title and axis labels\n",
    "def set_plots_features(ax, title, xlabel, ylabel):\n",
    "    ax.set_title(title, fontsize=18)\n",
    "    ax.set_xlabel(xlabel, fontsize=14)\n",
    "    ax.set_ylabel(ylabel, fontsize=14)\n",
    "\n",
    "# ignores warnings\n",
    "warnings.filterwarnings('ignore')\n",
    "\n",
    "# cramér V\n",
    "def cramer_v(var_x, var_y):\n",
    "    # builds contigency matrix (or confusion matrix)\n",
    "    confusion_matrix = pd.crosstab(var_x, var_y).values\n",
    "    \n",
    "    # gets the sum of all values in the matrix\n",
    "    n = confusion_matrix.sum()\n",
    "    \n",
    "    # gets the rows, cols\n",
    "    r, k = confusion_matrix.shape\n",
    "    \n",
    "    # gets the chi-squared\n",
    "    chi2 = chi2_contingency(confusion_matrix)[0]\n",
    "    \n",
    "    # makes the bias correction\n",
    "    chi2corr = max(0, chi2 - (k-1) * (r-1) / (n-1))\n",
    "    kcorr = k - (k-1) ** 2 / (n-1)\n",
    "    rcorr = r - (r-1) ** 2 / (n-1)\n",
    "    \n",
    "    # returns cramér V\n",
    "    return np.sqrt((chi2corr/n) / min(kcorr-1, rcorr-1))\n",
    "\n",
    "# mean absolute percentage error (MAPE)\n",
    "def mean_absolute_percentage_error(y, yhat):\n",
    "    return np.mean(np.abs((y - yhat) / y))\n",
    "\n",
    "# calculates the errors\n",
    "def ml_error(model_name, y, yhat):\n",
    "    mae = mean_absolute_error(y, yhat)\n",
    "    mape = mean_absolute_percentage_error(y, yhat)\n",
    "    rmse = np.sqrt(mean_squared_error(y, yhat))\n",
    "    \n",
    "    return pd.DataFrame({'Model Name': model_name,\n",
    "                        'MAE': mae,\n",
    "                        'MAPE': mape,\n",
    "                        'RMSE': rmse}, index=[0])\n",
    "\n",
    "# mean percentage error (MPE)\n",
    "def mean_percentage_error(y, yhat):\n",
    "    return np.mean((y - yhat) / y)\n",
    "\n",
    "# makes de cross validation for a given model\n",
    "def cross_validation(x_training, kfold, model_name, model, verbose=False):\n",
    "\n",
    "    # creates empty lists to store the metrics\n",
    "    mae_list = []\n",
    "    mape_list = []\n",
    "    rmse_list = []\n",
    "\n",
    "    # runs the KFold\n",
    "    for k in reversed(range(1, kfold+1)):\n",
    "        if verbose:\n",
    "            print('\\nKFold Number: {}'.format(k))\n",
    "            \n",
    "        # gets the final date and subtracts 6 weeks\n",
    "        validation_start_date = x_training['date'].max() - datetime.timedelta(days=k * 7 * 6)\n",
    "\n",
    "        # gets the final date\n",
    "        validation_end_date = x_training['date'].max() - datetime.timedelta(days=(k-1) * 7 * 6)\n",
    "\n",
    "        # filters dataset\n",
    "        training = x_training[x_training['date'] < validation_start_date]\n",
    "        validation = x_training[(x_training['date'] >= validation_start_date) & (x_training['date'] <= validation_end_date)]\n",
    "\n",
    "        # traning and validation dataset\n",
    "        # training\n",
    "        xtraining = training.drop(['date','sales'], axis=1)\n",
    "        ytraining = training['sales']\n",
    "\n",
    "        # validation\n",
    "        xvalidation= validation.drop(['date','sales'], axis=1)\n",
    "        yvalidation = validation['sales']\n",
    "\n",
    "        # model\n",
    "        m_regression = model.fit(xtraining, ytraining)\n",
    "\n",
    "        # prediction\n",
    "        yhat = m_regression.predict(xvalidation)\n",
    "\n",
    "        # performance\n",
    "        regression_result = ml_error(model_name, np.expm1(yvalidation), np.expm1(yhat))\n",
    "\n",
    "        # stores the performance of each KFold iteration\n",
    "        mae_list.append(regression_result['MAE'])\n",
    "        mape_list.append(regression_result['MAPE'])\n",
    "        rmse_list.append(regression_result['RMSE'])\n",
    "\n",
    "    # calculates the mean from the errors : the real metric for the algorithm\n",
    "    # and creates a DataFrame to organize the data\n",
    "    return pd.DataFrame({'Model Name': model_name,\n",
    "                         'MAE CV': np.round(np.mean(mae_list), 2).astype(str) + ' +- ' + np.round(np.std(mae_list), 2).astype(str),\n",
    "                         'MAPE CV': np.round(np.mean(mape_list), 2).astype(str) + ' +- ' + np.round(np.std(mape_list), 2).astype(str),\n",
    "                         'RMSE CV': np.round(np.mean(rmse_list), 2).astype(str) + ' +- ' + np.round(np.std(rmse_list), 2).astype(str)}, \n",
    "                       index=[0])"
   ]
  },
  {
   "cell_type": "markdown",
   "metadata": {
    "hidden": true
   },
   "source": [
    "Other optional settings that could be applied.\n",
    "\n",
    "```python\n",
    "def jupyter_settings():\n",
    "    %matplotlib inline\n",
    "    %pylab inline\n",
    "    \n",
    "    plt.style.use('bmh')\n",
    "    plt.rcParams['figure.figzise'] = [25, 12]\n",
    "    plt.rcParams['font.size'] = 24\n",
    "    \n",
    "    display(HTML('<style>.container {width:100% !important;}</style>'))\n",
    "    pd.options.display.max_columns = None\n",
    "    pd.options.display.max_rows = None\n",
    "    pd.set_option('display.expand_frame_repr', False)\n",
    "    \n",
    "    sns.set()\n",
    "```"
   ]
  },
  {
   "cell_type": "markdown",
   "metadata": {
    "heading_collapsed": true,
    "hidden": true
   },
   "source": [
    "## 0.2 Loading data\n",
    "In this section, we import the data."
   ]
  },
  {
   "cell_type": "code",
   "execution_count": 3,
   "metadata": {
    "ExecuteTime": {
     "end_time": "2020-06-02T11:33:12.755536Z",
     "start_time": "2020-06-02T11:33:11.782698Z"
    },
    "hidden": true
   },
   "outputs": [],
   "source": [
    "# loads train dataset\n",
    "df_sales_raw = pd.read_csv('../data/train.csv', low_memory=False)\n",
    "\n",
    "# loads store dataset\n",
    "df_store_raw = pd.read_csv('../data/store.csv', low_memory=False)\n",
    "\n",
    "# merge the two datasets into one\n",
    "df_raw = pd.merge(df_sales_raw, df_store_raw, how='left', on='Store')"
   ]
  },
  {
   "cell_type": "code",
   "execution_count": null,
   "metadata": {
    "ExecuteTime": {
     "end_time": "2020-05-31T18:54:06.691443Z",
     "start_time": "2020-05-31T18:54:06.426794Z"
    },
    "hidden": true
   },
   "outputs": [],
   "source": [
    "# checks the operations\n",
    "df_raw.sample()"
   ]
  },
  {
   "cell_type": "markdown",
   "metadata": {
    "heading_collapsed": true
   },
   "source": [
    "# 1.0 DATA DESCRIPTION"
   ]
  },
  {
   "cell_type": "markdown",
   "metadata": {
    "hidden": true
   },
   "source": [
    "Let's take a look at data field descriptions from Kaggle.\n",
    "\n",
    "https://www.kaggle.com/c/rossmann-store-sales/data\n",
    "\n",
    "**Data fields**\n",
    "\n",
    "Most of the fields are self-explanatory. The following are descriptions for those that aren't.\n",
    "\n",
    "- **Id** - an Id that represents a (Store, Date) duple within the test set\n",
    "- **Store** - a unique Id for each store\n",
    "- **Sales** - the turnover for any given day (this is what you are predicting)\n",
    "- **Customers** - the number of customers on a given day\n",
    "- **Open** - an indicator for whether the store was open: 0 = closed, 1 = open\n",
    "- **StateHoliday** - indicates a state holiday. Normally all stores, with few exceptions, are closed on state holidays. Note that all schools are closed on public holidays and weekends. a = public holiday, b = Easter holiday, c = Christmas, 0 = None\n",
    "- **SchoolHoliday** - indicates if the (Store, Date) was affected by the closure of public schools\n",
    "- **StoreType** - differentiates between 4 different store models: a, b, c, d\n",
    "- **Assortment** - describes an assortment level: a = basic, b = extra, c = extended\n",
    "- **CompetitionDistance** - distance in meters to the nearest competitor store\n",
    "- **CompetitionOpenSince[Month/Year]** - gives the approximate year and month of the time the nearest competitor was opened\n",
    "- **Promo** - indicates whether a store is running a promo on that day\n",
    "- **Promo2** - Promo2 is a continuing and consecutive promotion for some stores: 0 = store is not participating, 1 = store is participating\n",
    "- **Promo2Since[Year/Week]** - describes the year and calendar week when the store started participating in Promo2\n",
    "- **PromoInterval** - describes the consecutive intervals Promo2 is started, naming the months the promotion is started anew. E.g. \"Feb,May,Aug,Nov\" means each round starts in February, May, August, November of any given year for that store"
   ]
  },
  {
   "cell_type": "markdown",
   "metadata": {
    "hidden": true
   },
   "source": [
    "### 1.0.1 Project initial checkpoint"
   ]
  },
  {
   "cell_type": "code",
   "execution_count": null,
   "metadata": {
    "ExecuteTime": {
     "end_time": "2020-05-31T18:54:06.725316Z",
     "start_time": "2020-05-31T18:54:06.694903Z"
    },
    "hidden": true
   },
   "outputs": [],
   "source": [
    "# checks the dataset\n",
    "df_raw"
   ]
  },
  {
   "cell_type": "code",
   "execution_count": null,
   "metadata": {
    "ExecuteTime": {
     "end_time": "2020-05-31T18:54:06.875589Z",
     "start_time": "2020-05-31T18:54:06.727767Z"
    },
    "hidden": true
   },
   "outputs": [],
   "source": [
    "# makes a copy from original DataFrame, so we can separate the dataset manipulation by section\n",
    "df1 = df_raw.copy()"
   ]
  },
  {
   "cell_type": "markdown",
   "metadata": {
    "hidden": true
   },
   "source": [
    "## 1.1. Renaming columns\n",
    "Rename columns to make easier to understand and work with them."
   ]
  },
  {
   "cell_type": "code",
   "execution_count": null,
   "metadata": {
    "ExecuteTime": {
     "end_time": "2020-05-31T18:54:06.882064Z",
     "start_time": "2020-05-31T18:54:06.877332Z"
    },
    "hidden": true,
    "scrolled": true
   },
   "outputs": [],
   "source": [
    "# checks the columns in out dataset\n",
    "df1.columns"
   ]
  },
  {
   "cell_type": "code",
   "execution_count": null,
   "metadata": {
    "ExecuteTime": {
     "end_time": "2020-05-31T18:54:06.892123Z",
     "start_time": "2020-05-31T18:54:06.884589Z"
    },
    "code_folding": [],
    "hidden": true
   },
   "outputs": [],
   "source": [
    "# stores the old column names\n",
    "cols_old = ['Store', 'DayOfWeek', 'Date', 'Sales', 'Customers', 'Open', 'Promo', 'StateHoliday', \n",
    "            'SchoolHoliday', 'StoreType', 'Assortment','CompetitionDistance', 'CompetitionOpenSinceMonth', \n",
    "            'CompetitionOpenSinceYear', 'Promo2', 'Promo2SinceWeek', 'Promo2SinceYear', 'PromoInterval']\n",
    "\n",
    "# snake_case\n",
    "snakecase = lambda x: inflection.underscore(x)\n",
    "\n",
    "# creates new columns from old columns in snakecase \n",
    "cols_new = list(map(snakecase, cols_old))\n",
    "\n",
    "# renames the old columns\n",
    "df1.columns = cols_new"
   ]
  },
  {
   "cell_type": "code",
   "execution_count": null,
   "metadata": {
    "ExecuteTime": {
     "end_time": "2020-05-31T18:54:06.903534Z",
     "start_time": "2020-05-31T18:54:06.897519Z"
    },
    "code_folding": [],
    "hidden": true
   },
   "outputs": [],
   "source": [
    "# checks the operations\n",
    "df1.columns"
   ]
  },
  {
   "cell_type": "markdown",
   "metadata": {
    "hidden": true
   },
   "source": [
    "## 1.2.  Checking data dimensions\n",
    "Verifies the number of rows and columns in the dataset."
   ]
  },
  {
   "cell_type": "code",
   "execution_count": null,
   "metadata": {
    "ExecuteTime": {
     "end_time": "2020-05-31T18:54:06.912784Z",
     "start_time": "2020-05-31T18:54:06.907901Z"
    },
    "hidden": true
   },
   "outputs": [],
   "source": [
    "print('Number of rows: {}'.format(df1.shape[0]))\n",
    "print('Number of cols: {}'.format(df1.shape[1]))"
   ]
  },
  {
   "cell_type": "markdown",
   "metadata": {
    "hidden": true
   },
   "source": [
    "## 1.3.  Checking data types\n",
    "Verifies the dataset data types."
   ]
  },
  {
   "cell_type": "code",
   "execution_count": null,
   "metadata": {
    "ExecuteTime": {
     "end_time": "2020-05-31T18:54:06.924297Z",
     "start_time": "2020-05-31T18:54:06.915916Z"
    },
    "hidden": true
   },
   "outputs": [],
   "source": [
    "df1.dtypes"
   ]
  },
  {
   "cell_type": "code",
   "execution_count": null,
   "metadata": {
    "ExecuteTime": {
     "end_time": "2020-05-31T18:54:07.055838Z",
     "start_time": "2020-05-31T18:54:06.926975Z"
    },
    "hidden": true
   },
   "outputs": [],
   "source": [
    "# transforms 'date' column to datetime type\n",
    "df1['date'] = pd.to_datetime(df1['date'])\n",
    "df1.dtypes"
   ]
  },
  {
   "cell_type": "markdown",
   "metadata": {
    "hidden": true
   },
   "source": [
    "## 1.4.  Checking NaN values\n",
    "Verifies the presence of missing values."
   ]
  },
  {
   "cell_type": "code",
   "execution_count": null,
   "metadata": {
    "ExecuteTime": {
     "end_time": "2020-05-31T18:54:07.229319Z",
     "start_time": "2020-05-31T18:54:07.057781Z"
    },
    "hidden": true
   },
   "outputs": [],
   "source": [
    "df1.isna().sum()"
   ]
  },
  {
   "cell_type": "markdown",
   "metadata": {
    "hidden": true
   },
   "source": [
    "We noticed that we have a lot of missing data. We can chosse one of the following three paths:\n",
    "\n",
    "**1) Exclude all lines that have missing data**, but we may lose important information that the ML algorithm may need and negatively impact the forecasting.\n",
    "\n",
    "**2) Use ML techniques to fill in the missing data** and predict what value would replace the `NaN`. This method is good when we don't have business information available.\n",
    "\n",
    "**3) Really understand the business.** Understand the business rules and fill in the missing data with relevant information."
   ]
  },
  {
   "cell_type": "markdown",
   "metadata": {
    "hidden": true
   },
   "source": [
    "## 1.5.  Filling out the NaN values\n",
    "We chose the method 3 (understand the business)."
   ]
  },
  {
   "cell_type": "markdown",
   "metadata": {
    "hidden": true
   },
   "source": [
    "### 1.5.1 Filling the competition data"
   ]
  },
  {
   "cell_type": "code",
   "execution_count": null,
   "metadata": {
    "ExecuteTime": {
     "end_time": "2020-05-31T18:54:07.243909Z",
     "start_time": "2020-05-31T18:54:07.231233Z"
    },
    "hidden": true
   },
   "outputs": [],
   "source": [
    "# checks the maximum distance to the nearest competitor\n",
    "df1['competition_distance'].max()"
   ]
  },
  {
   "cell_type": "code",
   "execution_count": null,
   "metadata": {
    "ExecuteTime": {
     "end_time": "2020-05-31T18:55:06.891065Z",
     "start_time": "2020-05-31T18:54:07.247031Z"
    },
    "code_folding": [],
    "hidden": true
   },
   "outputs": [],
   "source": [
    "# competition_distance\n",
    "# let's assume that the distance from competitors is so long that there are no competitors\n",
    "# applies for each column record: competition_distance\n",
    "#     assign 200000.0 if record == NaN ; assign its current value if record != NaN\n",
    "df1['competition_distance'] = df1['competition_distance'].apply(lambda x: 200000.0 if math.isnan(x) else x)\n",
    "\n",
    "# competition_open_since_month\n",
    "# let's assume that the opening date is the store sales date: date\n",
    "# axis=1 -> apply in the row along the columns, because we have more than one column in the expression\n",
    "df1['competition_open_since_month'] = df1.apply(lambda x: x['date'].month if math.isnan(x['competition_open_since_month']) else x['competition_open_since_month'], axis=1)\n",
    "\n",
    "# competition_open_since_year \n",
    "df1['competition_open_since_year'] = df1.apply(lambda x: x['date'].year if math.isnan(x['competition_open_since_year']) else x['competition_open_since_year'], axis=1)"
   ]
  },
  {
   "cell_type": "code",
   "execution_count": null,
   "metadata": {
    "ExecuteTime": {
     "end_time": "2020-05-31T18:55:06.954602Z",
     "start_time": "2020-05-31T18:55:06.893383Z"
    },
    "hidden": true
   },
   "outputs": [],
   "source": [
    "# checks the operations\n",
    "df1.sample(5).T"
   ]
  },
  {
   "cell_type": "markdown",
   "metadata": {
    "hidden": true
   },
   "source": [
    "### 1.5.2 Filling the promotion data"
   ]
  },
  {
   "cell_type": "code",
   "execution_count": null,
   "metadata": {
    "ExecuteTime": {
     "end_time": "2020-05-31T18:56:07.065957Z",
     "start_time": "2020-05-31T18:55:06.957071Z"
    },
    "code_folding": [],
    "hidden": true
   },
   "outputs": [],
   "source": [
    "# promo2_since_week\n",
    "df1['promo2_since_week'] = df1.apply(lambda x: x['date'].week if math.isnan(x['promo2_since_week']) else x['promo2_since_week'], axis=1)\n",
    "\n",
    "# promo2_since_year\n",
    "df1['promo2_since_year'] = df1.apply(lambda x: x['date'].year if math.isnan(x['promo2_since_year']) else x['promo2_since_year'], axis=1)"
   ]
  },
  {
   "cell_type": "code",
   "execution_count": null,
   "metadata": {
    "ExecuteTime": {
     "end_time": "2020-05-31T18:56:07.193207Z",
     "start_time": "2020-05-31T18:56:07.068141Z"
    },
    "hidden": true
   },
   "outputs": [],
   "source": [
    "# promo_interval\n",
    "\n",
    "# creates a dictionary that will help in mapping\n",
    "month_map = {1: 'Jan', 2: 'Fev', 3: 'Mar', 4: 'Apr', 5: 'May', 6: 'Jun',\n",
    "             7: 'Jul', 8: 'Aug', 9: 'Sep', 10: 'Oct', 11: 'Nov', 12: 'Dec'}\n",
    "\n",
    "# fills in the NaN with zeroes\n",
    "df1['promo_interval'].fillna(0, inplace=True)\n",
    "\n",
    "# creates the 'month_map' column as the month mapping of the 'date' column\n",
    "df1['month_map'] = df1['date'].dt.month.map(month_map)"
   ]
  },
  {
   "cell_type": "code",
   "execution_count": null,
   "metadata": {
    "ExecuteTime": {
     "end_time": "2020-05-31T18:56:07.309674Z",
     "start_time": "2020-05-31T18:56:07.196194Z"
    },
    "hidden": true
   },
   "outputs": [],
   "source": [
    "# checks the operations\n",
    "df1.sample(5).T"
   ]
  },
  {
   "cell_type": "code",
   "execution_count": null,
   "metadata": {
    "ExecuteTime": {
     "end_time": "2020-05-31T18:56:32.129783Z",
     "start_time": "2020-05-31T18:56:07.312015Z"
    },
    "hidden": true
   },
   "outputs": [],
   "source": [
    "# make a split in 'promo_interval' column and creates a list containing the values\n",
    "# check if the value of 'month_map' is within that list\n",
    "# creates column 'is_promo' with numeric values (1 = was in promo or 0 = was not in promo) based on the verification\n",
    "df1['is_promo'] = df1[['promo_interval','month_map']].apply(lambda x: 0 if x['promo_interval'] == 0 else 1 if x['month_map'] in x['promo_interval'].split(',') else 0, axis=1)"
   ]
  },
  {
   "cell_type": "code",
   "execution_count": null,
   "metadata": {
    "ExecuteTime": {
     "end_time": "2020-05-31T18:56:32.269429Z",
     "start_time": "2020-05-31T18:56:32.131878Z"
    },
    "hidden": true
   },
   "outputs": [],
   "source": [
    "# checks the operations\n",
    "df1.sample(5).T"
   ]
  },
  {
   "cell_type": "markdown",
   "metadata": {
    "hidden": true
   },
   "source": [
    "### 1.5.4 Checking the final values"
   ]
  },
  {
   "cell_type": "code",
   "execution_count": null,
   "metadata": {
    "ExecuteTime": {
     "end_time": "2020-05-31T18:56:32.475519Z",
     "start_time": "2020-05-31T18:56:32.271765Z"
    },
    "hidden": true
   },
   "outputs": [],
   "source": [
    "# checks the operations\n",
    "df1.isna().sum()"
   ]
  },
  {
   "cell_type": "markdown",
   "metadata": {
    "hidden": true
   },
   "source": [
    "## 1.6.  Changing data types"
   ]
  },
  {
   "cell_type": "code",
   "execution_count": null,
   "metadata": {
    "ExecuteTime": {
     "end_time": "2020-05-31T18:56:32.483324Z",
     "start_time": "2020-05-31T18:56:32.477668Z"
    },
    "hidden": true
   },
   "outputs": [],
   "source": [
    "# checks columns data types\n",
    "df1.dtypes"
   ]
  },
  {
   "cell_type": "markdown",
   "metadata": {
    "hidden": true
   },
   "source": [
    "We notice that the following columns are `float64`:\n",
    "- `competition_open_since_month`\n",
    "- `competition_open_since_year`\n",
    "- `promo2_since_week` \n",
    "- `promo2_since_year` \n",
    "\n",
    "However, they are actually `int` values as they represent months and years which are discrete values. Thus, we can do:"
   ]
  },
  {
   "cell_type": "code",
   "execution_count": null,
   "metadata": {
    "ExecuteTime": {
     "end_time": "2020-05-31T18:56:32.549592Z",
     "start_time": "2020-05-31T18:56:32.491195Z"
    },
    "hidden": true
   },
   "outputs": [],
   "source": [
    "# transforms competition data to int\n",
    "df1['competition_open_since_month'] = df1['competition_open_since_month'].astype(int)\n",
    "df1['competition_open_since_year'] = df1['competition_open_since_year'].astype(int)\n",
    "\n",
    "# transforms promotion data to int\n",
    "df1['promo2_since_week'] = df1['promo2_since_week'].astype(int)\n",
    "df1['promo2_since_year'] = df1['promo2_since_year'].astype(int)"
   ]
  },
  {
   "cell_type": "code",
   "execution_count": null,
   "metadata": {
    "ExecuteTime": {
     "end_time": "2020-05-31T18:56:32.560504Z",
     "start_time": "2020-05-31T18:56:32.554944Z"
    },
    "hidden": true
   },
   "outputs": [],
   "source": [
    "# checks the operations\n",
    "df1.dtypes"
   ]
  },
  {
   "cell_type": "markdown",
   "metadata": {
    "hidden": true
   },
   "source": [
    "## 1.7. Descriptive Statistics"
   ]
  },
  {
   "cell_type": "markdown",
   "metadata": {
    "hidden": true
   },
   "source": [
    "It is through the descriptive statistics that we are able to get a notion from the business. It helps detect some errors.\n",
    "\n",
    "Thereare two big metrics that we have to keep our eyes on: **data distribution and central tendency**.\n",
    "\n",
    "**Central tendency:** summary statistics like median, mean, max, min, quantiles.\n",
    "\n",
    "**Data distribution:** we need to know how the data is distributed around the median and mean.\n",
    "\n",
    "Other important statistics: **skewness and kurtosis**.\n",
    "\n",
    "Also, check how variabless behave and look for negative values that shouldn't be."
   ]
  },
  {
   "cell_type": "code",
   "execution_count": null,
   "metadata": {
    "ExecuteTime": {
     "end_time": "2020-05-31T18:56:32.774346Z",
     "start_time": "2020-05-31T18:56:32.562953Z"
    },
    "hidden": true
   },
   "outputs": [],
   "source": [
    "# creates a dataset for numerical attributes\n",
    "num_attributes = df1.select_dtypes(include=['int64','float64'])\n",
    "\n",
    "# creates a dataset for categorical attributes\n",
    "cat_attributes = df1.select_dtypes(exclude=['int64','float64', 'datetime64[ns]'])"
   ]
  },
  {
   "cell_type": "code",
   "execution_count": null,
   "metadata": {
    "ExecuteTime": {
     "end_time": "2020-05-31T18:56:32.823628Z",
     "start_time": "2020-05-31T18:56:32.776824Z"
    },
    "hidden": true
   },
   "outputs": [],
   "source": [
    "# checks the operation\n",
    "num_attributes.sample(2)"
   ]
  },
  {
   "cell_type": "code",
   "execution_count": null,
   "metadata": {
    "ExecuteTime": {
     "end_time": "2020-05-31T18:56:32.878373Z",
     "start_time": "2020-05-31T18:56:32.825576Z"
    },
    "hidden": true
   },
   "outputs": [],
   "source": [
    "# checks the operation\n",
    "cat_attributes.sample(2)"
   ]
  },
  {
   "cell_type": "markdown",
   "metadata": {
    "hidden": true
   },
   "source": [
    "### 1.7.1 Numerical attributes"
   ]
  },
  {
   "cell_type": "code",
   "execution_count": null,
   "metadata": {
    "ExecuteTime": {
     "end_time": "2020-05-31T18:56:36.744666Z",
     "start_time": "2020-05-31T18:56:32.880537Z"
    },
    "code_folding": [],
    "hidden": true
   },
   "outputs": [],
   "source": [
    "# central tendency: mean, median\n",
    "mean = pd.DataFrame(num_attributes.apply(np.mean)).T\n",
    "median = pd.DataFrame(num_attributes.apply(np.median)).T\n",
    "\n",
    "# distribution: std, min, max, range, skew, kurtosis\n",
    "std = pd.DataFrame(num_attributes.apply(np.std)).T\n",
    "min_value = pd.DataFrame(num_attributes.apply(min)).T\n",
    "max_value = pd.DataFrame(num_attributes.apply(max)).T\n",
    "range_value = pd.DataFrame(num_attributes.apply(lambda x: x.max() - x.min())).T\n",
    "skewness = pd.DataFrame(num_attributes.apply(lambda x: x.skew())).T\n",
    "kurtosis = pd.DataFrame(num_attributes.apply(lambda x: x.kurtosis())).T\n",
    "\n",
    "# concatenates\n",
    "summary_stats = pd.concat([min_value, max_value, range_value, mean, median, std, skewness, kurtosis]).T.reset_index()\n",
    "summary_stats.columns = ['attributes','min','max','range','mean','median','std','skewness','kurtosis']"
   ]
  },
  {
   "cell_type": "code",
   "execution_count": null,
   "metadata": {
    "ExecuteTime": {
     "end_time": "2020-05-31T18:56:36.763657Z",
     "start_time": "2020-05-31T18:56:36.747116Z"
    },
    "hidden": true
   },
   "outputs": [],
   "source": [
    "# checking the operations\n",
    "summary_stats"
   ]
  },
  {
   "cell_type": "markdown",
   "metadata": {
    "hidden": true
   },
   "source": [
    "#### Plotting distribution for `sales`"
   ]
  },
  {
   "cell_type": "code",
   "execution_count": null,
   "metadata": {
    "ExecuteTime": {
     "end_time": "2020-05-31T18:56:38.790813Z",
     "start_time": "2020-05-31T18:56:36.765568Z"
    },
    "hidden": true
   },
   "outputs": [],
   "source": [
    "# plots distribution\n",
    "ax = sns.distplot(df1['sales'])\n",
    "\n",
    "# sets the figure size in inches\n",
    "ax.figure.set_size_inches(12, 6)\n",
    "\n",
    "# displays plot\n",
    "plt.show()"
   ]
  },
  {
   "cell_type": "markdown",
   "metadata": {
    "hidden": true
   },
   "source": [
    "#### Plotting distribution for `competition_distance`"
   ]
  },
  {
   "cell_type": "code",
   "execution_count": null,
   "metadata": {
    "ExecuteTime": {
     "end_time": "2020-05-31T18:56:40.673222Z",
     "start_time": "2020-05-31T18:56:38.793181Z"
    },
    "hidden": true
   },
   "outputs": [],
   "source": [
    "# plots distribution\n",
    "ax = sns.distplot(df1['competition_distance'])\n",
    "\n",
    "# sets the figure size in inches\n",
    "ax.figure.set_size_inches(12, 6)\n",
    "\n",
    "# displays plot\n",
    "plt.show()"
   ]
  },
  {
   "cell_type": "markdown",
   "metadata": {
    "hidden": true
   },
   "source": [
    "#### Using pandas.describe"
   ]
  },
  {
   "cell_type": "code",
   "execution_count": null,
   "metadata": {
    "ExecuteTime": {
     "end_time": "2020-05-31T18:56:41.127267Z",
     "start_time": "2020-05-31T18:56:40.675413Z"
    },
    "hidden": true
   },
   "outputs": [],
   "source": [
    "num_attributes.describe().T"
   ]
  },
  {
   "cell_type": "markdown",
   "metadata": {
    "hidden": true
   },
   "source": [
    "### 1.7.1 Categorical attributes"
   ]
  },
  {
   "cell_type": "code",
   "execution_count": null,
   "metadata": {
    "ExecuteTime": {
     "end_time": "2020-05-31T18:56:41.266557Z",
     "start_time": "2020-05-31T18:56:41.129486Z"
    },
    "hidden": true
   },
   "outputs": [],
   "source": [
    "# checks how many types we have for each atribute\n",
    "cat_attributes.apply(lambda x: x.unique().shape[0])"
   ]
  },
  {
   "cell_type": "markdown",
   "metadata": {
    "hidden": true
   },
   "source": [
    "#### Plotting boxplots for `state_holiday`, `store_type` and `assortment` in relation to `sales`"
   ]
  },
  {
   "cell_type": "code",
   "execution_count": null,
   "metadata": {
    "ExecuteTime": {
     "end_time": "2020-05-31T18:56:41.769343Z",
     "start_time": "2020-05-31T18:56:41.268827Z"
    },
    "hidden": true
   },
   "outputs": [],
   "source": [
    "# filters the data that we want to display\n",
    "# as we don't want to see all the days on which the stores were closed\n",
    "aux1 = df1[(df1['state_holiday'] != '0') & (df1['sales'] > 0)]\n",
    "\n",
    "# uses the variable ax for single a Axes\n",
    "fig, ax = plt.subplots()\n",
    "\n",
    "# sets the figure size in inches\n",
    "ax.figure.set_size_inches(16, 8)\n",
    "\n",
    "plt.subplot(1, 3, 1)\n",
    "ax = sns.boxplot(x='state_holiday', y='sales', data=aux1)\n",
    "\n",
    "plt.subplot(1, 3, 2)\n",
    "ax = sns.boxplot(x='store_type', y='sales', data=aux1)\n",
    "\n",
    "plt.subplot(1, 3, 3)\n",
    "ax = sns.boxplot(x='assortment', y='sales', data=aux1)\n",
    "\n",
    "# displays plot\n",
    "plt.show()"
   ]
  },
  {
   "cell_type": "markdown",
   "metadata": {
    "heading_collapsed": true
   },
   "source": [
    "# 2.0 FEATURE ENGINEERING"
   ]
  },
  {
   "cell_type": "markdown",
   "metadata": {
    "heading_collapsed": true,
    "hidden": true
   },
   "source": [
    "### 2.0.1 Project Checkpoint\n",
    "Let's save our progress and make a checkpoint in our project by making a copy of `df1`. So we don't have to run everything from the start. We can start from here."
   ]
  },
  {
   "cell_type": "code",
   "execution_count": null,
   "metadata": {
    "ExecuteTime": {
     "end_time": "2020-05-31T18:56:41.824745Z",
     "start_time": "2020-05-31T18:56:41.772067Z"
    },
    "hidden": true
   },
   "outputs": [],
   "source": [
    "# copies df1 to df2\n",
    "df2 = df1.copy()"
   ]
  },
  {
   "cell_type": "markdown",
   "metadata": {
    "heading_collapsed": true,
    "hidden": true
   },
   "source": [
    "## 2.1 Hypothesis Mindmap\n",
    "In real life, we draw the mindmap with the stakeholders in a brainstorm-like meeting."
   ]
  },
  {
   "cell_type": "code",
   "execution_count": null,
   "metadata": {
    "ExecuteTime": {
     "end_time": "2020-06-01T13:45:12.746125Z",
     "start_time": "2020-06-01T13:45:12.701371Z"
    },
    "hidden": true
   },
   "outputs": [],
   "source": [
    "# displays the mindmap\n",
    "Image('../img/hypothesis_map.png')"
   ]
  },
  {
   "cell_type": "markdown",
   "metadata": {
    "heading_collapsed": true,
    "hidden": true
   },
   "source": [
    "## 2.2 Creating hypothesis\n",
    "\n",
    "Creating hypothesis for each variable that you believe that impact in the phenomenon that we are studying, in this case, **Daily Store Sales**, and relate each variable's attributes with the phenomenon.\n",
    "\n",
    "In real life, we outline the hypothesis in a brainstorm-like meeting with the stakeholders."
   ]
  },
  {
   "cell_type": "markdown",
   "metadata": {
    "heading_collapsed": true,
    "hidden": true
   },
   "source": [
    "### 2.2.1 Store Hypothesis"
   ]
  },
  {
   "cell_type": "markdown",
   "metadata": {
    "hidden": true
   },
   "source": [
    "**1.** Stores with higher number of employees should have higher sales.\n",
    "\n",
    "**2.** Stores with higher stock should should have higher sales.\n",
    "\n",
    "**3.** Stores with higher size should should have higher sales.\n",
    "\n",
    "**4.** Stores with lesser size should have lesser sales.\n",
    "\n",
    "**5.** Stores with higher assortment should should have higher sales.\n",
    "\n",
    "**6.** Stores with nearer competitors should have lesser sales.\n",
    "\n",
    "**7.** Stores with longer competitors should have higher sales."
   ]
  },
  {
   "cell_type": "markdown",
   "metadata": {
    "heading_collapsed": true,
    "hidden": true
   },
   "source": [
    "### 2.2.2 Product Hypothesis"
   ]
  },
  {
   "cell_type": "markdown",
   "metadata": {
    "hidden": true
   },
   "source": [
    "**1.** Stores with higher investments in marketing should have higher sales.\n",
    "\n",
    "**2.** Stores with higher product exposure should should have higher sales.\n",
    "\n",
    "**3.** Stores with lesser product prices should should have higher sales.\n",
    "\n",
    "**4.** Stores with higher discount values should should have higher sales.\n",
    "\n",
    "**5.** Stores with lesser product prices for longer period of time should should have higher sales.\n",
    "\n",
    "**6.** Stores with longer period of time in promotion should have higher sales.\n",
    "\n",
    "**7.** Stores with higher consecutive promotions should have higher sales."
   ]
  },
  {
   "cell_type": "markdown",
   "metadata": {
    "heading_collapsed": true,
    "hidden": true
   },
   "source": [
    "### 2.2.3 Season Hypothesis"
   ]
  },
  {
   "cell_type": "markdown",
   "metadata": {
    "hidden": true
   },
   "source": [
    "**1.** Stores that open on Xmas should have higher sales. \n",
    "\n",
    "**2.** Stores should have higher sales along the year.\n",
    "\n",
    "**3.** Stores should have higher sales on the second semester of the year.\n",
    "\n",
    "**4.** Stores should have higher sales after the 10th day of the month.\n",
    "\n",
    "**5.** Stores should have lesser sales on weekends.\n",
    "\n",
    "**6.** Stores should have lesser sales during school holidays."
   ]
  },
  {
   "cell_type": "markdown",
   "metadata": {
    "heading_collapsed": true,
    "hidden": true
   },
   "source": [
    "## 2.3 Prioritized hypothesis list\n",
    "We prioritize the hypothesis based on: whether we have or not the data at hand.\n",
    "\n",
    "There may be data that we don't have it at hand and we need to spend some time on accessing it, collecting it, cleaning it and analyzing it."
   ]
  },
  {
   "cell_type": "markdown",
   "metadata": {
    "hidden": true
   },
   "source": [
    "**Store**\n",
    "\n",
    "**1.** Stores with higher assortment should have higher sales.\n",
    "\n",
    "**2.** Stores with nearer competitors should have lesser sales.\n",
    "\n",
    "**3.** Stores with longer competitors should have higher sales.\n",
    "\n",
    "<br>\n",
    "\n",
    "**Product**\n",
    "\n",
    "**4.** Stores with lesser product prices for longer period of time should have higher sales.\n",
    "\n",
    "**5.** Stores with longer period of time in promotion should have higher sales.\n",
    "\n",
    "**6.** Stores with higher consecutive promotions should have higher sales.\n",
    "\n",
    "<br>\n",
    "\n",
    "**Season**\n",
    "\n",
    "**7.** Stores that open on Xmas should have higher sales. \n",
    "\n",
    "**8.** Stores should have higher sales along the years.\n",
    "\n",
    "**9.** Stores should have higher sales on the second semester of the year.\n",
    "\n",
    "**10.** Stores should have higher sales after the 10th day of the month.\n",
    "\n",
    "**11.** Stores should have lesser sales on weekends.\n",
    "\n",
    "**12.** Stores should have lesser sales during school holidays."
   ]
  },
  {
   "cell_type": "markdown",
   "metadata": {
    "heading_collapsed": true,
    "hidden": true
   },
   "source": [
    "## 2.4 Feature engineering - de facto\n",
    "In this section, we are going to create some variables (columns) in our dataset to make easier do explore the dataset in the EDA phase."
   ]
  },
  {
   "cell_type": "code",
   "execution_count": null,
   "metadata": {
    "ExecuteTime": {
     "end_time": "2020-05-31T18:56:47.726063Z",
     "start_time": "2020-05-31T18:56:41.878131Z"
    },
    "hidden": true
   },
   "outputs": [],
   "source": [
    "# year\n",
    "df2['year'] = df2['date'].dt.year\n",
    "\n",
    "# month\n",
    "df2['month'] = df2['date'].dt.month\n",
    "\n",
    "# day\n",
    "df2['day'] = df2['date'].dt.day\n",
    "\n",
    "# week of year\n",
    "df2['week_of_year'] = df2['date'].dt.weekofyear\n",
    "\n",
    "# year week\n",
    "df2['year_week'] = df2['date'].dt.strftime('%Y-%W')"
   ]
  },
  {
   "cell_type": "code",
   "execution_count": null,
   "metadata": {
    "ExecuteTime": {
     "end_time": "2020-05-31T18:56:47.747211Z",
     "start_time": "2020-05-31T18:56:47.728678Z"
    },
    "hidden": true
   },
   "outputs": [],
   "source": [
    "# checks the operations\n",
    "df2.head().T"
   ]
  },
  {
   "cell_type": "code",
   "execution_count": null,
   "metadata": {
    "ExecuteTime": {
     "end_time": "2020-05-31T18:57:15.984988Z",
     "start_time": "2020-05-31T18:56:47.750071Z"
    },
    "code_folding": [],
    "hidden": true
   },
   "outputs": [],
   "source": [
    "# competition since\n",
    "\n",
    "# creates a new datetime column 'competition_since' which is a compound of two columns\n",
    "# we are specifying that it will always have the 1st day of the month\n",
    "df2['competition_since'] = df2.apply(lambda x: \n",
    "                                     datetime.datetime(year=x['competition_open_since_year'], \n",
    "                                                                 month=x['competition_open_since_month'], \n",
    "                                                                 day=1), \n",
    "                                     axis=1)"
   ]
  },
  {
   "cell_type": "code",
   "execution_count": null,
   "metadata": {
    "ExecuteTime": {
     "end_time": "2020-05-31T18:57:16.004591Z",
     "start_time": "2020-05-31T18:57:15.987135Z"
    },
    "hidden": true
   },
   "outputs": [],
   "source": [
    "# checks the operations\n",
    "df2.head().T"
   ]
  },
  {
   "cell_type": "code",
   "execution_count": null,
   "metadata": {
    "ExecuteTime": {
     "end_time": "2020-05-31T18:57:25.134752Z",
     "start_time": "2020-05-31T18:57:16.006828Z"
    },
    "hidden": true
   },
   "outputs": [],
   "source": [
    "# How many months has passed since the competition store opened?\n",
    "# gets the difference between columns and divides it by 30 to make the monthly granularity\n",
    "#     then we get the days as int type\n",
    "df2['competition_time_month'] = ((df2['date'] - df2['competition_since']) / 30).apply(lambda x: x.days).astype(int)"
   ]
  },
  {
   "cell_type": "code",
   "execution_count": null,
   "metadata": {
    "ExecuteTime": {
     "end_time": "2020-05-31T18:57:25.152031Z",
     "start_time": "2020-05-31T18:57:25.136679Z"
    },
    "hidden": true
   },
   "outputs": [],
   "source": [
    "# checks the operations\n",
    "df2.head().T"
   ]
  },
  {
   "cell_type": "code",
   "execution_count": null,
   "metadata": {
    "ExecuteTime": {
     "end_time": "2020-05-31T18:57:45.946400Z",
     "start_time": "2020-05-31T18:57:25.153870Z"
    },
    "hidden": true
   },
   "outputs": [],
   "source": [
    "# promo since\n",
    "df2['promo_since'] = df2['promo2_since_year'].astype(str) + '-' +df2['promo2_since_week'].astype(str)\n",
    "\n",
    "# converts values from 'promo_since' to datetime considering 7 days\n",
    "df2['promo_since'] = df2['promo_since'].apply(lambda x: \n",
    "                         datetime.datetime.strptime(x + '-1', '%Y-%W-%w') - datetime.timedelta(days=7))\n",
    "\n",
    "# How many weeks has passed since the promotion started?\n",
    "# OR for how long (in weeks) the promotion is active?\n",
    "# gets the difference between columns and divides it by 7 to make the weekly granularity\n",
    "#     then we get the days as int type\n",
    "df2['promo_time_week'] = ((df2['date'] - df2['promo_since']) / 7).apply(lambda x: x.days).astype(int)"
   ]
  },
  {
   "cell_type": "code",
   "execution_count": null,
   "metadata": {
    "ExecuteTime": {
     "end_time": "2020-05-31T18:57:45.964537Z",
     "start_time": "2020-05-31T18:57:45.948287Z"
    },
    "hidden": true
   },
   "outputs": [],
   "source": [
    "# checks the operations\n",
    "df2.head().T"
   ]
  },
  {
   "cell_type": "code",
   "execution_count": null,
   "metadata": {
    "ExecuteTime": {
     "end_time": "2020-05-31T18:57:46.340654Z",
     "start_time": "2020-05-31T18:57:45.966517Z"
    },
    "hidden": true
   },
   "outputs": [],
   "source": [
    "# assortment\n",
    "# replaces the values to make easier to understand them\n",
    "df2['assortment'] = df2['assortment'].apply(lambda x: 'basic' if x == 'a' else 'extra' if x == 'b' else 'extended')\n",
    "\n",
    "# state holiday\n",
    "# replaces the values to make easier to understand them\n",
    "df2['state_holiday'] = df2['state_holiday'].apply(lambda x: 'public_holiday' if x == 'a' else 'easter_holiday' if x == 'b' else 'christmas' if x == 'c' else 'regular_day')"
   ]
  },
  {
   "cell_type": "code",
   "execution_count": null,
   "metadata": {
    "ExecuteTime": {
     "end_time": "2020-05-31T18:57:46.359446Z",
     "start_time": "2020-05-31T18:57:46.342793Z"
    },
    "hidden": true
   },
   "outputs": [],
   "source": [
    "# checks the operations\n",
    "df2.head().T"
   ]
  },
  {
   "cell_type": "markdown",
   "metadata": {
    "heading_collapsed": true
   },
   "source": [
    "# 3.0 VARIABLE FILTERING"
   ]
  },
  {
   "cell_type": "markdown",
   "metadata": {
    "heading_collapsed": true,
    "hidden": true
   },
   "source": [
    "### 3.0.1 Project Checkpoint\n",
    "Let's save our progress and make a checkpoint in our project by making a copy of `df2`. So we don't have to run everything from the start. We can start from here."
   ]
  },
  {
   "cell_type": "code",
   "execution_count": null,
   "metadata": {
    "ExecuteTime": {
     "end_time": "2020-05-31T18:57:46.713521Z",
     "start_time": "2020-05-31T18:57:46.361932Z"
    },
    "hidden": true
   },
   "outputs": [],
   "source": [
    "# copies df2 to df3\n",
    "df3 = df2.copy()"
   ]
  },
  {
   "cell_type": "code",
   "execution_count": null,
   "metadata": {
    "ExecuteTime": {
     "end_time": "2020-05-31T18:57:46.737549Z",
     "start_time": "2020-05-31T18:57:46.715656Z"
    },
    "hidden": true
   },
   "outputs": [],
   "source": [
    "# checks the dataset\n",
    "df3.head()"
   ]
  },
  {
   "cell_type": "markdown",
   "metadata": {
    "heading_collapsed": true,
    "hidden": true
   },
   "source": [
    "## 3.1 Row filtering\n",
    "We're going to filter the rows first, because the performance is better when fltering the columns later. There are less data to process."
   ]
  },
  {
   "cell_type": "markdown",
   "metadata": {
    "hidden": true
   },
   "source": [
    "As it makes no sense to get data from closed stores (`open = 0`), we'll consider only the rows where `open = 1` which is the same as saying `'open' != 0`.\n",
    "\n",
    "As closed stores have 0 sales, we'll consider only the sales from open stores (`open = 1`), that is, `'sales' > 0`."
   ]
  },
  {
   "cell_type": "code",
   "execution_count": null,
   "metadata": {
    "ExecuteTime": {
     "end_time": "2020-05-31T18:57:46.908955Z",
     "start_time": "2020-05-31T18:57:46.739809Z"
    },
    "hidden": true
   },
   "outputs": [],
   "source": [
    "# gets only the rows for open stores and sales above zero\n",
    "df3 = df3[(df3['open'] != 0) & (df3['sales'] > 0)]"
   ]
  },
  {
   "cell_type": "markdown",
   "metadata": {
    "heading_collapsed": true,
    "hidden": true
   },
   "source": [
    "## 3.2 Column filtering"
   ]
  },
  {
   "cell_type": "markdown",
   "metadata": {
    "hidden": true
   },
   "source": [
    "We don't have the number of `customers` at the moment of the prediction. We would need other ML model to predict it and use it here. The scope of this project will not consider the customers, so we'll classify it as a business restriction.\n",
    "\n",
    "In the previous step, as we filtered only the rows where `open = 1`, it makes no sense to keep the column `open` because it has only values equal to `1`.\n",
    "\n",
    "Also, the columns `promo_interval` and `month_map` were only used to derive other columns. Thus, we don't need them anymore."
   ]
  },
  {
   "cell_type": "code",
   "execution_count": null,
   "metadata": {
    "ExecuteTime": {
     "end_time": "2020-05-31T18:57:47.047685Z",
     "start_time": "2020-05-31T18:57:46.911158Z"
    },
    "hidden": true
   },
   "outputs": [],
   "source": [
    "# drops the columns\n",
    "cols_drop = ['customers', 'open', 'promo_interval', 'month_map']\n",
    "\n",
    "# drops the columns\n",
    "df3 = df3.drop(cols_drop, axis=1)"
   ]
  },
  {
   "cell_type": "code",
   "execution_count": null,
   "metadata": {
    "ExecuteTime": {
     "end_time": "2020-05-31T18:57:47.054275Z",
     "start_time": "2020-05-31T18:57:47.049727Z"
    },
    "hidden": true
   },
   "outputs": [],
   "source": [
    "# checks the operation\n",
    "df3.columns"
   ]
  },
  {
   "cell_type": "markdown",
   "metadata": {
    "heading_collapsed": true
   },
   "source": [
    "# 4.0 EXPLORATORY DATA ANALYSIS"
   ]
  },
  {
   "cell_type": "markdown",
   "metadata": {
    "heading_collapsed": true,
    "hidden": true
   },
   "source": [
    "### 4.0.1 Project Checkpoint\n",
    "Let's save our progress and make a checkpoint in our project by making a copy of `df3`. So we don't have to run everything from the start. We can start from here."
   ]
  },
  {
   "cell_type": "code",
   "execution_count": null,
   "metadata": {
    "ExecuteTime": {
     "end_time": "2020-05-31T18:57:47.105354Z",
     "start_time": "2020-05-31T18:57:47.056783Z"
    },
    "hidden": true
   },
   "outputs": [],
   "source": [
    "# copies df3 to df4\n",
    "df4 = df3.copy()"
   ]
  },
  {
   "cell_type": "code",
   "execution_count": null,
   "metadata": {
    "ExecuteTime": {
     "end_time": "2020-05-31T18:57:47.128783Z",
     "start_time": "2020-05-31T18:57:47.107599Z"
    },
    "hidden": true
   },
   "outputs": [],
   "source": [
    "# checks the dataset\n",
    "df4.head()"
   ]
  },
  {
   "cell_type": "markdown",
   "metadata": {
    "heading_collapsed": true,
    "hidden": true
   },
   "source": [
    "## 4.1 Univariate analysis"
   ]
  },
  {
   "cell_type": "markdown",
   "metadata": {
    "heading_collapsed": true,
    "hidden": true
   },
   "source": [
    "### 4.1.1 Target variable"
   ]
  },
  {
   "cell_type": "code",
   "execution_count": null,
   "metadata": {
    "ExecuteTime": {
     "end_time": "2020-05-31T18:57:49.032273Z",
     "start_time": "2020-05-31T18:57:47.131414Z"
    },
    "hidden": true
   },
   "outputs": [],
   "source": [
    "# plots distribution\n",
    "ax = sns.distplot(df4['sales'])\n",
    "\n",
    "# sets the figure size in inches\n",
    "ax.figure.set_size_inches(12, 6)\n",
    "\n",
    "# displays plot\n",
    "plt.show()"
   ]
  },
  {
   "cell_type": "markdown",
   "metadata": {
    "hidden": true
   },
   "source": [
    "As we can observe, the distribution is **moderately skewed** (`skewness = 0.641460`) and presents a **positive kurtosis** (`1.778375`) which means that we have some possible outliers in our dataset. Thus, the distribution **does not follow a normal distribution**.\n",
    "\n",
    "As the ML algorithms requires our data to have **independent variables and normal distribution**, we can apply some techniques to do the variable transformation."
   ]
  },
  {
   "cell_type": "code",
   "execution_count": null,
   "metadata": {
    "ExecuteTime": {
     "end_time": "2020-05-31T18:57:50.966543Z",
     "start_time": "2020-05-31T18:57:49.034743Z"
    },
    "hidden": true
   },
   "outputs": [],
   "source": [
    "# distribution plotting for 'sales'\n",
    "# applies log(x + 1) to 'sales'\n",
    "ax = sns.distplot(np.log1p(df4['sales']))\n",
    "\n",
    "# setting the figure size in inches\n",
    "ax.figure.set_size_inches(12, 6)\n",
    "\n",
    "# display plot\n",
    "plt.show()"
   ]
  },
  {
   "cell_type": "markdown",
   "metadata": {
    "heading_collapsed": true,
    "hidden": true
   },
   "source": [
    "### 4.1.2 Numerical variable (TO DO = Seaborn multi var hist plot)"
   ]
  },
  {
   "cell_type": "code",
   "execution_count": null,
   "metadata": {
    "ExecuteTime": {
     "end_time": "2020-05-31T18:57:54.775348Z",
     "start_time": "2020-05-31T18:57:50.969189Z"
    },
    "hidden": true
   },
   "outputs": [],
   "source": [
    "# sets the figure size\n",
    "fig = plt.figure(figsize = (18,16))\n",
    "\n",
    "# sets axes\n",
    "ax = fig.gca()\n",
    "\n",
    "# plots histograms\n",
    "num_attributes.hist(ax=ax, bins=25);"
   ]
  },
  {
   "cell_type": "markdown",
   "metadata": {
    "hidden": true
   },
   "source": [
    "Analyzing the histograms, for:\n",
    "- `competition_distance`: we have more competitors that are near the stores, as they gather in the range from 0 to near 50000. \n",
    "- `competition_open_since_month`: we have a somewhat seasonal opening of competitor stores.\n",
    "- `day_of_week`: we have a distribution that is nearly uniform, this tells us that the sales nearly don't vary according to the day of the week. Thus, this variable, alone, doesn't have much relevance to the model.\n",
    "- `is_promo`: we have higher sales when there is no promotion (`is_promo = 0`) than when we have (`is_promo = 1`).\n",
    "- `competition_open_since_year`: we can clearly see that the opening of new competitors stores had a peak near 2015.\n",
    "- `customers`: as this variable describes the number of customers in a given day, we have a high concentration at the beginning then an abrupt decrease on this number. This behavior might be due to the peaked increase on the opening of new competitors stores, as the customers start to be distributed among the stores.\n",
    "- `day_of_week`: as the stores are open 7 days per week, we se that there is a distribution that is nearly uniform.\n",
    "- `is_promo`: we can see that there are many more stores that weren't in promotion (`is_promo = 0`) than in promotion (`is_promo = 1`).\n",
    "- `open`: we can see that there are many more stores that were open (`open = 1`) than closed (`open = 0`).\n",
    "- `promo`: we can see that there are many more stores that weren't in regular promotion (`promo = 0`) than those who were (`promo = 1`).\n",
    "- `promo2`: we can see that there were almost equally number of stores in consecutive promotion. This might have been an experiment from Rossmann to check whether being on a consecutive promotion would impact the number of sales.\n",
    "- `promo2_since_week`: we can see there is no clear pattern, there are some peaks, but we'll need to dig deeper on this topic.\n",
    "- `promo2_since_year`: we can see that there were many more stores in consecutive promotion around 2014.\n",
    "- `sales`: we can see that there were many more sales ranging from $0 to nearly $10,000.\n",
    "- `school_holiday`: we can see that there are many more stores that weren't affected by the closure of public schools (`school_holiday = 0`) than those who were (`school_holiday = 1`).\n",
    "- `store`: as this variable describes the unique Id for each store, there is no real information that we can extract from this one.\n"
   ]
  },
  {
   "cell_type": "markdown",
   "metadata": {
    "heading_collapsed": true,
    "hidden": true
   },
   "source": [
    "### 4.1.3 Categorical variable"
   ]
  },
  {
   "cell_type": "code",
   "execution_count": null,
   "metadata": {
    "ExecuteTime": {
     "end_time": "2020-05-31T18:57:54.787551Z",
     "start_time": "2020-05-31T18:57:54.777109Z"
    },
    "hidden": true,
    "hide_input": false
   },
   "outputs": [],
   "source": [
    "# checks the categorical variables\n",
    "cat_attributes.head()"
   ]
  },
  {
   "cell_type": "code",
   "execution_count": null,
   "metadata": {
    "ExecuteTime": {
     "end_time": "2020-05-31T18:57:54.813258Z",
     "start_time": "2020-05-31T18:57:54.789910Z"
    },
    "hidden": true
   },
   "outputs": [],
   "source": [
    "# checks the unique values for 'state_holiday' we have in the dataset\n",
    "df4['state_holiday'].drop_duplicates()"
   ]
  },
  {
   "cell_type": "code",
   "execution_count": null,
   "metadata": {
    "ExecuteTime": {
     "end_time": "2020-05-31T18:57:54.856006Z",
     "start_time": "2020-05-31T18:57:54.815340Z"
    },
    "hidden": true
   },
   "outputs": [],
   "source": [
    "# checks unique values for 'state_holiday'\n",
    "df4['state_holiday'].unique()"
   ]
  },
  {
   "cell_type": "code",
   "execution_count": null,
   "metadata": {
    "ExecuteTime": {
     "end_time": "2020-05-31T18:57:59.679651Z",
     "start_time": "2020-05-31T18:57:54.858156Z"
    },
    "hidden": true,
    "hide_input": false
   },
   "outputs": [],
   "source": [
    "# uses the variable ax for single a Axes\n",
    "fig, ax = plt.subplots()\n",
    "\n",
    "# sets the figure size in inches\n",
    "ax.figure.set_size_inches(16, 8)\n",
    "\n",
    "# state_holiday\n",
    "plt.subplot(3,2,1)\n",
    "df_no_regular_day = df4[df4['state_holiday'] != 'regular_day']\n",
    "sns.countplot(df_no_regular_day['state_holiday'])\n",
    "\n",
    "plt.subplot(3,2,2)\n",
    "sns.kdeplot(df4[df4['state_holiday'] == 'public_holiday']['sales'], label='public_holiday', shade=True)\n",
    "sns.kdeplot(df4[df4['state_holiday'] == 'easter_holiday']['sales'], label='easter_holiday', shade=True)\n",
    "sns.kdeplot(df4[df4['state_holiday'] == 'christmas']['sales'], label='christmas', shade=True)\n",
    "\n",
    "\n",
    "# store_type\n",
    "plt.subplot(3,2,3)\n",
    "sns.countplot(df4['store_type'])\n",
    "\n",
    "plt.subplot(3,2,4)\n",
    "sns.kdeplot(df4[df4['store_type'] == 'a']['sales'], label='a', shade=True)\n",
    "sns.kdeplot(df4[df4['store_type'] == 'b']['sales'], label='b', shade=True)\n",
    "sns.kdeplot(df4[df4['store_type'] == 'c']['sales'], label='c', shade=True)\n",
    "sns.kdeplot(df4[df4['store_type'] == 'd']['sales'], label='d', shade=True)\n",
    "\n",
    "# assortment\n",
    "plt.subplot(3,2,5)\n",
    "sns.countplot(df4['assortment'])\n",
    "\n",
    "plt.subplot(3,2,6)\n",
    "sns.kdeplot(df4[df4['assortment'] == 'extended']['sales'], label='extended', shade=True)\n",
    "sns.kdeplot(df4[df4['assortment'] == 'basic']['sales'], label='basic', shade=True)\n",
    "sns.kdeplot(df4[df4['assortment'] == 'extra']['sales'], label='extra', shade=True)\n",
    "\n",
    "# adjusts vertical space between plots\n",
    "plt.subplots_adjust(hspace = 0.4)\n",
    "\n",
    "# display plots\n",
    "plt.show()"
   ]
  },
  {
   "cell_type": "markdown",
   "metadata": {
    "heading_collapsed": true,
    "hidden": true,
    "hide_input": false
   },
   "source": [
    "## 4.2 Bivariate analysis"
   ]
  },
  {
   "cell_type": "code",
   "execution_count": null,
   "metadata": {
    "ExecuteTime": {
     "end_time": "2020-05-31T18:57:59.722254Z",
     "start_time": "2020-05-31T18:57:59.681369Z"
    },
    "hidden": true
   },
   "outputs": [],
   "source": [
    "# checks the dataset\n",
    "df4"
   ]
  },
  {
   "cell_type": "markdown",
   "metadata": {
    "heading_collapsed": true,
    "hidden": true
   },
   "source": [
    "### H1. Stores with higher assortment should have higher sales."
   ]
  },
  {
   "cell_type": "code",
   "execution_count": null,
   "metadata": {
    "ExecuteTime": {
     "end_time": "2020-05-31T18:57:59.813388Z",
     "start_time": "2020-05-31T18:57:59.724599Z"
    },
    "hidden": true
   },
   "outputs": [],
   "source": [
    "# gets total sales for each 'assortment' type\n",
    "df_total_sales_by_assortment = df4[['assortment','sales']].groupby('assortment').sum().reset_index()\n",
    "df_total_sales_by_assortment"
   ]
  },
  {
   "cell_type": "code",
   "execution_count": null,
   "metadata": {
    "ExecuteTime": {
     "end_time": "2020-05-31T18:58:00.008829Z",
     "start_time": "2020-05-31T18:57:59.815348Z"
    },
    "hidden": true
   },
   "outputs": [],
   "source": [
    "# uses the variable ax for single a Axes\n",
    "fig, ax = plt.subplots()\n",
    "\n",
    "# sets the figure size in inches\n",
    "ax.figure.set_size_inches(12, 6)\n",
    "\n",
    "ax = sns.barplot(x='assortment', y='sales', data=df_total_sales_by_assortment)\n",
    "\n",
    "# sets the title and axis labels\n",
    "set_plots_features(ax, \"Total sales for each store type\", \"Store type\", \"Total sales\")\n",
    "\n",
    "# displays the plot\n",
    "plt.show()"
   ]
  },
  {
   "cell_type": "markdown",
   "metadata": {
    "hidden": true
   },
   "source": [
    "We are assuming that stores that have higher assortment are classified as type `extra`. Thus, observing the barplot, we can verify that stores with **lesser assortment (`basic`) have higher sales**.\n",
    "\n",
    "> #### In other words, **stores with higher assortment have lesser sales**."
   ]
  },
  {
   "cell_type": "markdown",
   "metadata": {
    "hidden": true
   },
   "source": [
    "However, we need to check if in the past, stores with higher assortment had higher sales."
   ]
  },
  {
   "cell_type": "code",
   "execution_count": null,
   "metadata": {
    "ExecuteTime": {
     "end_time": "2020-05-31T18:58:00.152416Z",
     "start_time": "2020-05-31T18:58:00.011842Z"
    },
    "hidden": true
   },
   "outputs": [],
   "source": [
    "# checks each assortment sales \n",
    "df_total_sales_by_year_week_assortment = df4[['year_week', 'assortment','sales']].groupby(['year_week','assortment']).sum().reset_index()\n",
    "df_total_sales_by_year_week_assortment"
   ]
  },
  {
   "cell_type": "code",
   "execution_count": null,
   "metadata": {
    "ExecuteTime": {
     "end_time": "2020-05-31T18:58:00.169558Z",
     "start_time": "2020-05-31T18:58:00.154355Z"
    },
    "hidden": true
   },
   "outputs": [],
   "source": [
    "# creates a pivot table\n",
    "df_total_sales_pivot = df_total_sales_by_year_week_assortment.pivot(index='year_week', columns='assortment', values='sales')\n",
    "df_total_sales_pivot"
   ]
  },
  {
   "cell_type": "code",
   "execution_count": null,
   "metadata": {
    "ExecuteTime": {
     "end_time": "2020-05-31T18:58:00.524202Z",
     "start_time": "2020-05-31T18:58:00.171707Z"
    },
    "hidden": true
   },
   "outputs": [],
   "source": [
    "# plots a lineplot for 'aux3'\n",
    "ax = df_total_sales_pivot.plot()\n",
    "\n",
    "# sets the figure size in inches\n",
    "ax.figure.set_size_inches(20, 6)\n",
    "\n",
    "# sets the title and axis labels\n",
    "set_plots_features(ax, \"Total sales x Year-Week for each Store type\", \"Time\", \"Total sales\")\n",
    "\n",
    "# displays the plot\n",
    "plt.show()"
   ]
  },
  {
   "cell_type": "code",
   "execution_count": null,
   "metadata": {
    "ExecuteTime": {
     "end_time": "2020-05-31T18:58:00.787853Z",
     "start_time": "2020-05-31T18:58:00.526109Z"
    },
    "hidden": true
   },
   "outputs": [],
   "source": [
    "# filters for only 'extra' type of assortment\n",
    "df_only_extra = df_total_sales_by_year_week_assortment[df_total_sales_by_year_week_assortment['assortment'] == 'extra']\n",
    "\n",
    "# plots a lineplot for 'df_only_extra'\n",
    "ax = df_only_extra.pivot(index='year_week', columns='assortment', values='sales').plot()\n",
    "\n",
    "# sets the figure size in inches\n",
    "ax.figure.set_size_inches(20, 6)\n",
    "\n",
    "# sets the title and axis labels\n",
    "set_plots_features(ax, \"Total sales x Year-Week for Store type 'extra'\", \"Time\", \"Total sales\")\n",
    "\n",
    "# displays the plot\n",
    "plt.show()"
   ]
  },
  {
   "cell_type": "markdown",
   "metadata": {
    "hidden": true
   },
   "source": [
    "Observing the line plots, we can verify that **stores with higher assortment (`extra`) have lesses sales**. \n",
    "\n",
    "> #### So, our hypothesis is **FALSE**.\n",
    "\n",
    "In addition, as the variables have distinct behaviour, it may be interesting to **include them in our ML model**."
   ]
  },
  {
   "cell_type": "markdown",
   "metadata": {
    "heading_collapsed": true,
    "hidden": true
   },
   "source": [
    "### H2. Stores with nearer competitors should have lesser sales."
   ]
  },
  {
   "cell_type": "code",
   "execution_count": null,
   "metadata": {
    "ExecuteTime": {
     "end_time": "2020-05-31T18:58:00.844422Z",
     "start_time": "2020-05-31T18:58:00.803146Z"
    },
    "hidden": true
   },
   "outputs": [],
   "source": [
    "# checks total sales for each 'competition_distance'\n",
    "df_total_sales_by_competition_distance = df4[['competition_distance','sales']].groupby('competition_distance').sum().reset_index()\n",
    "df_total_sales_by_competition_distance"
   ]
  },
  {
   "cell_type": "code",
   "execution_count": null,
   "metadata": {
    "ExecuteTime": {
     "end_time": "2020-05-31T18:58:00.868683Z",
     "start_time": "2020-05-31T18:58:00.849754Z"
    },
    "hidden": true
   },
   "outputs": [],
   "source": [
    "# creates bins that range from 0 to 20000 with steps of 1000\n",
    "bins = list (np.arange(0, 20000, 1000))\n",
    "\n",
    "# places the data in the bins\n",
    "df_total_sales_by_competition_distance['competition_distance_binned'] = pd.cut(df_total_sales_by_competition_distance['competition_distance'], bins=bins)\n",
    "\n",
    "df_total_sales_by_competition_distance.sample(10)"
   ]
  },
  {
   "cell_type": "code",
   "execution_count": null,
   "metadata": {
    "ExecuteTime": {
     "end_time": "2020-05-31T18:58:00.892829Z",
     "start_time": "2020-05-31T18:58:00.871843Z"
    },
    "hidden": true
   },
   "outputs": [],
   "source": [
    "# gets the total sales for each bin\n",
    "df_competition_distance_binned = df_total_sales_by_competition_distance[['competition_distance_binned','sales']].groupby('competition_distance_binned').sum().reset_index()\n",
    "df_competition_distance_binned"
   ]
  },
  {
   "cell_type": "code",
   "execution_count": null,
   "metadata": {
    "ExecuteTime": {
     "end_time": "2020-05-31T18:58:01.324170Z",
     "start_time": "2020-05-31T18:58:00.895279Z"
    },
    "hidden": true
   },
   "outputs": [],
   "source": [
    "# uses the variable ax for single a Axes\n",
    "fig, ax = plt.subplots()\n",
    "\n",
    "# sets the figure size in inches\n",
    "ax.figure.set_size_inches(16, 8)\n",
    "\n",
    "# plots a barplot\n",
    "ax = sns.barplot(x='competition_distance_binned', y='sales', data=df_competition_distance_binned)\n",
    "\n",
    "# rotates xlabels\n",
    "ax.set_xticklabels(ax.get_xticklabels(), rotation=45)\n",
    "\n",
    "# sets the title and axis labels\n",
    "set_plots_features(ax, \"Total sales by distance from competitors\", \"Distance from competitors\", \"Total sales\")\n",
    "\n",
    "# displays the plot\n",
    "plt.show()"
   ]
  },
  {
   "cell_type": "markdown",
   "metadata": {
    "hidden": true
   },
   "source": [
    "As we can observe from the bar plot, **stores with nearer competitors have higher sales**. \n",
    "\n",
    "> #### So, our hypothesis is **FALSE**."
   ]
  },
  {
   "cell_type": "code",
   "execution_count": null,
   "metadata": {
    "ExecuteTime": {
     "end_time": "2020-05-31T18:58:01.697929Z",
     "start_time": "2020-05-31T18:58:01.325938Z"
    },
    "hidden": true
   },
   "outputs": [],
   "source": [
    "# checks total sales for each 'competition_distance'\n",
    "df_total_sales_by_competition_distance = df4[['competition_distance','sales']].groupby('competition_distance').sum().reset_index()\n",
    "\n",
    "# uses the variable ax for single a Axes\n",
    "fig, ax = plt.subplots()\n",
    "\n",
    "# sets the figure size in inches\n",
    "ax.figure.set_size_inches(16, 8)\n",
    "\n",
    "# plots a scatter plot for sales in relation to competition_distance\n",
    "ax = sns.scatterplot(x='competition_distance', y='sales', data=df_total_sales_by_competition_distance)\n",
    "\n",
    "# sets the title and axis labels\n",
    "set_plots_features(ax, \"Total sales by distance from competitors\", \"Distance from competitors\", \"Total sales\")\n",
    "\n",
    "# displays the plot\n",
    "plt.show()"
   ]
  },
  {
   "cell_type": "markdown",
   "metadata": {
    "hidden": true
   },
   "source": [
    "We can observe from the scatter plot that we have a higher concentration of sales as we decrease the competition distance, which also makes our hypothesis **FALSE**."
   ]
  },
  {
   "cell_type": "markdown",
   "metadata": {
    "hidden": true
   },
   "source": [
    "#### Organizing the plots in a single grid"
   ]
  },
  {
   "cell_type": "code",
   "execution_count": null,
   "metadata": {
    "ExecuteTime": {
     "end_time": "2020-05-31T18:58:02.866303Z",
     "start_time": "2020-05-31T18:58:01.700497Z"
    },
    "hidden": true,
    "hide_input": false
   },
   "outputs": [],
   "source": [
    "# uses the variable ax for single a Axes\n",
    "fig, ax = plt.subplots()\n",
    "\n",
    "# sets the figure size in inches\n",
    "ax.figure.set_size_inches(16, 8)\n",
    "\n",
    "# plots a scatter plot\n",
    "plt.subplot(1, 3, 1)\n",
    "ax = sns.scatterplot(x='competition_distance', y='sales', data=df_total_sales_by_competition_distance)\n",
    "\n",
    "\n",
    "# plots a bar plot\n",
    "plt.subplot(1, 3, 2)\n",
    "ax = sns.barplot(x='competition_distance_binned', y='sales', data=df_competition_distance_binned)\n",
    "\n",
    "# rotates xlabels\n",
    "ax.set_xticklabels(ax.get_xticklabels(), rotation=90)\n",
    "\n",
    "\n",
    "# plots a heatmap\n",
    "plt.subplot(1, 3, 3)\n",
    "sns.heatmap(df_total_sales_by_competition_distance.corr(method='pearson'), annot=True, annot_kws={\"fontsize\":14})\n",
    "\n",
    "# adjusts the width spaces between plots\n",
    "plt.subplots_adjust(wspace = 0.3)\n",
    "\n",
    "# displays the plots\n",
    "plt.show()"
   ]
  },
  {
   "cell_type": "markdown",
   "metadata": {
    "hidden": true
   },
   "source": [
    "**Correlations**\n",
    "\n",
    "As observed in the results, the Pearson's correlation coefficient between `competition_distance` and `sales` is `-0.23` which tells us that is a **weak negative correlation**. Despite the weakness, we may include the `competition_distance` because it has a somewhat influence on the target variable (`sales`)."
   ]
  },
  {
   "cell_type": "markdown",
   "metadata": {
    "heading_collapsed": true,
    "hidden": true
   },
   "source": [
    "### H3. Stores with longer competitors should have higher sales."
   ]
  },
  {
   "cell_type": "markdown",
   "metadata": {
    "hidden": true
   },
   "source": [
    "We want to know how do our `sales` behave in relation to how long a competitor store has opened."
   ]
  },
  {
   "cell_type": "code",
   "execution_count": null,
   "metadata": {
    "ExecuteTime": {
     "end_time": "2020-05-31T18:58:02.914650Z",
     "start_time": "2020-05-31T18:58:02.868556Z"
    },
    "hidden": true
   },
   "outputs": [],
   "source": [
    "# gets all sales by months since the a competition store opened\n",
    "df_total_sales_by_comp_time_month = df4[['competition_time_month','sales']].groupby('competition_time_month').sum().reset_index()\n",
    "\n",
    "# gets only the 120 months AND opened in the same month of the sale\n",
    "df_total_sales_120_months = df_total_sales_by_comp_time_month[(df_total_sales_by_comp_time_month['competition_time_month'] < 120) & (df_total_sales_by_comp_time_month['competition_time_month'] != 0)]\n",
    "\n",
    "df_total_sales_120_months"
   ]
  },
  {
   "cell_type": "code",
   "execution_count": null,
   "metadata": {
    "ExecuteTime": {
     "end_time": "2020-05-31T18:58:06.765563Z",
     "start_time": "2020-05-31T18:58:02.916617Z"
    },
    "hidden": true
   },
   "outputs": [],
   "source": [
    "# uses the variable ax for single a Axes\n",
    "fig, ax = plt.subplots()\n",
    "\n",
    "# sets the figure size in inches\n",
    "ax.figure.set_size_inches(16, 8)\n",
    "\n",
    "# plots a barplot\n",
    "ax = sns.barplot(x='competition_time_month', y='sales', data=df_total_sales_120_months)\n",
    "\n",
    "# rotates the xticks\n",
    "plt.xticks(rotation=90)\n",
    "\n",
    "# sets the title and axis labels\n",
    "set_plots_features(ax, \"Total sales per month since when a competitor store opened\", \"Month offset\", \"Total sales\")\n",
    "\n",
    "# displays plot\n",
    "plt.show()"
   ]
  },
  {
   "cell_type": "markdown",
   "metadata": {
    "hidden": true
   },
   "source": [
    "- **Negative offset values:** we already started selling and we know when a competitor store will still open in x months. \n",
    "- **Positive offset values:** competitor store has already opened and we started selling.\n",
    "\n",
    "As values gets near zero the higher are the sales. **The earlier the competition is, the higher the sales are.** \n",
    "\n",
    "> #### Thus, our hypothesis is **FALSE**."
   ]
  },
  {
   "cell_type": "code",
   "execution_count": null,
   "metadata": {
    "ExecuteTime": {
     "end_time": "2020-05-31T18:58:11.751977Z",
     "start_time": "2020-05-31T18:58:06.767427Z"
    },
    "hidden": true
   },
   "outputs": [],
   "source": [
    "# uses the variable ax for single a Axes\n",
    "fig, ax = plt.subplots()\n",
    "\n",
    "# sets the figure size in inches\n",
    "ax.figure.set_size_inches(16, 8)\n",
    "\n",
    "# plots a barplot\n",
    "plt.subplot(1, 3, 1)\n",
    "sns.barplot(x='competition_time_month', y='sales', data=df_total_sales_120_months)\n",
    "\n",
    "# rotates the xticks\n",
    "plt.xticks(rotation=90)\n",
    "\n",
    "# plots a regplot\n",
    "plt.subplot(1, 3, 2)\n",
    "sns.regplot(x='competition_time_month', y='sales', data=df_total_sales_120_months)\n",
    "\n",
    "# plots a heatmap\n",
    "plt.subplot(1, 3, 3)\n",
    "sns.heatmap(df_total_sales_by_comp_time_month.corr(method='pearson'), annot=True, annot_kws={\"fontsize\":14})\n",
    "\n",
    "# displays the plot\n",
    "plt.show()"
   ]
  },
  {
   "cell_type": "markdown",
   "metadata": {
    "hidden": true
   },
   "source": [
    "**Correlations**\n",
    "\n",
    "As observed in the results, the Pearson's correlation coefficient between `competition_time_month` and `sales` is `-0.1` which tells us that is a **super weak negative correlation**. Despite the weakness, we may include the `competition_time_month` because it has a somewhat influence on the target variable (`sales`). We'll check its relevance later in our project."
   ]
  },
  {
   "cell_type": "markdown",
   "metadata": {
    "heading_collapsed": true,
    "hidden": true
   },
   "source": [
    "### H4. Stores with longer period of time in promotion should have higher sales."
   ]
  },
  {
   "cell_type": "code",
   "execution_count": null,
   "metadata": {
    "ExecuteTime": {
     "end_time": "2020-05-31T18:58:11.788617Z",
     "start_time": "2020-05-31T18:58:11.754602Z"
    },
    "hidden": true
   },
   "outputs": [],
   "source": [
    "# gets total sales based on how long a promotion was active\n",
    "df_total_sales_by_promo_week = df4[['promo_time_week','sales']].groupby('promo_time_week').sum().reset_index()\n",
    "df_total_sales_by_promo_week"
   ]
  },
  {
   "cell_type": "markdown",
   "metadata": {
    "hidden": true
   },
   "source": [
    "- `promotime_week > 0`: sales made inside the **extended** promotion time.\n",
    "- `promotime_week < 0`: sale made inside the **regular** promotion time."
   ]
  },
  {
   "cell_type": "code",
   "execution_count": null,
   "metadata": {
    "ExecuteTime": {
     "end_time": "2020-05-31T18:58:23.048784Z",
     "start_time": "2020-05-31T18:58:11.790529Z"
    },
    "hidden": true
   },
   "outputs": [],
   "source": [
    "# uses the variable ax for single a Axes\n",
    "fig, ax = plt.subplots()\n",
    "\n",
    "# sets the figure size in inches\n",
    "ax.figure.set_size_inches(16, 8)\n",
    "\n",
    "# plots a barplot\n",
    "ax = sns.barplot(x='promo_time_week', y='sales', data=df_total_sales_by_promo_week)\n",
    "\n",
    "# rotates the xticks\n",
    "plt.xticks(rotation=90, fontsize=5)\n",
    "\n",
    "# sets the title and axis labels\n",
    "set_plots_features(ax, \"Total sales by weeks in promotion\", \"Week offset\", \"Total sales\")\n",
    "\n",
    "# displays the plot\n",
    "plt.show()"
   ]
  },
  {
   "cell_type": "markdown",
   "metadata": {
    "hidden": true
   },
   "source": [
    "As we observe in the bar plot, we can't see anything because there are loads of data. So, let's divide our data in two periods: **regular promotion and extended promotion**."
   ]
  },
  {
   "cell_type": "code",
   "execution_count": null,
   "metadata": {
    "ExecuteTime": {
     "end_time": "2020-05-31T18:58:37.231232Z",
     "start_time": "2020-05-31T18:58:23.051663Z"
    },
    "hidden": true
   },
   "outputs": [],
   "source": [
    "from matplotlib.gridspec import GridSpec\n",
    "\n",
    "# uses the variable ax for single a Axes\n",
    "fig, ax = plt.subplots()\n",
    "\n",
    "grid = GridSpec(2, 3)\n",
    "\n",
    "# adjusts the space between subplots\n",
    "plt.subplots_adjust(hspace = 0.5)\n",
    "\n",
    "# sets the figure size in inches\n",
    "ax.figure.set_size_inches(16, 8)\n",
    "\n",
    "# gets the extended promo data\n",
    "df_total_sales_extended_promo = df_total_sales_by_promo_week[df_total_sales_by_promo_week['promo_time_week'] > 0] \n",
    "\n",
    "# plots a barplot\n",
    "plt.subplot(grid[0, 0])\n",
    "ax1 = sns.barplot(x='promo_time_week', y='sales', data=df_total_sales_extended_promo);\n",
    "\n",
    "# sets the title and axis labels\n",
    "set_plots_features(ax1, \"Total sales by weeks in extended promotion\", \" \", \"Total sales\")\n",
    "\n",
    "# rotates the xticks\n",
    "plt.xticks(rotation=90, fontsize=4)\n",
    "\n",
    "# plots a regplot\n",
    "plt.subplot(grid[0, 1])\n",
    "ax2 = sns.regplot(x='promo_time_week', y='sales', data=df_total_sales_extended_promo);\n",
    "\n",
    "# sets the title and axis labels\n",
    "set_plots_features(ax2, \" \", \" \", \" \")\n",
    "\n",
    "\n",
    "# gets the regular promo data\n",
    "df_total_sales_regular_promo = df_total_sales_by_promo_week[df_total_sales_by_promo_week['promo_time_week'] < 0]\n",
    "\n",
    "# plots a barplot\n",
    "plt.subplot(grid[1, 0])\n",
    "ax3 = sns.barplot(x='promo_time_week', y='sales', data=df_total_sales_regular_promo);\n",
    "\n",
    "# sets the title and axis labels\n",
    "set_plots_features(ax3, \"Total sales by weeks in regular promotion\", \"Week offset\", \"Total sales\")\n",
    "\n",
    "# rotates the xticks\n",
    "plt.xticks(rotation=90, fontsize=4)\n",
    "\n",
    "\n",
    "# plots a regplot\n",
    "plt.subplot(grid[1, 1])\n",
    "ax4 = sns.regplot(x='promo_time_week', y='sales', data=df_total_sales_regular_promo);\n",
    "\n",
    "# sets the title and axis labels\n",
    "set_plots_features(ax4, \" \", \"Week offset\", \" \")\n",
    "\n",
    "\n",
    "# plots correlation heatmap\n",
    "plt.subplot(grid[:,2])\n",
    "ax5 = sns.heatmap(df_total_sales_by_promo_week.corr(method='pearson'), annot=True, annot_kws={\"fontsize\":14})\n",
    "\n",
    "# sets the title\n",
    "ax5.set_title(\"Correlation Heatmap\", fontsize=14)\n",
    "\n",
    "\n",
    "# displays the plot\n",
    "plt.show()"
   ]
  },
  {
   "cell_type": "markdown",
   "metadata": {
    "hidden": true
   },
   "source": [
    "As we can observe in the **Total sales x Weeks in extended promotion**, there's a period in which the extended promotion results in more sales, then after a period of time, the total sales starts to drecrease.\n",
    "\n",
    "From the **Total sales x Weeks in regular promotion**, we can observe that as the offset gets more and more near zero, the sales starts to increase.\n",
    "\n",
    "Thus, **stores with longer period of time in promotion don't have higher sales.**, because the sales start to drecrease as the promotion gets longer. \n",
    "\n",
    "> #### Thus, our hypothesis is **FALSE**.\n",
    "\n",
    "**Correlations**\n",
    "\n",
    "In addition, from the **Correlation Heatmap** we got a coefficient of `-0.029` which is pretty close to `zero`. Thus, we have a **super weak correlation**, which makes sense because looking at our data, we have long periods of almost constant total sales (see  **Total sales x Weeks in extended promotion**).\n",
    "\n",
    "So, maybe we won't include `promo_time_week` in the model. Of course, this variable might work if we combine it with another variable, but we'll leave it for the time being."
   ]
  },
  {
   "cell_type": "markdown",
   "metadata": {
    "heading_collapsed": true,
    "hidden": true
   },
   "source": [
    "### H5. Stores with longer period of time in promotion should have higher sales."
   ]
  },
  {
   "cell_type": "markdown",
   "metadata": {
    "hidden": true
   },
   "source": [
    "As this hypothesis is similar to H4. We'll leave to validate it in the next CRISP cycle."
   ]
  },
  {
   "cell_type": "markdown",
   "metadata": {
    "heading_collapsed": true,
    "hidden": true
   },
   "source": [
    "### H6. Stores with higher consecutive promotions should have higher sales."
   ]
  },
  {
   "cell_type": "code",
   "execution_count": null,
   "metadata": {
    "ExecuteTime": {
     "end_time": "2020-05-31T18:58:37.307468Z",
     "start_time": "2020-05-31T18:58:37.233461Z"
    },
    "hidden": true
   },
   "outputs": [],
   "source": [
    "# gets total sales made based on promotion and consecutive promotions\n",
    "df4[['promo','promo2', 'sales']].groupby(['promo', 'promo2']).sum().reset_index()"
   ]
  },
  {
   "cell_type": "markdown",
   "metadata": {
    "hidden": true
   },
   "source": [
    "Observing the results, there were more sales when there was only a promotion (`promo = 1` AND `promo2 = 0`) than when there were consecutive promotions (`promo = 1` AND `promo2 = 1`)."
   ]
  },
  {
   "cell_type": "code",
   "execution_count": null,
   "metadata": {
    "ExecuteTime": {
     "end_time": "2020-05-31T18:58:37.399067Z",
     "start_time": "2020-05-31T18:58:37.309536Z"
    },
    "hidden": true
   },
   "outputs": [],
   "source": [
    "# gets all rows in which there were consecutive promotions\n",
    "df_consecutive_promotion_sales = df4[(df4['promo'] == 1) & (df4['promo2'] == 1)][['year_week', 'sales']].groupby('year_week').sum().reset_index()\n",
    "df_consecutive_promotion_sales"
   ]
  },
  {
   "cell_type": "code",
   "execution_count": null,
   "metadata": {
    "ExecuteTime": {
     "end_time": "2020-05-31T18:58:37.491495Z",
     "start_time": "2020-05-31T18:58:37.401511Z"
    },
    "hidden": true
   },
   "outputs": [],
   "source": [
    "# gets all rows in which there weren't consecutive promotions\n",
    "df_no_consecutive_promotion_sales = df4[(df4['promo'] == 1) & (df4['promo2'] == 0)][['year_week', 'sales']].groupby('year_week').sum().reset_index()\n",
    "df_no_consecutive_promotion_sales"
   ]
  },
  {
   "cell_type": "code",
   "execution_count": null,
   "metadata": {
    "ExecuteTime": {
     "end_time": "2020-05-31T18:58:37.883973Z",
     "start_time": "2020-05-31T18:58:37.493618Z"
    },
    "hidden": true
   },
   "outputs": [],
   "source": [
    "# plots a lineplot\n",
    "ax = df_consecutive_promotion_sales.plot()\n",
    "\n",
    "# plots in the same grid\n",
    "df_no_consecutive_promotion_sales.plot(ax = ax)\n",
    "\n",
    "# sets the figure size in inches\n",
    "ax.figure.set_size_inches(20, 6)\n",
    "\n",
    "# sets the title and axis labels\n",
    "set_plots_features(ax, \"Total sales by Year-Week for consecutive promotions\", \"Time\", \"Total sales\")\n",
    "\n",
    "# sets the legend\n",
    "ax.legend(labels=['Regular & Extended', 'Extended'])\n",
    "\n",
    "# displays the plot\n",
    "plt.show()"
   ]
  },
  {
   "cell_type": "markdown",
   "metadata": {
    "hidden": true
   },
   "source": [
    "Observing the results it seems that **stores with higher consecutive promotions don't have higher sales**. \n",
    "\n",
    "> #### Thus, our hypothesis is **FALSE**.\n",
    "\n",
    "**Relevance**\n",
    "\n",
    "Thinking about the relevance of the variable `promo2` to the ML model, we can say that its relevance is low. Despite the particular decrease in sales during a period, we still need a second opinion that will come from an algorithm that will aid us to decide whether we include `promo2` or not."
   ]
  },
  {
   "cell_type": "markdown",
   "metadata": {
    "heading_collapsed": true,
    "hidden": true
   },
   "source": [
    "### H7. Stores that open on Xmas should have higher sales. "
   ]
  },
  {
   "cell_type": "code",
   "execution_count": null,
   "metadata": {
    "ExecuteTime": {
     "end_time": "2020-05-31T18:58:37.933304Z",
     "start_time": "2020-05-31T18:58:37.885651Z"
    },
    "hidden": true
   },
   "outputs": [],
   "source": [
    "# gets only the holidays excluding the regular days\n",
    "df_holidays_only = df4[df4['state_holiday'] != 'regular_day']\n",
    "\n",
    "# getting the total sales by state holiday\n",
    "df_total_sales_by_state_holiday = df_holidays_only[['state_holiday','sales']].groupby('state_holiday').sum().reset_index()\n",
    "df_total_sales_by_state_holiday"
   ]
  },
  {
   "cell_type": "code",
   "execution_count": null,
   "metadata": {
    "ExecuteTime": {
     "end_time": "2020-05-31T18:58:38.281275Z",
     "start_time": "2020-05-31T18:58:37.935828Z"
    },
    "hidden": true,
    "hide_input": false
   },
   "outputs": [],
   "source": [
    "# uses the variable ax for single a Axes\n",
    "fig, ax = plt.subplots()\n",
    "\n",
    "# sets the figure size in inches\n",
    "ax.figure.set_size_inches(16, 8)\n",
    "\n",
    "# plots a barplot for total sales by state holiday\n",
    "sns.barplot(x='state_holiday', y='sales', data=df_total_sales_by_state_holiday)\n",
    "\n",
    "# sets the title and axis labels\n",
    "set_plots_features(ax, \"Total sales x State Holiday\", \"State Holiday\", \"Total sales\")\n",
    "\n",
    "# displays the plot\n",
    "plt.show()"
   ]
  },
  {
   "cell_type": "code",
   "execution_count": null,
   "metadata": {
    "ExecuteTime": {
     "end_time": "2020-05-31T18:58:38.300049Z",
     "start_time": "2020-05-31T18:58:38.284237Z"
    },
    "hidden": true
   },
   "outputs": [],
   "source": [
    "# gets total sales by year by state holiday\n",
    "df_total_sales_by_year_by_sate_holiday = df_holidays_only[['year','state_holiday', 'sales']].groupby(['year','state_holiday']).sum().reset_index()\n",
    "df_total_sales_by_year_by_sate_holiday"
   ]
  },
  {
   "cell_type": "code",
   "execution_count": null,
   "metadata": {
    "ExecuteTime": {
     "end_time": "2020-05-31T18:58:38.576295Z",
     "start_time": "2020-05-31T18:58:38.302058Z"
    },
    "hidden": true
   },
   "outputs": [],
   "source": [
    "# uses the variable ax for single a Axes\n",
    "fig, ax = plt.subplots()\n",
    "\n",
    "# sets the figure size in inches\n",
    "ax.figure.set_size_inches(16, 8)\n",
    "\n",
    "# plots a barplot for total sales by state holiday\n",
    "sns.barplot(x='year', y='sales', hue='state_holiday', data=df_total_sales_by_year_by_sate_holiday)\n",
    "\n",
    "# sets the title and axis labels\n",
    "set_plots_features(ax, \"Total sales x Year and State Holiday\", \"State Holiday\", \"Total sales\")\n",
    "\n",
    "# displays the plot\n",
    "plt.show()"
   ]
  },
  {
   "cell_type": "markdown",
   "metadata": {
    "hidden": true
   },
   "source": [
    "As observed in the previous results, **stores that open on Xmas don't have higher sales**. \n",
    "\n",
    "> #### Thus, our hypothesis is **FALSE**.\n",
    "\n",
    "One observation that we need to make here is that on year 2015, we still don't have the data from Xmas sales, because the data ends on July 31st, 2015.\n",
    "\n",
    "In addition, as we have changes in `sales` depending on the type of `state_holiday` and which `year` is, we can consider these variables in our ML model."
   ]
  },
  {
   "cell_type": "markdown",
   "metadata": {
    "heading_collapsed": true,
    "hidden": true
   },
   "source": [
    "### H8. Stores should have higher sales along the years."
   ]
  },
  {
   "cell_type": "code",
   "execution_count": null,
   "metadata": {
    "ExecuteTime": {
     "end_time": "2020-05-31T18:58:38.621302Z",
     "start_time": "2020-05-31T18:58:38.578818Z"
    },
    "hidden": true
   },
   "outputs": [],
   "source": [
    "# gets the total sales by year\n",
    "df_total_sales_by_year = df4[['year', 'sales']].groupby('year').sum().reset_index()\n",
    "df_total_sales_by_year"
   ]
  },
  {
   "cell_type": "code",
   "execution_count": null,
   "metadata": {
    "ExecuteTime": {
     "end_time": "2020-05-31T18:58:39.402218Z",
     "start_time": "2020-05-31T18:58:38.623283Z"
    },
    "hidden": true
   },
   "outputs": [],
   "source": [
    "# uses the variable ax for single a Axes\n",
    "fig, ax = plt.subplots()\n",
    "\n",
    "# sets the figure size in inches\n",
    "ax.figure.set_size_inches(16, 8)\n",
    "\n",
    "# plots a barplot for total sales by year\n",
    "plt.subplot(1, 3, 1)\n",
    "ax = sns.barplot(x='year', y='sales', data=df_total_sales_by_year)\n",
    "\n",
    "# sets the title and axis labels\n",
    "set_plots_features(ax, \"Yearly total sales\", \"Year\", \"Total sales\")\n",
    "\n",
    "\n",
    "# plots a barplot for total sales by year\n",
    "plt.subplot(1, 3, 2)\n",
    "ax = sns.regplot(x='year', y='sales', data=df_total_sales_by_year)\n",
    "\n",
    "# sets the title and axis labels\n",
    "set_plots_features(ax, \"Yearly total sales\", \"Year\", \"Total sales\")\n",
    "\n",
    "# rotates xticks labels\n",
    "plt.xticks(rotation=90)\n",
    "\n",
    "\n",
    "# plots a heatmap\n",
    "plt.subplot(1, 3, 3)\n",
    "sns.heatmap(df_total_sales_by_year.corr(method='pearson'), annot=True, annot_kws={\"fontsize\":14})\n",
    "\n",
    "# displays the plot\n",
    "plt.show()"
   ]
  },
  {
   "cell_type": "markdown",
   "metadata": {
    "hidden": true
   },
   "source": [
    "As observed in the previous results, stores **don't have higher sales along the years**. In addition, by observing the Pearson correlation coefficient of `-0.92`, we can verify that there is a **strong negative correlation** between `year` and `sales`. Thus, our hypothesis is **FALSE**."
   ]
  },
  {
   "cell_type": "markdown",
   "metadata": {
    "heading_collapsed": true,
    "hidden": true
   },
   "source": [
    "### H9. Stores should have higher sales on the second semester of the year."
   ]
  },
  {
   "cell_type": "code",
   "execution_count": null,
   "metadata": {
    "ExecuteTime": {
     "end_time": "2020-05-31T18:58:39.439700Z",
     "start_time": "2020-05-31T18:58:39.404150Z"
    },
    "hidden": true
   },
   "outputs": [],
   "source": [
    "# gets the total sales by month\n",
    "df_total_sales_by_month = df4[['month', 'sales']].groupby('month').sum().reset_index()\n",
    "df_total_sales_by_month"
   ]
  },
  {
   "cell_type": "code",
   "execution_count": null,
   "metadata": {
    "ExecuteTime": {
     "end_time": "2020-05-31T18:58:40.304960Z",
     "start_time": "2020-05-31T18:58:39.442415Z"
    },
    "hidden": true
   },
   "outputs": [],
   "source": [
    "# uses the variable ax for single a Axes\n",
    "fig, ax = plt.subplots()\n",
    "\n",
    "# sets the figure size in inches\n",
    "ax.figure.set_size_inches(16, 8)\n",
    "\n",
    "# plots a barplot for total sales by month\n",
    "plt.subplot(1, 3, 1)\n",
    "ax = sns.barplot(x='month', y='sales', data=df_total_sales_by_month)\n",
    "\n",
    "# sets the title and axis labels\n",
    "set_plots_features(ax, \"Total sales x Month\", \"Month\", \"Total sales\")\n",
    "\n",
    "\n",
    "# plots a barplot for total sales by month\n",
    "plt.subplot(1, 3, 2)\n",
    "ax = sns.regplot(x='month', y='sales', data=df_total_sales_by_month)\n",
    "\n",
    "# sets the title and axis labels\n",
    "set_plots_features(ax, \"Total sales x Month\", \"Month\", \"Total sales\")\n",
    "\n",
    "\n",
    "# plots a barplot for total sales by month\n",
    "plt.subplot(1, 3, 3)\n",
    "sns.heatmap(df_total_sales_by_month.corr(method='pearson'), annot=True, annot_kws={\"fontsize\":14})\n",
    "\n",
    "# displays the plots\n",
    "plt.show()"
   ]
  },
  {
   "cell_type": "markdown",
   "metadata": {
    "hidden": true
   },
   "source": [
    "As observed in the previous results, stores **don't have higher sales on the second semester of the year**. In addition, by observing the Pearson correlation coefficient of `-0.75`, we can verify that there is a **strong negative correlation** between `month` and `sales`. \n",
    "\n",
    "> #### Thus, our hypothesis is **FALSE**."
   ]
  },
  {
   "cell_type": "markdown",
   "metadata": {
    "heading_collapsed": true,
    "hidden": true
   },
   "source": [
    "### H10. Stores should have higher sales after the 10th day of the month."
   ]
  },
  {
   "cell_type": "code",
   "execution_count": null,
   "metadata": {
    "ExecuteTime": {
     "end_time": "2020-05-31T18:58:40.338753Z",
     "start_time": "2020-05-31T18:58:40.307183Z"
    },
    "hidden": true,
    "scrolled": true
   },
   "outputs": [],
   "source": [
    "# gets the total sales by before and after the 10th day of the month\n",
    "df_total_sales_by_day = df4[['day', 'sales']].groupby('day').sum().reset_index()\n",
    "\n",
    "df_total_sales_by_day"
   ]
  },
  {
   "cell_type": "code",
   "execution_count": null,
   "metadata": {
    "ExecuteTime": {
     "end_time": "2020-05-31T18:58:40.627238Z",
     "start_time": "2020-05-31T18:58:40.340881Z"
    },
    "hidden": true
   },
   "outputs": [],
   "source": [
    "# classifies which day is before and after the 10th day of the month\n",
    "df4['before_after'] = df4['day'].apply(lambda x: 'before_10_days' if x <= 10 else 'after_10_days')\n",
    "\n",
    "# gets the total sales by before and after the 10th day of the month\n",
    "df_total_sales_by_before_after = df4[['before_after', 'sales']].groupby('before_after').sum().reset_index()\n",
    "\n",
    "df_total_sales_by_before_after"
   ]
  },
  {
   "cell_type": "code",
   "execution_count": null,
   "metadata": {
    "ExecuteTime": {
     "end_time": "2020-05-31T18:58:41.943463Z",
     "start_time": "2020-05-31T18:58:40.629191Z"
    },
    "hidden": true
   },
   "outputs": [],
   "source": [
    "# uses the variable ax for single a Axes\n",
    "fig, ax = plt.subplots()\n",
    "\n",
    "# sets the figure size in inches\n",
    "ax.figure.set_size_inches(16, 8)\n",
    "\n",
    "# plots a barplot for total sales by day\n",
    "plt.subplot(2, 2, 1)\n",
    "ax = sns.barplot(x='day', y='sales', data=df_total_sales_by_day)\n",
    "\n",
    "# sets the title and axis labels\n",
    "set_plots_features(ax, \"Total sales x Day of month\", \"Day of month\", \"Total sales\")\n",
    "\n",
    "# rotates the xticks\n",
    "plt.xticks(rotation=90)\n",
    "\n",
    "# plots a barplot for total sales by day\n",
    "plt.subplot(2, 2, 2)\n",
    "ax = sns.regplot(x='day', y='sales', data=df_total_sales_by_day)\n",
    "\n",
    "# sets the title and axis labels\n",
    "set_plots_features(ax, \"Total sales x Day of month\", \"Day of month\", \"Total sales\")\n",
    "\n",
    "\n",
    "# plots a barplot for total sales by day\n",
    "plt.subplot(2, 2, 3)\n",
    "sns.heatmap(df_total_sales_by_day.corr(method='pearson'), annot=True, annot_kws={\"fontsize\":14})\n",
    "\n",
    "\n",
    "# plots a barplot for total sales by before and after the 10th day of the month\n",
    "plt.subplot(2, 2, 4)\n",
    "ax = sns.barplot(x='before_after', y='sales', data=df_total_sales_by_before_after)\n",
    "\n",
    "# sets the title and axis labels\n",
    "set_plots_features(ax, \"Total sales x After and before the 10th day of the month\", \"Month\", \"Total sales\")\n",
    "\n",
    "# adjusts the vertical space between plots\n",
    "plt.subplots_adjust(hspace = 0.4)\n",
    "\n",
    "# displays the plots\n",
    "plt.show()"
   ]
  },
  {
   "cell_type": "markdown",
   "metadata": {
    "hidden": true
   },
   "source": [
    "As observed in the previous results, stores **have higher sales after the 10th day of the month**. \n",
    "\n",
    "> #### Thus, our hypothesis is **TRUE**.\n",
    "\n",
    "**Correlation**\n",
    "\n",
    "In addition, checking the Pearson's correlation coefficient, we got a value of `-0.35` which tells us that is a **no so strong correlation** between `day` and `sales`. However, as we have different values for total sales before and after the 10th day of the month, this variable **can be relevant for our ML Model**."
   ]
  },
  {
   "cell_type": "markdown",
   "metadata": {
    "ExecuteTime": {
     "end_time": "2020-05-27T12:29:38.346789Z",
     "start_time": "2020-05-27T12:29:38.342628Z"
    },
    "heading_collapsed": true,
    "hidden": true
   },
   "source": [
    "### H11. Stores should have lesser sales on weekends."
   ]
  },
  {
   "cell_type": "code",
   "execution_count": null,
   "metadata": {
    "ExecuteTime": {
     "end_time": "2020-05-31T18:58:41.977505Z",
     "start_time": "2020-05-31T18:58:41.945578Z"
    },
    "hidden": true
   },
   "outputs": [],
   "source": [
    "# gets the total sales by day_of_week\n",
    "df_total_sales_by_day_of_week = df4[['day_of_week', 'sales']].groupby('day_of_week').sum().reset_index()\n",
    "df_total_sales_by_day_of_week"
   ]
  },
  {
   "cell_type": "code",
   "execution_count": null,
   "metadata": {
    "ExecuteTime": {
     "end_time": "2020-05-31T18:58:42.789979Z",
     "start_time": "2020-05-31T18:58:41.979516Z"
    },
    "hidden": true
   },
   "outputs": [],
   "source": [
    "# uses the variable ax for single a Axes\n",
    "fig, ax = plt.subplots()\n",
    "\n",
    "# sets the figure size in inches\n",
    "ax.figure.set_size_inches(16, 8)\n",
    "\n",
    "# plots a barplot for total sales by day_of_week\n",
    "plt.subplot(1, 3, 1)\n",
    "ax = sns.barplot(x='day_of_week', y='sales', data=df_total_sales_by_day_of_week)\n",
    "\n",
    "# sets the title and axis labels\n",
    "set_plots_features(ax, \"Total sales for each day of the week\", \"Day of Week\", \"Total sales\")\n",
    "\n",
    "\n",
    "# plots a barplot for total sales by day_of_week\n",
    "plt.subplot(1, 3, 2)\n",
    "ax = sns.regplot(x='day_of_week', y='sales', data=df_total_sales_by_day_of_week)\n",
    "\n",
    "# sets the title and axis labels\n",
    "set_plots_features(ax, \"Total sales for each day of the week\", \"Day of Week\", \"Total sales\")\n",
    "\n",
    "# plots a barplot for total sales by day_of_week\n",
    "plt.subplot(1, 3, 3)\n",
    "sns.heatmap(df_total_sales_by_day_of_week.corr(method='pearson'), annot=True, annot_kws={\"fontsize\":14})\n",
    "\n",
    "# displays the plots\n",
    "plt.show()"
   ]
  },
  {
   "cell_type": "markdown",
   "metadata": {
    "hidden": true
   },
   "source": [
    "**Correlation**\n",
    "\n",
    "As observed in the previous results, stores **have lesser sales on weekends**. In addition, by observing the Pearson correlation coefficient of `-0.75`, we can verify that there is a **strong negative correlation** between `day_of_week` and `sales`. \n",
    "\n",
    "> #### Thus, our hypothesis is **TRUE**."
   ]
  },
  {
   "cell_type": "markdown",
   "metadata": {
    "heading_collapsed": true,
    "hidden": true
   },
   "source": [
    "### H12. Stores should have lesser sales during school holidays."
   ]
  },
  {
   "cell_type": "code",
   "execution_count": null,
   "metadata": {
    "ExecuteTime": {
     "end_time": "2020-05-31T18:58:42.819463Z",
     "start_time": "2020-05-31T18:58:42.792237Z"
    },
    "hidden": true
   },
   "outputs": [],
   "source": [
    "# gets the total sales by school_holiday\n",
    "df_total_sales_by_school_holiday = df4[['school_holiday', 'sales']].groupby('school_holiday').sum().reset_index()\n",
    "df_total_sales_by_school_holiday"
   ]
  },
  {
   "cell_type": "code",
   "execution_count": null,
   "metadata": {
    "ExecuteTime": {
     "end_time": "2020-05-31T18:58:42.899563Z",
     "start_time": "2020-05-31T18:58:42.821392Z"
    },
    "hidden": true,
    "scrolled": true
   },
   "outputs": [],
   "source": [
    "# gets the total sales by month and school_holiday\n",
    "df_total_sales_by_month_school_holiday = df4[['month', 'school_holiday', 'sales']].groupby(['month', 'school_holiday']).sum().reset_index()\n",
    "df_total_sales_by_month_school_holiday"
   ]
  },
  {
   "cell_type": "code",
   "execution_count": null,
   "metadata": {
    "ExecuteTime": {
     "end_time": "2020-05-31T18:58:43.455351Z",
     "start_time": "2020-05-31T18:58:42.901546Z"
    },
    "hidden": true
   },
   "outputs": [],
   "source": [
    "# uses the variable ax for single a Axes\n",
    "fig, ax = plt.subplots()\n",
    "\n",
    "# sets the figure size in inches\n",
    "ax.figure.set_size_inches(16, 8)\n",
    "\n",
    "# plots a barplot for total sales by school_holiday\n",
    "plt.subplot(2, 1, 1)\n",
    "ax = sns.barplot(x='school_holiday', y='sales', data=df_total_sales_by_school_holiday)\n",
    "\n",
    "# sets the title and axis labels\n",
    "set_plots_features(ax, \"Total sales during school holiday\", \"School Holiday\", \"Total sales\")\n",
    "\n",
    "# sets xticks labels\n",
    "ax.set_xticklabels(['Holiday','Not holiday'])\n",
    "\n",
    "# plots a barplot for total sales by month and school_holiday\n",
    "plt.subplot(2, 1, 2)\n",
    "ax = sns.barplot(x='month', y='sales', hue='school_holiday', data=df_total_sales_by_month_school_holiday)\n",
    "\n",
    "# sets the title and axis labels\n",
    "set_plots_features(ax, \"Total sales during school holiday by month\", \"Month\", \"Total sales\")\n",
    "\n",
    "# sets legend\n",
    "labels = ['holiday','not holiday']\n",
    "h, _ = ax.get_legend_handles_labels()\n",
    "ax.legend(h, labels)\n",
    "\n",
    "# adjusts the vertical space between plots\n",
    "plt.subplots_adjust(hspace = 0.4)\n",
    "\n",
    "# displays the plots\n",
    "plt.show()"
   ]
  },
  {
   "cell_type": "markdown",
   "metadata": {
    "hidden": true
   },
   "source": [
    "As observed in the previous results, in general, stores **have lesser sales during school holidays, except on months of July and August**. \n",
    "\n",
    "> #### Thus, our hypothesis is **TRUE**."
   ]
  },
  {
   "cell_type": "markdown",
   "metadata": {
    "heading_collapsed": true,
    "hidden": true
   },
   "source": [
    "### 4.2.1. Hypotheses summary"
   ]
  },
  {
   "cell_type": "code",
   "execution_count": null,
   "metadata": {
    "ExecuteTime": {
     "end_time": "2020-05-31T18:58:43.493851Z",
     "start_time": "2020-05-31T18:58:43.457206Z"
    },
    "hidden": true,
    "hide_input": true
   },
   "outputs": [],
   "source": [
    "from tabulate import tabulate"
   ]
  },
  {
   "cell_type": "code",
   "execution_count": null,
   "metadata": {
    "ExecuteTime": {
     "end_time": "2020-05-31T18:58:43.503909Z",
     "start_time": "2020-05-31T18:58:43.495932Z"
    },
    "hidden": true,
    "hide_input": true
   },
   "outputs": [],
   "source": [
    "tab = [\n",
    "    ['Hypothesis','Conclusion','Relavance to ML model'],\n",
    "    ['H1','False','Low'],\n",
    "    ['H2','False','Medium'],\n",
    "    ['H3','False','Medium'],\n",
    "    ['H4','False','Low'],\n",
    "    ['H5','--','--'],\n",
    "    ['H6','False','Low'],\n",
    "    ['H7','False','Medium'],\n",
    "    ['H8','False','High'],\n",
    "    ['H9','False','High'],\n",
    "    ['H10','True','High'],\n",
    "    ['H11','True','High'],\n",
    "    ['H12','True','Low']\n",
    "]\n",
    "\n",
    "print(tabulate(tab, headers='firstrow'))"
   ]
  },
  {
   "cell_type": "markdown",
   "metadata": {
    "heading_collapsed": true,
    "hidden": true
   },
   "source": [
    "## 4.3 Multivariate analysis"
   ]
  },
  {
   "cell_type": "markdown",
   "metadata": {
    "heading_collapsed": true,
    "hidden": true
   },
   "source": [
    "### 4.3.1 Numerical Attributes"
   ]
  },
  {
   "cell_type": "code",
   "execution_count": null,
   "metadata": {
    "ExecuteTime": {
     "end_time": "2020-05-31T18:58:43.520546Z",
     "start_time": "2020-05-31T18:58:43.506324Z"
    },
    "hidden": true
   },
   "outputs": [],
   "source": [
    "# checks the numerical attributes dataset\n",
    "num_attributes.head()"
   ]
  },
  {
   "cell_type": "code",
   "execution_count": null,
   "metadata": {
    "ExecuteTime": {
     "end_time": "2020-05-31T18:58:45.273934Z",
     "start_time": "2020-05-31T18:58:43.522644Z"
    },
    "hidden": true
   },
   "outputs": [],
   "source": [
    "# gets the correlation between the numerical variables\n",
    "correlation = num_attributes.corr(method='pearson')\n",
    "\n",
    "# uses the variable ax for single a Axes\n",
    "fig, ax = plt.subplots()\n",
    "\n",
    "# sets the figure size in inches\n",
    "ax.figure.set_size_inches(16, 8)\n",
    "\n",
    "# plots the heatmap\n",
    "sns.heatmap(correlation, annot=True)\n",
    "\n",
    "# displays the plot\n",
    "plt.show()"
   ]
  },
  {
   "cell_type": "markdown",
   "metadata": {
    "heading_collapsed": true,
    "hidden": true
   },
   "source": [
    "### 4.3.2 Categorical Attributes\n",
    "To make the correlation between two categorical variables, we'll use the [Cramér V method](https://en.wikipedia.org/wiki/Cram%C3%A9r%27s_V)."
   ]
  },
  {
   "cell_type": "code",
   "execution_count": null,
   "metadata": {
    "ExecuteTime": {
     "end_time": "2020-05-31T18:58:45.328859Z",
     "start_time": "2020-05-31T18:58:45.275822Z"
    },
    "hidden": true
   },
   "outputs": [],
   "source": [
    "# gets the categorical variables from the dataset\n",
    "df_cat_vars = df4.select_dtypes(include='object')\n",
    "df_cat_vars.head()"
   ]
  },
  {
   "cell_type": "code",
   "execution_count": null,
   "metadata": {
    "ExecuteTime": {
     "end_time": "2020-05-31T18:58:45.488626Z",
     "start_time": "2020-05-31T18:58:45.331035Z"
    },
    "hidden": true
   },
   "outputs": [],
   "source": [
    "# builds the contigency matrix (or confusion matrix) \n",
    "confusion_matrix = pd.crosstab(df_cat_vars['state_holiday'], df_cat_vars['store_type']).values\n",
    "confusion_matrix"
   ]
  },
  {
   "cell_type": "markdown",
   "metadata": {
    "heading_collapsed": true,
    "hidden": true
   },
   "source": [
    "#### 4.3.2.1 Manually calculating Cramér V using [scipy.stats.chi2_contingency](https://docs.scipy.org/doc/scipy/reference/generated/scipy.stats.chi2_contingency.html)"
   ]
  },
  {
   "cell_type": "code",
   "execution_count": null,
   "metadata": {
    "ExecuteTime": {
     "end_time": "2020-05-31T18:58:45.493315Z",
     "start_time": "2020-05-31T18:58:45.490709Z"
    },
    "hidden": true
   },
   "outputs": [],
   "source": [
    "from scipy.stats import chi2_contingency"
   ]
  },
  {
   "cell_type": "code",
   "execution_count": null,
   "metadata": {
    "ExecuteTime": {
     "end_time": "2020-05-31T18:58:45.500745Z",
     "start_time": "2020-05-31T18:58:45.495334Z"
    },
    "hidden": true
   },
   "outputs": [],
   "source": [
    "# getting the chi-squared\n",
    "chi2 = chi2_contingency(confusion_matrix)[0]\n",
    "chi2"
   ]
  },
  {
   "cell_type": "code",
   "execution_count": null,
   "metadata": {
    "ExecuteTime": {
     "end_time": "2020-05-31T18:58:45.507538Z",
     "start_time": "2020-05-31T18:58:45.503132Z"
    },
    "hidden": true
   },
   "outputs": [],
   "source": [
    "# getting the sum of all values in the matrix\n",
    "n = confusion_matrix.sum()\n",
    "n"
   ]
  },
  {
   "cell_type": "code",
   "execution_count": null,
   "metadata": {
    "ExecuteTime": {
     "end_time": "2020-05-31T18:58:45.514869Z",
     "start_time": "2020-05-31T18:58:45.511021Z"
    },
    "hidden": true
   },
   "outputs": [],
   "source": [
    "# getting the rows, cols\n",
    "r, k = confusion_matrix.shape\n",
    "\n",
    "print(r, k)"
   ]
  },
  {
   "cell_type": "markdown",
   "metadata": {
    "hidden": true
   },
   "source": [
    "From [wikipedia](https://en.wikipedia.org/wiki/Cram%C3%A9r's_V).\n",
    "\n",
    "Cramér's V is computed by taking the square root of the chi-squared statistic divided by the sample size and the minimum dimension minus 1:\n",
    "\n",
    "### $V = \\sqrt{\\frac{\\varphi^2}{\\min(k - 1,r-1)}} = \\sqrt{ \\frac{\\chi^2/n}{\\min(k - 1,r-1)}}$\n",
    "\n",
    "where:\n",
    "* $\\varphi$ is the phi coefficient.\n",
    "* $\\chi^2$ is derived from Pearson's chi-squared test\n",
    "* $n$ is the grand total of observations and\n",
    "* $k$ being  the number of columns.\n",
    "* $r$ being  the number of rows.\n",
    "\n",
    "**Bias correction**\n",
    "\n",
    "Cramér's V can be a heavily biased estimator of its population counterpart and will tend to overestimate the strength of association. A bias correction, using the above notation, is given by:\n",
    "\n",
    "$\\tilde V = \\sqrt{\\frac{\\tilde\\varphi^2}{\\min(\\tilde k - 1,\\tilde r - 1)}} $&nbsp;\n",
    "\n",
    "where\n",
    "\n",
    "$ \\tilde\\varphi^2 = \\max\\left(0,\\varphi^2 - \\frac{(k-1)(r-1)}{n-1}\\right) $&nbsp;\n",
    "\n",
    "and\n",
    "\n",
    "$ \\tilde k = k - \\frac{(k-1)^2}{n-1} $&nbsp;\n",
    "\n",
    "$ \\tilde r = r - \\frac{(r-1)^2}{n-1} $&nbsp;\n",
    "\n",
    "Then $\\tilde V$ estimates the same population quantity as Cramér's V but with typically much smaller mean squared error. The rationale for the correction is that under independence, $E[\\varphi^2]=\\frac{(k-1)(r-1)}{n-1}$."
   ]
  },
  {
   "cell_type": "markdown",
   "metadata": {
    "hidden": true
   },
   "source": [
    "The range of Cramér V is [0 to 1], so we don't have negative correlation. Thus, the closer to zero, the lesser is the correlation and the closer to 1, the higher is the correlation."
   ]
  },
  {
   "cell_type": "code",
   "execution_count": null,
   "metadata": {
    "ExecuteTime": {
     "end_time": "2020-05-31T18:58:45.523242Z",
     "start_time": "2020-05-31T18:58:45.517448Z"
    },
    "hidden": true
   },
   "outputs": [],
   "source": [
    "# calculates Cramér V\n",
    "cramer_v = np.sqrt((chi2/n) / min(k-1, r-1))\n",
    "cramer_v"
   ]
  },
  {
   "cell_type": "markdown",
   "metadata": {
    "hidden": true
   },
   "source": [
    "#### 4.3.2.2 Using the defined `cramer_v` function to make the calculations"
   ]
  },
  {
   "cell_type": "code",
   "execution_count": null,
   "metadata": {
    "ExecuteTime": {
     "end_time": "2020-05-31T18:59:10.361667Z",
     "start_time": "2020-05-31T18:59:09.346313Z"
    },
    "hidden": true
   },
   "outputs": [],
   "source": [
    "# makes all the possible combinations between categorical variables\n",
    "a1 = cramer_v(df_cat_vars['state_holiday'], df_cat_vars['state_holiday'])\n",
    "a2 = cramer_v(df_cat_vars['state_holiday'], df_cat_vars['store_type'])\n",
    "a3 = cramer_v(df_cat_vars['state_holiday'], df_cat_vars['assortment'])\n",
    "\n",
    "a4 = cramer_v(df_cat_vars['store_type'], df_cat_vars['state_holiday'])\n",
    "a5 = cramer_v(df_cat_vars['store_type'], df_cat_vars['store_type'])\n",
    "a6 = cramer_v(df_cat_vars['store_type'], df_cat_vars['assortment'])\n",
    "\n",
    "a7 = cramer_v(df_cat_vars['assortment'], df_cat_vars['state_holiday'])\n",
    "a8 = cramer_v(df_cat_vars['assortment'], df_cat_vars['store_type'])\n",
    "a9 = cramer_v(df_cat_vars['assortment'], df_cat_vars['assortment'])\n",
    "\n",
    "# builds the dataset to make the correlations\n",
    "d = pd.DataFrame({'state_holiday': [a1, a2, a3],\n",
    "              'store_type': [a4, a5, a6],\n",
    "              'assortment': [a7, a8, a9],\n",
    "             })\n",
    "\n",
    "# sets index equal to columns\n",
    "d = d.set_index(d.columns)\n",
    "d"
   ]
  },
  {
   "cell_type": "markdown",
   "metadata": {
    "hidden": true
   },
   "source": [
    "#### 4.3.2.3 Plotting the correlations"
   ]
  },
  {
   "cell_type": "code",
   "execution_count": null,
   "metadata": {
    "ExecuteTime": {
     "end_time": "2020-05-31T18:59:14.786276Z",
     "start_time": "2020-05-31T18:59:14.554098Z"
    },
    "hidden": true
   },
   "outputs": [],
   "source": [
    "# uses the variable ax for single a Axes\n",
    "fig, ax = plt.subplots()\n",
    "\n",
    "# sets the figure size in inches\n",
    "ax.figure.set_size_inches(16, 8)\n",
    "\n",
    "# plots the heatmap\n",
    "sns.heatmap(d, annot=True, annot_kws={\"fontsize\":14})\n",
    "\n",
    "# displays plot\n",
    "plt.show()"
   ]
  },
  {
   "cell_type": "markdown",
   "metadata": {
    "hidden": true
   },
   "source": [
    "As observed in the results, the correlation coefficient between `store_type` and `assortment` is `0.54` which is a medium correlation and makes sense, as the bigger the store, the higher is the assortment of its products."
   ]
  },
  {
   "cell_type": "markdown",
   "metadata": {
    "heading_collapsed": true
   },
   "source": [
    "# 5.0 DATA PREPARATION"
   ]
  },
  {
   "cell_type": "markdown",
   "metadata": {
    "heading_collapsed": true,
    "hidden": true
   },
   "source": [
    "### 5.0.1 Project Checkpoint\n",
    "Let's save our progress and make a checkpoint in our project by making a copy of `df4`. So we don't have to run everything from the start. We can start from here."
   ]
  },
  {
   "cell_type": "code",
   "execution_count": null,
   "metadata": {
    "ExecuteTime": {
     "end_time": "2020-05-31T18:59:28.862890Z",
     "start_time": "2020-05-31T18:59:28.732320Z"
    },
    "hidden": true
   },
   "outputs": [],
   "source": [
    "# copies df4 to df5\n",
    "df5 = df4.copy()"
   ]
  },
  {
   "cell_type": "code",
   "execution_count": null,
   "metadata": {
    "ExecuteTime": {
     "end_time": "2020-05-31T18:59:29.651500Z",
     "start_time": "2020-05-31T18:59:29.630303Z"
    },
    "hidden": true
   },
   "outputs": [],
   "source": [
    "# checks de dataset\n",
    "df5.head()"
   ]
  },
  {
   "cell_type": "markdown",
   "metadata": {
    "heading_collapsed": true,
    "hidden": true
   },
   "source": [
    "## 5.1 Normalization"
   ]
  },
  {
   "cell_type": "markdown",
   "metadata": {
    "hidden": true
   },
   "source": [
    "We need to check the variables distributions. So, we check the distributions from section **4.1.2 Numerical variable**.\n",
    "\n",
    "![](../img/412_numerical_variables_hist.png)\n",
    "\n",
    "As we can observe, there is no variable presenting a normal distribution, note even nearly normal. So, it is preferred to leave as it is than to risk a erroneous normalization."
   ]
  },
  {
   "cell_type": "markdown",
   "metadata": {
    "heading_collapsed": true,
    "hidden": true
   },
   "source": [
    "## 5.2 Rescaling"
   ]
  },
  {
   "cell_type": "markdown",
   "metadata": {
    "hidden": true
   },
   "source": [
    "First we need to identify which variable we need to apply the rescaling."
   ]
  },
  {
   "cell_type": "code",
   "execution_count": null,
   "metadata": {
    "ExecuteTime": {
     "end_time": "2020-05-31T18:59:39.116296Z",
     "start_time": "2020-05-31T18:59:38.968439Z"
    },
    "hidden": true
   },
   "outputs": [],
   "source": [
    "# selects only numerical data types variables\n",
    "df_numerical_vars = df5.select_dtypes(include=['int64','float64'])\n",
    "df_numerical_vars.head()"
   ]
  },
  {
   "cell_type": "markdown",
   "metadata": {
    "hidden": true
   },
   "source": [
    "#### Using sklearn.preprocessing.RobustScaler\n",
    "https://scikit-learn.org/stable/modules/generated/sklearn.preprocessing.RobustScaler.html?highlight=robustscaler#sklearn.preprocessing.RobustScaler\n",
    "\n",
    "#### Using sklearn.preprocessing.MinMaxScaler\n",
    "https://scikit-learn.org/stable/modules/generated/sklearn.preprocessing.MinMaxScaler.html?highlight=sklearn%20preprocessing%20minmaxscaler"
   ]
  },
  {
   "cell_type": "code",
   "execution_count": null,
   "metadata": {
    "ExecuteTime": {
     "end_time": "2020-05-31T18:59:44.170830Z",
     "start_time": "2020-05-31T18:59:44.168013Z"
    },
    "hidden": true
   },
   "outputs": [],
   "source": [
    "# instantiates the classes\n",
    "rs = RobustScaler()\n",
    "mms = MinMaxScaler()"
   ]
  },
  {
   "cell_type": "markdown",
   "metadata": {
    "heading_collapsed": true,
    "hidden": true
   },
   "source": [
    "### 5.2.1 Rescaling `competition_distance`"
   ]
  },
  {
   "cell_type": "code",
   "execution_count": null,
   "metadata": {
    "ExecuteTime": {
     "end_time": "2020-05-31T18:58:45.564791Z",
     "start_time": "2020-05-31T18:54:05.996Z"
    },
    "hidden": true
   },
   "outputs": [],
   "source": [
    "# checks for outliers\n",
    "\n",
    "# uses the variable ax for single a Axes\n",
    "fig, ax = plt.subplots()\n",
    "\n",
    "# sets the figure size in inches\n",
    "ax.figure.set_size_inches(16, 8)\n",
    "\n",
    "# plots a box plot\n",
    "ax = sns.boxplot(df5['competition_distance'])\n",
    "\n",
    "# display the plot\n",
    "plt.show()"
   ]
  },
  {
   "cell_type": "markdown",
   "metadata": {
    "hidden": true
   },
   "source": [
    "As observed in the results, there is a clear presence of outliers."
   ]
  },
  {
   "cell_type": "code",
   "execution_count": null,
   "metadata": {
    "ExecuteTime": {
     "end_time": "2020-05-31T19:00:07.405598Z",
     "start_time": "2020-05-31T19:00:07.358126Z"
    },
    "hidden": true
   },
   "outputs": [],
   "source": [
    "# competition_distance\n",
    "df5['competition_distance'] = rs.fit_transform(df5[['competition_distance']])\n",
    "\n",
    "# saves the rescaling\n",
    "pickle.dump(rs, open('../parameter/competition_distance_scaler.pkl', 'wb'))"
   ]
  },
  {
   "cell_type": "code",
   "execution_count": null,
   "metadata": {
    "ExecuteTime": {
     "end_time": "2020-05-31T18:58:45.568834Z",
     "start_time": "2020-05-31T18:54:06.007Z"
    },
    "hidden": true
   },
   "outputs": [],
   "source": [
    "df5[['competition_distance']]"
   ]
  },
  {
   "cell_type": "code",
   "execution_count": null,
   "metadata": {
    "ExecuteTime": {
     "end_time": "2020-05-31T18:58:45.571048Z",
     "start_time": "2020-05-31T18:54:06.011Z"
    },
    "hidden": true
   },
   "outputs": [],
   "source": [
    "# uses the variable ax for single a Axes\n",
    "fig, ax = plt.subplots()\n",
    "\n",
    "# sets the figure size in inches\n",
    "ax.figure.set_size_inches(16, 8)\n",
    "\n",
    "# plots a box plot\n",
    "ax = sns.distplot(df5['competition_distance'])\n",
    "\n",
    "# display the plot\n",
    "plt.show()"
   ]
  },
  {
   "cell_type": "markdown",
   "metadata": {
    "heading_collapsed": true,
    "hidden": true
   },
   "source": [
    "### 5.2.2 Rescaling `competition_time_month`"
   ]
  },
  {
   "cell_type": "code",
   "execution_count": null,
   "metadata": {
    "ExecuteTime": {
     "end_time": "2020-05-31T18:58:45.572801Z",
     "start_time": "2020-05-31T18:54:06.018Z"
    },
    "hidden": true
   },
   "outputs": [],
   "source": [
    "# checks for outliers\n",
    "\n",
    "# uses the variable ax for single a Axes\n",
    "fig, ax = plt.subplots()\n",
    "\n",
    "# sets the figure size in inches\n",
    "ax.figure.set_size_inches(16, 8)\n",
    "\n",
    "# plots a box plot\n",
    "ax = sns.boxplot(df5['competition_time_month'])\n",
    "\n",
    "# display the plot\n",
    "plt.show()"
   ]
  },
  {
   "cell_type": "markdown",
   "metadata": {
    "hidden": true
   },
   "source": [
    "As observed in the results, there is a clear presence of outliers."
   ]
  },
  {
   "cell_type": "code",
   "execution_count": null,
   "metadata": {
    "ExecuteTime": {
     "end_time": "2020-05-31T19:00:21.083882Z",
     "start_time": "2020-05-31T19:00:20.955673Z"
    },
    "hidden": true
   },
   "outputs": [],
   "source": [
    "# competition_time_month\n",
    "df5['competition_time_month'] = rs.fit_transform(df5[['competition_time_month']])\n",
    "\n",
    "# saves the rescaling\n",
    "pickle.dump(rs, open('../parameter/competition_time_month_scaler.pkl', 'wb'))"
   ]
  },
  {
   "cell_type": "code",
   "execution_count": null,
   "metadata": {
    "ExecuteTime": {
     "end_time": "2020-05-31T18:58:45.577399Z",
     "start_time": "2020-05-31T18:54:06.030Z"
    },
    "hidden": true
   },
   "outputs": [],
   "source": [
    "# checks the operation\n",
    "df5[['competition_time_month']]"
   ]
  },
  {
   "cell_type": "markdown",
   "metadata": {
    "heading_collapsed": true,
    "hidden": true
   },
   "source": [
    "### 5.2.3 Rescaling `promo_time_week`"
   ]
  },
  {
   "cell_type": "code",
   "execution_count": null,
   "metadata": {
    "ExecuteTime": {
     "end_time": "2020-05-31T18:58:45.579534Z",
     "start_time": "2020-05-31T18:54:06.036Z"
    },
    "hidden": true
   },
   "outputs": [],
   "source": [
    "# checks for outliers\n",
    "\n",
    "# uses the variable ax for single a Axes\n",
    "fig, ax = plt.subplots()\n",
    "\n",
    "# sets the figure size in inches\n",
    "ax.figure.set_size_inches(16, 8)\n",
    "\n",
    "# plots a box plot\n",
    "ax = sns.boxplot(df5['promo_time_week'])\n",
    "\n",
    "# display the plot\n",
    "plt.show()"
   ]
  },
  {
   "cell_type": "markdown",
   "metadata": {
    "hidden": true
   },
   "source": [
    "As observed in the results, there is a clear presence of outliers. However, they are not that far from the superior whisker. So we can take a chance to use the Min-Max Scaler."
   ]
  },
  {
   "cell_type": "code",
   "execution_count": null,
   "metadata": {
    "ExecuteTime": {
     "end_time": "2020-05-31T19:00:55.171463Z",
     "start_time": "2020-05-31T19:00:55.030547Z"
    },
    "hidden": true
   },
   "outputs": [],
   "source": [
    "# promo_time_week\n",
    "df5['promo_time_week'] = mms.fit_transform(df5[['promo_time_week']])\n",
    "\n",
    "# saves the rescaling\n",
    "pickle.dump(mms, open('../parameter/promo_time_week_scaler.pkl', 'wb'))"
   ]
  },
  {
   "cell_type": "code",
   "execution_count": null,
   "metadata": {
    "ExecuteTime": {
     "end_time": "2020-05-31T18:58:45.583672Z",
     "start_time": "2020-05-31T18:54:06.046Z"
    },
    "hidden": true
   },
   "outputs": [],
   "source": [
    "# checks the operations\n",
    "df5[['promo_time_week']]"
   ]
  },
  {
   "cell_type": "code",
   "execution_count": null,
   "metadata": {
    "ExecuteTime": {
     "end_time": "2020-05-31T19:34:31.179019Z",
     "start_time": "2020-05-31T19:34:30.623563Z"
    },
    "hidden": true
   },
   "outputs": [],
   "source": [
    "# year\n",
    "df5['year'] = mms.fit_transform(df5[['year']])\n",
    "\n",
    "# saves the rescaling\n",
    "pickle.dump(mms, open('../parameter/year_scaler.pkl', 'wb'))"
   ]
  },
  {
   "cell_type": "markdown",
   "metadata": {
    "heading_collapsed": true,
    "hidden": true
   },
   "source": [
    "## 5.3 Transformation"
   ]
  },
  {
   "cell_type": "markdown",
   "metadata": {
    "heading_collapsed": true,
    "hidden": true
   },
   "source": [
    "### 5.3.1 Encoding"
   ]
  },
  {
   "cell_type": "markdown",
   "metadata": {
    "heading_collapsed": true,
    "hidden": true
   },
   "source": [
    "#### 5.3.1.1 One Hot Encoding for `state_holiday`"
   ]
  },
  {
   "cell_type": "code",
   "execution_count": null,
   "metadata": {
    "ExecuteTime": {
     "end_time": "2020-05-31T19:01:09.630555Z",
     "start_time": "2020-05-31T19:01:09.257943Z"
    },
    "hidden": true
   },
   "outputs": [],
   "source": [
    "# state_holiday\n",
    "# One Hot Encoding\n",
    "df5 = pd.get_dummies(df5, prefix=['state_holiday'], columns=['state_holiday'])"
   ]
  },
  {
   "cell_type": "code",
   "execution_count": null,
   "metadata": {
    "ExecuteTime": {
     "end_time": "2020-05-31T19:01:10.408669Z",
     "start_time": "2020-05-31T19:01:10.384225Z"
    },
    "hidden": true
   },
   "outputs": [],
   "source": [
    "# checks the dataset after operations\n",
    "df5.head()"
   ]
  },
  {
   "cell_type": "markdown",
   "metadata": {
    "heading_collapsed": true,
    "hidden": true
   },
   "source": [
    "#### 5.3.1.2 Label Encoding for `store_type`"
   ]
  },
  {
   "cell_type": "code",
   "execution_count": null,
   "metadata": {
    "ExecuteTime": {
     "end_time": "2020-05-31T19:01:13.697170Z",
     "start_time": "2020-05-31T19:01:13.694356Z"
    },
    "hidden": true
   },
   "outputs": [],
   "source": [
    "# instantiates the class\n",
    "le = LabelEncoder()"
   ]
  },
  {
   "cell_type": "code",
   "execution_count": null,
   "metadata": {
    "ExecuteTime": {
     "end_time": "2020-05-31T19:03:51.383918Z",
     "start_time": "2020-05-31T19:03:51.329482Z"
    },
    "hidden": true
   },
   "outputs": [],
   "source": [
    "# store_type\n",
    "# Label Encoding - as we don't know if there is an order\n",
    "df5['store_type'] = le.fit_transform(df5['store_type'])\n",
    "\n",
    "# saves the encoder\n",
    "pickle.dump(le, open('../parameter/store_type_scaler.pkl', 'wb'))"
   ]
  },
  {
   "cell_type": "code",
   "execution_count": null,
   "metadata": {
    "ExecuteTime": {
     "end_time": "2020-05-31T19:01:15.207251Z",
     "start_time": "2020-05-31T19:01:15.183482Z"
    },
    "hidden": true
   },
   "outputs": [],
   "source": [
    "# checks the dataset after operations\n",
    "df5.head()"
   ]
  },
  {
   "cell_type": "markdown",
   "metadata": {
    "heading_collapsed": true,
    "hidden": true
   },
   "source": [
    "#### 5.3.1.3 Label Encoding for `assortment`"
   ]
  },
  {
   "cell_type": "code",
   "execution_count": null,
   "metadata": {
    "ExecuteTime": {
     "end_time": "2020-05-31T19:01:16.786215Z",
     "start_time": "2020-05-31T19:01:16.730880Z"
    },
    "hidden": true
   },
   "outputs": [],
   "source": [
    "# assortment\n",
    "# Ordinal Encoding - as there is an order\n",
    "\n",
    "# explicitly dictates the encoding codes\n",
    "assortment_dict = {'basic':1,\n",
    "                   'extra': 2,\n",
    "                   'extended': 3\n",
    "                  }\n",
    "\n",
    "# maps the names\n",
    "df5['assortment'] = df5['assortment'].map(assortment_dict)"
   ]
  },
  {
   "cell_type": "code",
   "execution_count": null,
   "metadata": {
    "ExecuteTime": {
     "end_time": "2020-05-30T14:50:26.244647Z",
     "start_time": "2020-05-30T14:50:26.220554Z"
    },
    "hidden": true
   },
   "outputs": [],
   "source": [
    "# checks the dataset after operations\n",
    "df5.head()"
   ]
  },
  {
   "cell_type": "markdown",
   "metadata": {
    "heading_collapsed": true,
    "hidden": true
   },
   "source": [
    "### 5.3.2 Target Variable Transformation"
   ]
  },
  {
   "cell_type": "code",
   "execution_count": null,
   "metadata": {
    "ExecuteTime": {
     "end_time": "2020-05-31T19:01:21.262901Z",
     "start_time": "2020-05-31T19:01:21.244568Z"
    },
    "hidden": true
   },
   "outputs": [],
   "source": [
    "# applies the logarithm \n",
    "df5['sales'] = np.log1p(df5['sales'])"
   ]
  },
  {
   "cell_type": "code",
   "execution_count": null,
   "metadata": {
    "ExecuteTime": {
     "end_time": "2020-05-31T19:01:23.695568Z",
     "start_time": "2020-05-31T19:01:21.646156Z"
    },
    "hidden": true
   },
   "outputs": [],
   "source": [
    "# uses the variable ax for single a Axes\n",
    "fig, ax = plt.subplots()\n",
    "\n",
    "# sets the figure size in inches\n",
    "ax.figure.set_size_inches(16, 8)\n",
    "\n",
    "# plots a box plot\n",
    "ax = sns.distplot(df5['sales'])\n",
    "\n",
    "# sets the plot features\n",
    "set_plots_features(ax, \"Sales Distribution - Logarithm Transformation Applied\", \"Sales\", \"Frequency\")\n",
    "\n",
    "# display the plot\n",
    "plt.show()"
   ]
  },
  {
   "cell_type": "markdown",
   "metadata": {
    "heading_collapsed": true,
    "hidden": true
   },
   "source": [
    "### 5.3.2 Nature Transformation"
   ]
  },
  {
   "cell_type": "code",
   "execution_count": null,
   "metadata": {
    "ExecuteTime": {
     "end_time": "2020-05-31T19:01:34.607115Z",
     "start_time": "2020-05-31T19:01:26.070806Z"
    },
    "hidden": true
   },
   "outputs": [],
   "source": [
    "# day_of_week\n",
    "df5['day_of_week_sin'] = df5['day_of_week'].apply(lambda x: np.sin(x *(2. * np.pi / 7)))\n",
    "df5['day_of_week_cos'] = df5['day_of_week'].apply(lambda x: np.cos(x *(2. * np.pi / 7)))\n",
    "\n",
    "# month\n",
    "df5['month_sin'] = df5['month'].apply(lambda x: np.sin(x *(2. * np.pi / 12)))\n",
    "df5['month_cos'] = df5['month'].apply(lambda x: np.cos(x *(2. * np.pi / 12)))\n",
    "\n",
    "# day\n",
    "df5['day_sin'] = df5['day'].apply(lambda x: np.sin(x *(2. * np.pi / 30)))\n",
    "df5['day_cos'] = df5['day'].apply(lambda x: np.cos(x *(2. * np.pi / 30)))\n",
    "\n",
    "# week_of_year\n",
    "df5['week_of_year_sin'] = df5['week_of_year'].apply(lambda x: np.sin(x *(2. * np.pi / 52)))\n",
    "df5['week_of_year_cos'] = df5['week_of_year'].apply(lambda x: np.cos(x *(2. * np.pi / 52)))"
   ]
  },
  {
   "cell_type": "code",
   "execution_count": null,
   "metadata": {
    "ExecuteTime": {
     "end_time": "2020-05-31T19:01:34.638383Z",
     "start_time": "2020-05-31T19:01:34.609574Z"
    },
    "hidden": true
   },
   "outputs": [],
   "source": [
    "# checks the dataset after operations\n",
    "df5.head()"
   ]
  },
  {
   "cell_type": "markdown",
   "metadata": {
    "heading_collapsed": true,
    "hidden": true
   },
   "source": [
    "## 5.4 Exporting dataset\n",
    "Here we make a project checkpoint so we don't have to run all cells to reach the dataset current state."
   ]
  },
  {
   "cell_type": "code",
   "execution_count": null,
   "metadata": {
    "ExecuteTime": {
     "end_time": "2020-05-30T14:52:36.433067Z",
     "start_time": "2020-05-30T14:51:53.809770Z"
    },
    "hidden": true
   },
   "outputs": [],
   "source": [
    "# sets compression method\n",
    "compression_opts = dict(method='zip', archive_name='store_data_df5.csv')  \n",
    "\n",
    "# exports the dataset to a CSV file\n",
    "df5.to_csv('../data/store_data_df5.zip', index=False, compression=compression_opts)"
   ]
  },
  {
   "cell_type": "markdown",
   "metadata": {
    "heading_collapsed": true
   },
   "source": [
    "# 6.0 FEATURE SELECTION"
   ]
  },
  {
   "cell_type": "markdown",
   "metadata": {
    "heading_collapsed": true,
    "hidden": true
   },
   "source": [
    "### 6.0.1 Project Checkpoint\n",
    "Let's save our progress and make a checkpoint in our project by making a copy of `df5`. So we don't have to run everything from the start. We can start from here."
   ]
  },
  {
   "cell_type": "code",
   "execution_count": null,
   "metadata": {
    "ExecuteTime": {
     "end_time": "2020-05-30T14:52:49.955099Z",
     "start_time": "2020-05-30T14:52:49.497990Z"
    },
    "hidden": true
   },
   "outputs": [],
   "source": [
    "# copies df5 to df6\n",
    "df6 = df5.copy()"
   ]
  },
  {
   "cell_type": "code",
   "execution_count": 4,
   "metadata": {
    "ExecuteTime": {
     "end_time": "2020-06-02T11:33:22.294553Z",
     "start_time": "2020-06-02T11:33:18.632277Z"
    },
    "hidden": true
   },
   "outputs": [],
   "source": [
    "# loads saved data\n",
    "df6 = pd.read_csv('../data/store_data_df5.csv')"
   ]
  },
  {
   "cell_type": "code",
   "execution_count": 5,
   "metadata": {
    "ExecuteTime": {
     "end_time": "2020-06-02T11:33:22.399633Z",
     "start_time": "2020-06-02T11:33:22.296873Z"
    },
    "hidden": true
   },
   "outputs": [],
   "source": [
    "# converts do datetime64\n",
    "df6['date'] = pd.to_datetime(df6['date'])"
   ]
  },
  {
   "cell_type": "markdown",
   "metadata": {
    "heading_collapsed": true,
    "hidden": true
   },
   "source": [
    "### 6.0.2 Dropping columns\n",
    "As we have derived several variables, we need to drop the original variables."
   ]
  },
  {
   "cell_type": "code",
   "execution_count": null,
   "metadata": {
    "ExecuteTime": {
     "end_time": "2020-06-01T10:54:55.477868Z",
     "start_time": "2020-06-01T10:54:55.375434Z"
    },
    "hidden": true
   },
   "outputs": [],
   "source": [
    "# sets which cols need to be dropped\n",
    "cols_drop = ['week_of_year', 'day', 'month', 'day_of_week', 'promo_since', 'competition_since', 'year_week']\n",
    "\n",
    "# drops the given columns\n",
    "df6 = df6.drop(cols_drop, axis=1)"
   ]
  },
  {
   "cell_type": "code",
   "execution_count": null,
   "metadata": {
    "ExecuteTime": {
     "end_time": "2020-06-01T10:54:57.777985Z",
     "start_time": "2020-06-01T10:54:57.740190Z"
    },
    "hidden": true
   },
   "outputs": [],
   "source": [
    "# checks the operation\n",
    "df6"
   ]
  },
  {
   "cell_type": "markdown",
   "metadata": {
    "heading_collapsed": true,
    "hidden": true
   },
   "source": [
    "## 6.1 Split dataframe into training and test datasets"
   ]
  },
  {
   "cell_type": "markdown",
   "metadata": {
    "hidden": true
   },
   "source": [
    "To avoid overfitting in our model, we'll separate de last 6 weeks of our dataset for test and all the previous data for training."
   ]
  },
  {
   "cell_type": "code",
   "execution_count": null,
   "metadata": {
    "ExecuteTime": {
     "end_time": "2020-05-31T23:07:39.980209Z",
     "start_time": "2020-05-31T23:07:39.934426Z"
    },
    "code_folding": [],
    "hidden": true
   },
   "outputs": [],
   "source": [
    "# gets the first sales dates for each store\n",
    "df6[['store','date']].groupby('store').min().reset_index()"
   ]
  },
  {
   "cell_type": "code",
   "execution_count": null,
   "metadata": {
    "ExecuteTime": {
     "end_time": "2020-05-31T23:07:40.725879Z",
     "start_time": "2020-05-31T23:07:40.685523Z"
    },
    "hidden": true
   },
   "outputs": [],
   "source": [
    "# gets the last sales dates for each store\n",
    "df6[['store','date']].groupby('store').max().reset_index()"
   ]
  },
  {
   "cell_type": "code",
   "execution_count": null,
   "metadata": {
    "ExecuteTime": {
     "end_time": "2020-06-01T10:55:12.101484Z",
     "start_time": "2020-06-01T10:55:12.062208Z"
    },
    "hidden": true
   },
   "outputs": [],
   "source": [
    "# gets the date before the last 6 weeks of sales for each store\n",
    "df6[['store','date']].groupby('store').max().reset_index()['date'][0] - datetime.timedelta(days=6 * 7)"
   ]
  },
  {
   "cell_type": "code",
   "execution_count": 6,
   "metadata": {
    "ExecuteTime": {
     "end_time": "2020-06-02T11:33:38.104399Z",
     "start_time": "2020-06-02T11:33:37.907698Z"
    },
    "hidden": true
   },
   "outputs": [
    {
     "name": "stdout",
     "output_type": "stream",
     "text": [
      "Traning Min Date: 2013-01-01 00:00:00\n",
      "Traning Max Date: 2015-06-18 00:00:00\n",
      "\n",
      "Test Min Date: 2015-06-19 00:00:00\n",
      "Test Max Date: 2015-07-31 00:00:00\n"
     ]
    }
   ],
   "source": [
    "# creates the training dataset\n",
    "X_train = df6[df6['date'] < '2015-06-19']\n",
    "Y_train = X_train['sales']\n",
    "\n",
    "# creates the test dataset\n",
    "X_test = df6[df6['date'] >= '2015-06-19']\n",
    "Y_test = X_test['sales']\n",
    "\n",
    "# checking the operations\n",
    "print('Traning Min Date: {}'.format(X_train['date'].min()))\n",
    "print('Traning Max Date: {}'.format(X_train['date'].max()))\n",
    "\n",
    "print('\\nTest Min Date: {}'.format(X_test['date'].min()))\n",
    "print('Test Max Date: {}'.format(X_test['date'].max()))"
   ]
  },
  {
   "cell_type": "markdown",
   "metadata": {
    "heading_collapsed": true,
    "hidden": true
   },
   "source": [
    "## 6.2 Boruta as fetaure selector"
   ]
  },
  {
   "cell_type": "code",
   "execution_count": 7,
   "metadata": {
    "ExecuteTime": {
     "end_time": "2020-06-02T11:33:41.880411Z",
     "start_time": "2020-06-02T11:33:40.957306Z"
    },
    "hidden": true
   },
   "outputs": [],
   "source": [
    "# define traning and test data for Boruta\n",
    "X_train_n = X_train.drop(['date', 'sales'], axis=1).values\n",
    "Y_train_n = Y_train.values.ravel()"
   ]
  },
  {
   "cell_type": "code",
   "execution_count": 8,
   "metadata": {
    "ExecuteTime": {
     "end_time": "2020-06-02T11:33:42.810656Z",
     "start_time": "2020-06-02T11:33:42.808120Z"
    },
    "hidden": true
   },
   "outputs": [],
   "source": [
    "# define RandomForestRegressor\n",
    "# uses all cores from CPU (n_jobs=-1)\n",
    "rf = RandomForestRegressor(n_jobs=-1)"
   ]
  },
  {
   "cell_type": "markdown",
   "metadata": {
    "hidden": true
   },
   "source": [
    "**Disclaimer:** as the Boruta method takes very long time to run (~4h to 6h), I got the final features from the course video. Thus, the code that makes the calculation was commented."
   ]
  },
  {
   "cell_type": "code",
   "execution_count": null,
   "metadata": {
    "ExecuteTime": {
     "end_time": "2020-05-30T14:45:39.775314Z",
     "start_time": "2020-05-30T14:41:20.008Z"
    },
    "hidden": true
   },
   "outputs": [],
   "source": [
    "# define Boruta\n",
    "# boruta = BorutaPy(rf, n_estimators='auto', verbose=2, random_state=42).fit(X_train_n, Y_train_n)"
   ]
  },
  {
   "cell_type": "markdown",
   "metadata": {
    "heading_collapsed": true,
    "hidden": true
   },
   "source": [
    "### 6.2.1 Best features from Boruta"
   ]
  },
  {
   "cell_type": "code",
   "execution_count": null,
   "metadata": {
    "ExecuteTime": {
     "end_time": "2020-05-30T14:45:39.777233Z",
     "start_time": "2020-05-30T14:41:20.013Z"
    },
    "hidden": true
   },
   "outputs": [],
   "source": [
    "# # gets the ranked list of features\n",
    "# cols_selected = boruta.support_.tolist()\n",
    "\n",
    "# # gets the dataset w/o 'date' and 'sales'\n",
    "# X_train_feature_selection = X_train.drop(['date', 'sales'], axis=1)\n",
    "\n",
    "# # get best features (only columns) as a list\n",
    "# cols_selected_boruta = X_train_feature_selection.iloc[:, cols_selected].columns.to_list()"
   ]
  },
  {
   "cell_type": "code",
   "execution_count": null,
   "metadata": {
    "ExecuteTime": {
     "end_time": "2020-05-30T14:45:39.779360Z",
     "start_time": "2020-05-30T14:41:20.016Z"
    },
    "hidden": true
   },
   "outputs": [],
   "source": [
    "# # gets the columns that weren't selected by Boruta by comparison\n",
    "# cols_no_selected_boruta = list(np.setdiff1d(X_train_feature_selection, cols_selected_boruta))\n",
    "# cols_not_selected_boruta"
   ]
  },
  {
   "cell_type": "markdown",
   "metadata": {
    "hidden": true
   },
   "source": [
    "Comparing the columns between the ones that we outlined in the conclusion from our hypothesis and the ones that Boruta suggested, we can see some differences.\n",
    "\n",
    "However, this is not a problem, **since we are working in an iterative process (CRISP-DS)**. We can first test the model using only the features that Boruta suggested, then include the one by one from our hypothesis and test to see what happens.\n",
    "\n",
    "We'll include: `month_sin`, `week_of_year_sin`. "
   ]
  },
  {
   "cell_type": "markdown",
   "metadata": {
    "heading_collapsed": true,
    "hidden": true
   },
   "source": [
    "## 6.3 Manual feature selection"
   ]
  },
  {
   "cell_type": "code",
   "execution_count": 9,
   "metadata": {
    "ExecuteTime": {
     "end_time": "2020-06-02T11:33:47.934161Z",
     "start_time": "2020-06-02T11:33:47.930776Z"
    },
    "hidden": true
   },
   "outputs": [],
   "source": [
    "# bypasses the Boruta lenghty calculations\n",
    "cols_selected_boruta = ['store', 'promo', 'store_type',\n",
    "                       'assortment','competition_distance', 'competition_open_since_month',\n",
    "                       'competition_open_since_year','promo2', 'promo2_since_week',\n",
    "                       'promo2_since_year','competition_time_month', 'promo_time_week',\n",
    "                       'day_of_week_sin','day_of_week_cos', 'month_sin','month_cos',\n",
    "                       'day_sin','day_cos', 'week_of_year_sin', 'week_of_year_cos']"
   ]
  },
  {
   "cell_type": "code",
   "execution_count": 10,
   "metadata": {
    "ExecuteTime": {
     "end_time": "2020-06-02T11:33:48.381594Z",
     "start_time": "2020-06-02T11:33:48.378623Z"
    },
    "hidden": true
   },
   "outputs": [],
   "source": [
    "# includes the columns\n",
    "feat_to_add = ['date','sales']\n",
    "\n",
    "# final selected features\n",
    "cols_selected_boruta_full = cols_selected_boruta.copy()\n",
    "cols_selected_boruta_full.extend(feat_to_add)"
   ]
  },
  {
   "cell_type": "markdown",
   "metadata": {
    "heading_collapsed": true,
    "hidden": true
   },
   "source": [
    "## 6.4 Exporting dataset\n",
    "Here we make a project checkpoint so we don't have to run all cells to reach the dataset current state."
   ]
  },
  {
   "cell_type": "code",
   "execution_count": null,
   "metadata": {
    "ExecuteTime": {
     "end_time": "2020-05-30T14:54:03.927397Z",
     "start_time": "2020-05-30T14:53:36.087014Z"
    },
    "hidden": true
   },
   "outputs": [],
   "source": [
    "# sets compression method\n",
    "compression_opts = dict(method='zip', archive_name='store_data_df6.csv')  \n",
    "\n",
    "# exports the dataset to a CSV file\n",
    "df6.to_csv('../data/store_data_df6.zip', index=False, compression=compression_opts)"
   ]
  },
  {
   "cell_type": "markdown",
   "metadata": {
    "heading_collapsed": true
   },
   "source": [
    "# 7.0 MACHINE LEARNING MODELING"
   ]
  },
  {
   "cell_type": "markdown",
   "metadata": {
    "heading_collapsed": true,
    "hidden": true
   },
   "source": [
    "### 7.0.1 Loading data"
   ]
  },
  {
   "cell_type": "code",
   "execution_count": null,
   "metadata": {
    "ExecuteTime": {
     "end_time": "2020-05-30T15:54:12.453654Z",
     "start_time": "2020-05-30T15:54:08.392349Z"
    },
    "hidden": true
   },
   "outputs": [],
   "source": [
    "# loads the dataset\n",
    "df7 = pd.read_csv('../data/store_data_df6.csv', low_memory=False)"
   ]
  },
  {
   "cell_type": "code",
   "execution_count": null,
   "metadata": {
    "ExecuteTime": {
     "end_time": "2020-05-30T15:54:19.659245Z",
     "start_time": "2020-05-30T15:54:19.620273Z"
    },
    "hidden": true
   },
   "outputs": [],
   "source": [
    "# checks the dataset\n",
    "df7"
   ]
  },
  {
   "cell_type": "markdown",
   "metadata": {
    "heading_collapsed": true,
    "hidden": true
   },
   "source": [
    "### 7.0.2 Separating the data"
   ]
  },
  {
   "cell_type": "code",
   "execution_count": 26,
   "metadata": {
    "ExecuteTime": {
     "end_time": "2020-06-01T13:55:05.862416Z",
     "start_time": "2020-06-01T13:55:05.798238Z"
    },
    "hidden": true
   },
   "outputs": [],
   "source": [
    "# selects only the cols that where selected by Boruta\n",
    "x_train = X_train[cols_selected_boruta]\n",
    "x_test = X_test[cols_selected_boruta]"
   ]
  },
  {
   "cell_type": "code",
   "execution_count": 27,
   "metadata": {
    "ExecuteTime": {
     "end_time": "2020-06-01T13:55:06.365142Z",
     "start_time": "2020-06-01T13:55:06.360087Z"
    },
    "hidden": true
   },
   "outputs": [],
   "source": [
    "# creates dataset for test\n",
    "x_test_copy = x_test.copy()\n",
    "x_test_copy['sales'] = Y_test.copy()"
   ]
  },
  {
   "cell_type": "markdown",
   "metadata": {
    "heading_collapsed": true,
    "hidden": true
   },
   "source": [
    "## 7.1 Average model"
   ]
  },
  {
   "cell_type": "markdown",
   "metadata": {
    "hidden": true
   },
   "source": [
    "#### Using sklearn.metrics\n",
    "https://scikit-learn.org/stable/modules/model_evaluation.html#regression-metrics"
   ]
  },
  {
   "cell_type": "code",
   "execution_count": 65,
   "metadata": {
    "ExecuteTime": {
     "end_time": "2020-06-01T16:55:35.004329Z",
     "start_time": "2020-06-01T16:55:34.959519Z"
    },
    "hidden": true
   },
   "outputs": [
    {
     "data": {
      "text/html": [
       "<div>\n",
       "<style scoped>\n",
       "    .dataframe tbody tr th:only-of-type {\n",
       "        vertical-align: middle;\n",
       "    }\n",
       "\n",
       "    .dataframe tbody tr th {\n",
       "        vertical-align: top;\n",
       "    }\n",
       "\n",
       "    .dataframe thead th {\n",
       "        text-align: right;\n",
       "    }\n",
       "</style>\n",
       "<table border=\"1\" class=\"dataframe\">\n",
       "  <thead>\n",
       "    <tr style=\"text-align: right;\">\n",
       "      <th></th>\n",
       "      <th>Model Name</th>\n",
       "      <th>MAE</th>\n",
       "      <th>MAPE</th>\n",
       "      <th>RMSE</th>\n",
       "    </tr>\n",
       "  </thead>\n",
       "  <tbody>\n",
       "    <tr>\n",
       "      <th>0</th>\n",
       "      <td>Average Model</td>\n",
       "      <td>1354.800353</td>\n",
       "      <td>0.2064</td>\n",
       "      <td>1835.135542</td>\n",
       "    </tr>\n",
       "  </tbody>\n",
       "</table>\n",
       "</div>"
      ],
      "text/plain": [
       "      Model Name          MAE    MAPE         RMSE\n",
       "0  Average Model  1354.800353  0.2064  1835.135542"
      ]
     },
     "execution_count": 65,
     "metadata": {},
     "output_type": "execute_result"
    }
   ],
   "source": [
    "# prediction\n",
    "# gets the mean sales by store\n",
    "df_mean_sales_by_store = x_test_copy[['store', 'sales']].groupby('store').mean().reset_index().rename(columns={'sales': 'predictions'})\n",
    "\n",
    "# merges the datasets\n",
    "x_test_copy = pd.merge(x_test_copy, df_mean_sales_by_store, how='left', on='store')\n",
    "\n",
    "# estimates : baseline\n",
    "yhat_baseline = x_test_copy['predictions']\n",
    "\n",
    "\n",
    "# performance\n",
    "# calculates the performance\n",
    "baseline_result = ml_error('Average Model', np.expm1(Y_test), np.expm1(yhat_baseline))\n",
    "baseline_result"
   ]
  },
  {
   "cell_type": "markdown",
   "metadata": {
    "heading_collapsed": true,
    "hidden": true
   },
   "source": [
    "## 7.2 Linear Regression model"
   ]
  },
  {
   "cell_type": "markdown",
   "metadata": {
    "hidden": true
   },
   "source": [
    "#### Using sklearn.linear_model.LinearRegression\n",
    "https://scikit-learn.org/stable/modules/generated/sklearn.linear_model.LinearRegression.html#sklearn.linear_model.LinearRegression"
   ]
  },
  {
   "cell_type": "code",
   "execution_count": 62,
   "metadata": {
    "ExecuteTime": {
     "end_time": "2020-06-01T16:55:15.105350Z",
     "start_time": "2020-06-01T16:55:14.375556Z"
    },
    "hidden": true
   },
   "outputs": [
    {
     "data": {
      "text/html": [
       "<div>\n",
       "<style scoped>\n",
       "    .dataframe tbody tr th:only-of-type {\n",
       "        vertical-align: middle;\n",
       "    }\n",
       "\n",
       "    .dataframe tbody tr th {\n",
       "        vertical-align: top;\n",
       "    }\n",
       "\n",
       "    .dataframe thead th {\n",
       "        text-align: right;\n",
       "    }\n",
       "</style>\n",
       "<table border=\"1\" class=\"dataframe\">\n",
       "  <thead>\n",
       "    <tr style=\"text-align: right;\">\n",
       "      <th></th>\n",
       "      <th>Model Name</th>\n",
       "      <th>MAE</th>\n",
       "      <th>MAPE</th>\n",
       "      <th>RMSE</th>\n",
       "    </tr>\n",
       "  </thead>\n",
       "  <tbody>\n",
       "    <tr>\n",
       "      <th>0</th>\n",
       "      <td>Linear Regression</td>\n",
       "      <td>1867.089774</td>\n",
       "      <td>0.292694</td>\n",
       "      <td>2671.049215</td>\n",
       "    </tr>\n",
       "  </tbody>\n",
       "</table>\n",
       "</div>"
      ],
      "text/plain": [
       "          Model Name          MAE      MAPE         RMSE\n",
       "0  Linear Regression  1867.089774  0.292694  2671.049215"
      ]
     },
     "execution_count": 62,
     "metadata": {},
     "output_type": "execute_result"
    }
   ],
   "source": [
    "# model\n",
    "lr = LinearRegression().fit(x_train, Y_train)\n",
    "\n",
    "# prediction\n",
    "yhat_lr = lr.predict(x_test)\n",
    "\n",
    "# performance\n",
    "lr_result = ml_error('Linear Regression', np.expm1(Y_test), np.expm1(yhat_lr))\n",
    "lr_result"
   ]
  },
  {
   "cell_type": "markdown",
   "metadata": {
    "hidden": true
   },
   "source": [
    "Observing the results, the RMSE from the Linear Regression model (`2671.049215`) is higher than the RMS from Average model (`1835.135542`). Thus, the performance of the Linear Regression model is worse than the Average model. In addition, this tells us that the complexity of the relation between the variables is higher than linear. There is a non-linear relation."
   ]
  },
  {
   "cell_type": "markdown",
   "metadata": {
    "heading_collapsed": true,
    "hidden": true
   },
   "source": [
    "## 7.3 Linear Regression Regularized model - Lasso"
   ]
  },
  {
   "cell_type": "markdown",
   "metadata": {
    "hidden": true
   },
   "source": [
    "#### Using sklearn.linear_model.Lasso\n",
    "https://scikit-learn.org/stable/modules/generated/sklearn.linear_model.Lasso.html#sklearn.linear_model.Lasso"
   ]
  },
  {
   "cell_type": "markdown",
   "metadata": {
    "hidden": true
   },
   "source": [
    "The `alpha=0.01` is a parameter for the `Lasso` is used to balance the weights between the variables."
   ]
  },
  {
   "cell_type": "code",
   "execution_count": 63,
   "metadata": {
    "ExecuteTime": {
     "end_time": "2020-06-01T16:55:21.736445Z",
     "start_time": "2020-06-01T16:55:21.172196Z"
    },
    "hidden": true
   },
   "outputs": [
    {
     "data": {
      "text/html": [
       "<div>\n",
       "<style scoped>\n",
       "    .dataframe tbody tr th:only-of-type {\n",
       "        vertical-align: middle;\n",
       "    }\n",
       "\n",
       "    .dataframe tbody tr th {\n",
       "        vertical-align: top;\n",
       "    }\n",
       "\n",
       "    .dataframe thead th {\n",
       "        text-align: right;\n",
       "    }\n",
       "</style>\n",
       "<table border=\"1\" class=\"dataframe\">\n",
       "  <thead>\n",
       "    <tr style=\"text-align: right;\">\n",
       "      <th></th>\n",
       "      <th>Model Name</th>\n",
       "      <th>MAE</th>\n",
       "      <th>MAPE</th>\n",
       "      <th>RMSE</th>\n",
       "    </tr>\n",
       "  </thead>\n",
       "  <tbody>\n",
       "    <tr>\n",
       "      <th>0</th>\n",
       "      <td>Linear Regression - Lasso</td>\n",
       "      <td>1891.704881</td>\n",
       "      <td>0.289106</td>\n",
       "      <td>2744.451737</td>\n",
       "    </tr>\n",
       "  </tbody>\n",
       "</table>\n",
       "</div>"
      ],
      "text/plain": [
       "                  Model Name          MAE      MAPE         RMSE\n",
       "0  Linear Regression - Lasso  1891.704881  0.289106  2744.451737"
      ]
     },
     "execution_count": 63,
     "metadata": {},
     "output_type": "execute_result"
    }
   ],
   "source": [
    "# model\n",
    "lrr = Lasso(alpha=0.01).fit(x_train, Y_train)\n",
    "\n",
    "# prediction\n",
    "yhat_lrr = lrr.predict(x_test)\n",
    "\n",
    "# performance\n",
    "lrr_result = ml_error('Linear Regression - Lasso', np.expm1(Y_test), np.expm1(yhat_lrr))\n",
    "lrr_result"
   ]
  },
  {
   "cell_type": "markdown",
   "metadata": {
    "heading_collapsed": true,
    "hidden": true
   },
   "source": [
    "## 7.4 Random Forest Regressor"
   ]
  },
  {
   "cell_type": "markdown",
   "metadata": {
    "hidden": true
   },
   "source": [
    "#### Using sklearn.ensemble.RandomForestRegressor\n",
    "https://scikit-learn.org/stable/modules/generated/sklearn.ensemble.RandomForestRegressor.html"
   ]
  },
  {
   "cell_type": "code",
   "execution_count": 67,
   "metadata": {
    "ExecuteTime": {
     "end_time": "2020-06-01T16:59:28.048932Z",
     "start_time": "2020-06-01T16:56:04.030853Z"
    },
    "hidden": true
   },
   "outputs": [
    {
     "data": {
      "text/html": [
       "<div>\n",
       "<style scoped>\n",
       "    .dataframe tbody tr th:only-of-type {\n",
       "        vertical-align: middle;\n",
       "    }\n",
       "\n",
       "    .dataframe tbody tr th {\n",
       "        vertical-align: top;\n",
       "    }\n",
       "\n",
       "    .dataframe thead th {\n",
       "        text-align: right;\n",
       "    }\n",
       "</style>\n",
       "<table border=\"1\" class=\"dataframe\">\n",
       "  <thead>\n",
       "    <tr style=\"text-align: right;\">\n",
       "      <th></th>\n",
       "      <th>Model Name</th>\n",
       "      <th>MAE</th>\n",
       "      <th>MAPE</th>\n",
       "      <th>RMSE</th>\n",
       "    </tr>\n",
       "  </thead>\n",
       "  <tbody>\n",
       "    <tr>\n",
       "      <th>0</th>\n",
       "      <td>Random Forest Regressor</td>\n",
       "      <td>679.010019</td>\n",
       "      <td>0.099833</td>\n",
       "      <td>1010.051385</td>\n",
       "    </tr>\n",
       "  </tbody>\n",
       "</table>\n",
       "</div>"
      ],
      "text/plain": [
       "                Model Name         MAE      MAPE         RMSE\n",
       "0  Random Forest Regressor  679.010019  0.099833  1010.051385"
      ]
     },
     "execution_count": 67,
     "metadata": {},
     "output_type": "execute_result"
    }
   ],
   "source": [
    "# model\n",
    "# 100 trees\n",
    "rf = RandomForestRegressor(n_estimators=100, n_jobs=-1, random_state=42).fit(x_train, Y_train)\n",
    "\n",
    "# prediction\n",
    "yhat_rf = rf.predict(x_test)\n",
    "\n",
    "# performance\n",
    "rf_result = ml_error('Random Forest Regressor', np.expm1(Y_test), np.expm1(yhat_rf))\n",
    "rf_result"
   ]
  },
  {
   "cell_type": "markdown",
   "metadata": {
    "heading_collapsed": true,
    "hidden": true
   },
   "source": [
    "## 7.5 XGBoost Regressor"
   ]
  },
  {
   "cell_type": "markdown",
   "metadata": {
    "hidden": true
   },
   "source": [
    "1. `brew install libomp`\n",
    "\n",
    "2. `pip install xgboost`\n",
    "\n",
    "https://www.datacamp.com/community/tutorials/xgboost-in-python"
   ]
  },
  {
   "cell_type": "code",
   "execution_count": 68,
   "metadata": {
    "ExecuteTime": {
     "end_time": "2020-06-01T17:00:33.404754Z",
     "start_time": "2020-06-01T16:59:28.052325Z"
    },
    "hidden": true
   },
   "outputs": [
    {
     "data": {
      "text/html": [
       "<div>\n",
       "<style scoped>\n",
       "    .dataframe tbody tr th:only-of-type {\n",
       "        vertical-align: middle;\n",
       "    }\n",
       "\n",
       "    .dataframe tbody tr th {\n",
       "        vertical-align: top;\n",
       "    }\n",
       "\n",
       "    .dataframe thead th {\n",
       "        text-align: right;\n",
       "    }\n",
       "</style>\n",
       "<table border=\"1\" class=\"dataframe\">\n",
       "  <thead>\n",
       "    <tr style=\"text-align: right;\">\n",
       "      <th></th>\n",
       "      <th>Model Name</th>\n",
       "      <th>MAE</th>\n",
       "      <th>MAPE</th>\n",
       "      <th>RMSE</th>\n",
       "    </tr>\n",
       "  </thead>\n",
       "  <tbody>\n",
       "    <tr>\n",
       "      <th>0</th>\n",
       "      <td>XGBoost Regressor</td>\n",
       "      <td>6683.759428</td>\n",
       "      <td>0.949487</td>\n",
       "      <td>7331.077173</td>\n",
       "    </tr>\n",
       "  </tbody>\n",
       "</table>\n",
       "</div>"
      ],
      "text/plain": [
       "          Model Name          MAE      MAPE         RMSE\n",
       "0  XGBoost Regressor  6683.759428  0.949487  7331.077173"
      ]
     },
     "execution_count": 68,
     "metadata": {},
     "output_type": "execute_result"
    }
   ],
   "source": [
    "# model\n",
    "model_xgb = xgb.XGBRegressor(objective='reg:squarederror', # we're solving a regression problem\n",
    "                             n_estimators=100, \n",
    "                             eta=0.01, \n",
    "                             max_depth=10,  # max depth of the tree\n",
    "                             subsample=0.7, # percentage os variables to be selected\n",
    "                             colsample_bytree=0.9).fit(x_train, Y_train)\n",
    "\n",
    "# prediction\n",
    "yhat_xgb = model_xgb.predict(x_test)\n",
    "\n",
    "# performance\n",
    "xgb_result = ml_error('XGBoost Regressor', np.expm1(Y_test), np.expm1(yhat_xgb))\n",
    "xgb_result"
   ]
  },
  {
   "cell_type": "markdown",
   "metadata": {
    "heading_collapsed": true,
    "hidden": true
   },
   "source": [
    "## 7.6 Comparing Models' Performance"
   ]
  },
  {
   "cell_type": "code",
   "execution_count": 69,
   "metadata": {
    "ExecuteTime": {
     "end_time": "2020-06-01T17:00:33.439611Z",
     "start_time": "2020-06-01T17:00:33.407734Z"
    },
    "hidden": true
   },
   "outputs": [
    {
     "data": {
      "text/html": [
       "<div>\n",
       "<style scoped>\n",
       "    .dataframe tbody tr th:only-of-type {\n",
       "        vertical-align: middle;\n",
       "    }\n",
       "\n",
       "    .dataframe tbody tr th {\n",
       "        vertical-align: top;\n",
       "    }\n",
       "\n",
       "    .dataframe thead th {\n",
       "        text-align: right;\n",
       "    }\n",
       "</style>\n",
       "<table border=\"1\" class=\"dataframe\">\n",
       "  <thead>\n",
       "    <tr style=\"text-align: right;\">\n",
       "      <th></th>\n",
       "      <th>Model Name</th>\n",
       "      <th>MAE</th>\n",
       "      <th>MAPE</th>\n",
       "      <th>RMSE</th>\n",
       "    </tr>\n",
       "  </thead>\n",
       "  <tbody>\n",
       "    <tr>\n",
       "      <th>0</th>\n",
       "      <td>Random Forest Regressor</td>\n",
       "      <td>679.010019</td>\n",
       "      <td>0.099833</td>\n",
       "      <td>1010.051385</td>\n",
       "    </tr>\n",
       "    <tr>\n",
       "      <th>0</th>\n",
       "      <td>Average Model</td>\n",
       "      <td>1354.800353</td>\n",
       "      <td>0.206400</td>\n",
       "      <td>1835.135542</td>\n",
       "    </tr>\n",
       "    <tr>\n",
       "      <th>0</th>\n",
       "      <td>Linear Regression</td>\n",
       "      <td>1867.089774</td>\n",
       "      <td>0.292694</td>\n",
       "      <td>2671.049215</td>\n",
       "    </tr>\n",
       "    <tr>\n",
       "      <th>0</th>\n",
       "      <td>Linear Regression - Lasso</td>\n",
       "      <td>1891.704881</td>\n",
       "      <td>0.289106</td>\n",
       "      <td>2744.451737</td>\n",
       "    </tr>\n",
       "    <tr>\n",
       "      <th>0</th>\n",
       "      <td>XGBoost Regressor</td>\n",
       "      <td>6683.759428</td>\n",
       "      <td>0.949487</td>\n",
       "      <td>7331.077173</td>\n",
       "    </tr>\n",
       "  </tbody>\n",
       "</table>\n",
       "</div>"
      ],
      "text/plain": [
       "                  Model Name          MAE      MAPE         RMSE\n",
       "0    Random Forest Regressor   679.010019  0.099833  1010.051385\n",
       "0              Average Model  1354.800353  0.206400  1835.135542\n",
       "0          Linear Regression  1867.089774  0.292694  2671.049215\n",
       "0  Linear Regression - Lasso  1891.704881  0.289106  2744.451737\n",
       "0          XGBoost Regressor  6683.759428  0.949487  7331.077173"
      ]
     },
     "execution_count": 69,
     "metadata": {},
     "output_type": "execute_result"
    }
   ],
   "source": [
    "# creates a DataFrame to easily compare models' performance\n",
    "modeling_result = pd.concat([baseline_result, lr_result, lrr_result, rf_result, xgb_result])\n",
    "modeling_result.sort_values('RMSE')"
   ]
  },
  {
   "cell_type": "markdown",
   "metadata": {
    "hidden": true
   },
   "source": [
    " As observed in the results, the **Random Forest Regressor** had the least RMSE (`1010.322344`). However, this doesn't mean that the Random Forest is the final model that we're going to pick for our predictions, because we need to make **cross validation tests** for each model to check their behavior in different data and then pick the right model."
   ]
  },
  {
   "cell_type": "markdown",
   "metadata": {
    "heading_collapsed": true,
    "hidden": true
   },
   "source": [
    "## 7.7 Cross Validation"
   ]
  },
  {
   "cell_type": "markdown",
   "metadata": {
    "heading_collapsed": true,
    "hidden": true
   },
   "source": [
    "### Dataset slicing for Time Series"
   ]
  },
  {
   "cell_type": "markdown",
   "metadata": {
    "hidden": true
   },
   "source": [
    "![](../img/77_Cross_Validation.png)"
   ]
  },
  {
   "cell_type": "code",
   "execution_count": 70,
   "metadata": {
    "ExecuteTime": {
     "end_time": "2020-06-01T17:05:57.527107Z",
     "start_time": "2020-06-01T17:05:57.109314Z"
    },
    "hidden": true
   },
   "outputs": [],
   "source": [
    "# Time Series Data Preparation\n",
    "# gets the final set of columns\n",
    "x_training = X_train[cols_selected_boruta_full]"
   ]
  },
  {
   "cell_type": "markdown",
   "metadata": {
    "heading_collapsed": true,
    "hidden": true
   },
   "source": [
    "### 7.7.1 Cross validation for Linear Regression Model"
   ]
  },
  {
   "cell_type": "code",
   "execution_count": 71,
   "metadata": {
    "ExecuteTime": {
     "end_time": "2020-06-01T17:06:02.218169Z",
     "start_time": "2020-06-01T17:05:58.467057Z"
    },
    "hidden": true
   },
   "outputs": [
    {
     "data": {
      "text/html": [
       "<div>\n",
       "<style scoped>\n",
       "    .dataframe tbody tr th:only-of-type {\n",
       "        vertical-align: middle;\n",
       "    }\n",
       "\n",
       "    .dataframe tbody tr th {\n",
       "        vertical-align: top;\n",
       "    }\n",
       "\n",
       "    .dataframe thead th {\n",
       "        text-align: right;\n",
       "    }\n",
       "</style>\n",
       "<table border=\"1\" class=\"dataframe\">\n",
       "  <thead>\n",
       "    <tr style=\"text-align: right;\">\n",
       "      <th></th>\n",
       "      <th>Model Name</th>\n",
       "      <th>MAE CV</th>\n",
       "      <th>MAPE CV</th>\n",
       "      <th>RMSE CV</th>\n",
       "    </tr>\n",
       "  </thead>\n",
       "  <tbody>\n",
       "    <tr>\n",
       "      <th>0</th>\n",
       "      <td>Linear Regression</td>\n",
       "      <td>2081.73 +- 295.63</td>\n",
       "      <td>0.3 +- 0.02</td>\n",
       "      <td>2952.52 +- 468.37</td>\n",
       "    </tr>\n",
       "  </tbody>\n",
       "</table>\n",
       "</div>"
      ],
      "text/plain": [
       "          Model Name             MAE CV      MAPE CV            RMSE CV\n",
       "0  Linear Regression  2081.73 +- 295.63  0.3 +- 0.02  2952.52 +- 468.37"
      ]
     },
     "execution_count": 71,
     "metadata": {},
     "output_type": "execute_result"
    }
   ],
   "source": [
    "# makes the cross validation\n",
    "lr_result_cv = cross_validation(x_training, 5, 'Linear Regression', lr, verbose=False)\n",
    "\n",
    "# checks the results\n",
    "lr_result_cv"
   ]
  },
  {
   "cell_type": "markdown",
   "metadata": {
    "heading_collapsed": true,
    "hidden": true
   },
   "source": [
    "### 7.7.2 Cross validation for Lasso Model"
   ]
  },
  {
   "cell_type": "code",
   "execution_count": 72,
   "metadata": {
    "ExecuteTime": {
     "end_time": "2020-06-01T17:06:18.617779Z",
     "start_time": "2020-06-01T17:06:15.768660Z"
    },
    "hidden": true
   },
   "outputs": [
    {
     "data": {
      "text/html": [
       "<div>\n",
       "<style scoped>\n",
       "    .dataframe tbody tr th:only-of-type {\n",
       "        vertical-align: middle;\n",
       "    }\n",
       "\n",
       "    .dataframe tbody tr th {\n",
       "        vertical-align: top;\n",
       "    }\n",
       "\n",
       "    .dataframe thead th {\n",
       "        text-align: right;\n",
       "    }\n",
       "</style>\n",
       "<table border=\"1\" class=\"dataframe\">\n",
       "  <thead>\n",
       "    <tr style=\"text-align: right;\">\n",
       "      <th></th>\n",
       "      <th>Model Name</th>\n",
       "      <th>MAE CV</th>\n",
       "      <th>MAPE CV</th>\n",
       "      <th>RMSE CV</th>\n",
       "    </tr>\n",
       "  </thead>\n",
       "  <tbody>\n",
       "    <tr>\n",
       "      <th>0</th>\n",
       "      <td>Linear Regression - Lasso</td>\n",
       "      <td>2116.38 +- 341.5</td>\n",
       "      <td>0.29 +- 0.01</td>\n",
       "      <td>3057.75 +- 504.26</td>\n",
       "    </tr>\n",
       "  </tbody>\n",
       "</table>\n",
       "</div>"
      ],
      "text/plain": [
       "                  Model Name            MAE CV       MAPE CV  \\\n",
       "0  Linear Regression - Lasso  2116.38 +- 341.5  0.29 +- 0.01   \n",
       "\n",
       "             RMSE CV  \n",
       "0  3057.75 +- 504.26  "
      ]
     },
     "execution_count": 72,
     "metadata": {},
     "output_type": "execute_result"
    }
   ],
   "source": [
    "# makes the cross validation\n",
    "lrr_result_cv = cross_validation(x_training, 5, 'Linear Regression - Lasso', lrr, verbose=False)\n",
    "\n",
    "# checks the results\n",
    "lrr_result_cv"
   ]
  },
  {
   "cell_type": "markdown",
   "metadata": {
    "heading_collapsed": true,
    "hidden": true
   },
   "source": [
    "### 7.7.3 Cross validation for Random Forest Regressor model"
   ]
  },
  {
   "cell_type": "code",
   "execution_count": 73,
   "metadata": {
    "ExecuteTime": {
     "end_time": "2020-06-01T17:20:20.531341Z",
     "start_time": "2020-06-01T17:06:18.620955Z"
    },
    "hidden": true,
    "hide_input": false
   },
   "outputs": [
    {
     "name": "stdout",
     "output_type": "stream",
     "text": [
      "\n",
      "KFold Number: 5\n",
      "\n",
      "KFold Number: 4\n",
      "\n",
      "KFold Number: 3\n",
      "\n",
      "KFold Number: 2\n",
      "\n",
      "KFold Number: 1\n"
     ]
    },
    {
     "data": {
      "text/html": [
       "<div>\n",
       "<style scoped>\n",
       "    .dataframe tbody tr th:only-of-type {\n",
       "        vertical-align: middle;\n",
       "    }\n",
       "\n",
       "    .dataframe tbody tr th {\n",
       "        vertical-align: top;\n",
       "    }\n",
       "\n",
       "    .dataframe thead th {\n",
       "        text-align: right;\n",
       "    }\n",
       "</style>\n",
       "<table border=\"1\" class=\"dataframe\">\n",
       "  <thead>\n",
       "    <tr style=\"text-align: right;\">\n",
       "      <th></th>\n",
       "      <th>Model Name</th>\n",
       "      <th>MAE CV</th>\n",
       "      <th>MAPE CV</th>\n",
       "      <th>RMSE CV</th>\n",
       "    </tr>\n",
       "  </thead>\n",
       "  <tbody>\n",
       "    <tr>\n",
       "      <th>0</th>\n",
       "      <td>Random Forest Regressor</td>\n",
       "      <td>837.5 +- 218.9</td>\n",
       "      <td>0.12 +- 0.02</td>\n",
       "      <td>1256.17 +- 319.33</td>\n",
       "    </tr>\n",
       "  </tbody>\n",
       "</table>\n",
       "</div>"
      ],
      "text/plain": [
       "                Model Name          MAE CV       MAPE CV            RMSE CV\n",
       "0  Random Forest Regressor  837.5 +- 218.9  0.12 +- 0.02  1256.17 +- 319.33"
      ]
     },
     "execution_count": 73,
     "metadata": {},
     "output_type": "execute_result"
    }
   ],
   "source": [
    "# makes the cross validation\n",
    "rf_result_cv = cross_validation(x_training, 5, 'Random Forest Regressor', rf, verbose=True)\n",
    "\n",
    "# checks the results\n",
    "rf_result_cv"
   ]
  },
  {
   "cell_type": "markdown",
   "metadata": {
    "heading_collapsed": true,
    "hidden": true
   },
   "source": [
    "### 7.7.4 Cross validation for XGBoost Regressor model"
   ]
  },
  {
   "cell_type": "code",
   "execution_count": 74,
   "metadata": {
    "ExecuteTime": {
     "end_time": "2020-06-01T17:24:54.535420Z",
     "start_time": "2020-06-01T17:20:20.534318Z"
    },
    "hidden": true
   },
   "outputs": [
    {
     "name": "stdout",
     "output_type": "stream",
     "text": [
      "\n",
      "KFold Number: 5\n",
      "\n",
      "KFold Number: 4\n",
      "\n",
      "KFold Number: 3\n",
      "\n",
      "KFold Number: 2\n",
      "\n",
      "KFold Number: 1\n"
     ]
    },
    {
     "data": {
      "text/html": [
       "<div>\n",
       "<style scoped>\n",
       "    .dataframe tbody tr th:only-of-type {\n",
       "        vertical-align: middle;\n",
       "    }\n",
       "\n",
       "    .dataframe tbody tr th {\n",
       "        vertical-align: top;\n",
       "    }\n",
       "\n",
       "    .dataframe thead th {\n",
       "        text-align: right;\n",
       "    }\n",
       "</style>\n",
       "<table border=\"1\" class=\"dataframe\">\n",
       "  <thead>\n",
       "    <tr style=\"text-align: right;\">\n",
       "      <th></th>\n",
       "      <th>Model Name</th>\n",
       "      <th>MAE CV</th>\n",
       "      <th>MAPE CV</th>\n",
       "      <th>RMSE CV</th>\n",
       "    </tr>\n",
       "  </thead>\n",
       "  <tbody>\n",
       "    <tr>\n",
       "      <th>0</th>\n",
       "      <td>XGBoost Regressor</td>\n",
       "      <td>7048.93 +- 588.52</td>\n",
       "      <td>0.95 +- 0.0</td>\n",
       "      <td>7714.89 +- 689.29</td>\n",
       "    </tr>\n",
       "  </tbody>\n",
       "</table>\n",
       "</div>"
      ],
      "text/plain": [
       "          Model Name             MAE CV      MAPE CV            RMSE CV\n",
       "0  XGBoost Regressor  7048.93 +- 588.52  0.95 +- 0.0  7714.89 +- 689.29"
      ]
     },
     "execution_count": 74,
     "metadata": {},
     "output_type": "execute_result"
    }
   ],
   "source": [
    "# makes the cross validation\n",
    "xgb_result_cv = cross_validation(x_training, 5, 'XGBoost Regressor', model_xgb, verbose=True)\n",
    "\n",
    "# checks the results\n",
    "xgb_result_cv"
   ]
  },
  {
   "cell_type": "markdown",
   "metadata": {
    "heading_collapsed": true,
    "hidden": true
   },
   "source": [
    "### 7.7.5 Single Performance"
   ]
  },
  {
   "cell_type": "code",
   "execution_count": 75,
   "metadata": {
    "ExecuteTime": {
     "end_time": "2020-06-01T17:24:54.561337Z",
     "start_time": "2020-06-01T17:24:54.538748Z"
    },
    "hidden": true
   },
   "outputs": [
    {
     "data": {
      "text/html": [
       "<div>\n",
       "<style scoped>\n",
       "    .dataframe tbody tr th:only-of-type {\n",
       "        vertical-align: middle;\n",
       "    }\n",
       "\n",
       "    .dataframe tbody tr th {\n",
       "        vertical-align: top;\n",
       "    }\n",
       "\n",
       "    .dataframe thead th {\n",
       "        text-align: right;\n",
       "    }\n",
       "</style>\n",
       "<table border=\"1\" class=\"dataframe\">\n",
       "  <thead>\n",
       "    <tr style=\"text-align: right;\">\n",
       "      <th></th>\n",
       "      <th>Model Name</th>\n",
       "      <th>MAE</th>\n",
       "      <th>MAPE</th>\n",
       "      <th>RMSE</th>\n",
       "    </tr>\n",
       "  </thead>\n",
       "  <tbody>\n",
       "    <tr>\n",
       "      <th>0</th>\n",
       "      <td>Random Forest Regressor</td>\n",
       "      <td>679.010019</td>\n",
       "      <td>0.099833</td>\n",
       "      <td>1010.051385</td>\n",
       "    </tr>\n",
       "    <tr>\n",
       "      <th>0</th>\n",
       "      <td>Average Model</td>\n",
       "      <td>1354.800353</td>\n",
       "      <td>0.206400</td>\n",
       "      <td>1835.135542</td>\n",
       "    </tr>\n",
       "    <tr>\n",
       "      <th>0</th>\n",
       "      <td>Linear Regression</td>\n",
       "      <td>1867.089774</td>\n",
       "      <td>0.292694</td>\n",
       "      <td>2671.049215</td>\n",
       "    </tr>\n",
       "    <tr>\n",
       "      <th>0</th>\n",
       "      <td>Linear Regression - Lasso</td>\n",
       "      <td>1891.704881</td>\n",
       "      <td>0.289106</td>\n",
       "      <td>2744.451737</td>\n",
       "    </tr>\n",
       "    <tr>\n",
       "      <th>0</th>\n",
       "      <td>XGBoost Regressor</td>\n",
       "      <td>6683.759428</td>\n",
       "      <td>0.949487</td>\n",
       "      <td>7331.077173</td>\n",
       "    </tr>\n",
       "  </tbody>\n",
       "</table>\n",
       "</div>"
      ],
      "text/plain": [
       "                  Model Name          MAE      MAPE         RMSE\n",
       "0    Random Forest Regressor   679.010019  0.099833  1010.051385\n",
       "0              Average Model  1354.800353  0.206400  1835.135542\n",
       "0          Linear Regression  1867.089774  0.292694  2671.049215\n",
       "0  Linear Regression - Lasso  1891.704881  0.289106  2744.451737\n",
       "0          XGBoost Regressor  6683.759428  0.949487  7331.077173"
      ]
     },
     "execution_count": 75,
     "metadata": {},
     "output_type": "execute_result"
    }
   ],
   "source": [
    "# creates a DataFrame to easily compare models' performance\n",
    "modeling_result = pd.concat([baseline_result, lr_result, lrr_result, rf_result, xgb_result])\n",
    "modeling_result.sort_values('RMSE')"
   ]
  },
  {
   "cell_type": "markdown",
   "metadata": {
    "heading_collapsed": true,
    "hidden": true
   },
   "source": [
    "### 7.7.6 Real Performance - Cross Validation"
   ]
  },
  {
   "cell_type": "code",
   "execution_count": 76,
   "metadata": {
    "ExecuteTime": {
     "end_time": "2020-06-01T17:24:54.581245Z",
     "start_time": "2020-06-01T17:24:54.564516Z"
    },
    "hidden": true,
    "hide_input": false
   },
   "outputs": [
    {
     "data": {
      "text/html": [
       "<div>\n",
       "<style scoped>\n",
       "    .dataframe tbody tr th:only-of-type {\n",
       "        vertical-align: middle;\n",
       "    }\n",
       "\n",
       "    .dataframe tbody tr th {\n",
       "        vertical-align: top;\n",
       "    }\n",
       "\n",
       "    .dataframe thead th {\n",
       "        text-align: right;\n",
       "    }\n",
       "</style>\n",
       "<table border=\"1\" class=\"dataframe\">\n",
       "  <thead>\n",
       "    <tr style=\"text-align: right;\">\n",
       "      <th></th>\n",
       "      <th>Model Name</th>\n",
       "      <th>MAE CV</th>\n",
       "      <th>MAPE CV</th>\n",
       "      <th>RMSE CV</th>\n",
       "    </tr>\n",
       "  </thead>\n",
       "  <tbody>\n",
       "    <tr>\n",
       "      <th>0</th>\n",
       "      <td>Random Forest Regressor</td>\n",
       "      <td>837.5 +- 218.9</td>\n",
       "      <td>0.12 +- 0.02</td>\n",
       "      <td>1256.17 +- 319.33</td>\n",
       "    </tr>\n",
       "    <tr>\n",
       "      <th>0</th>\n",
       "      <td>Linear Regression</td>\n",
       "      <td>2081.73 +- 295.63</td>\n",
       "      <td>0.3 +- 0.02</td>\n",
       "      <td>2952.52 +- 468.37</td>\n",
       "    </tr>\n",
       "    <tr>\n",
       "      <th>0</th>\n",
       "      <td>Linear Regression - Lasso</td>\n",
       "      <td>2116.38 +- 341.5</td>\n",
       "      <td>0.29 +- 0.01</td>\n",
       "      <td>3057.75 +- 504.26</td>\n",
       "    </tr>\n",
       "    <tr>\n",
       "      <th>0</th>\n",
       "      <td>XGBoost Regressor</td>\n",
       "      <td>7048.93 +- 588.52</td>\n",
       "      <td>0.95 +- 0.0</td>\n",
       "      <td>7714.89 +- 689.29</td>\n",
       "    </tr>\n",
       "  </tbody>\n",
       "</table>\n",
       "</div>"
      ],
      "text/plain": [
       "                  Model Name             MAE CV       MAPE CV  \\\n",
       "0    Random Forest Regressor     837.5 +- 218.9  0.12 +- 0.02   \n",
       "0          Linear Regression  2081.73 +- 295.63   0.3 +- 0.02   \n",
       "0  Linear Regression - Lasso   2116.38 +- 341.5  0.29 +- 0.01   \n",
       "0          XGBoost Regressor  7048.93 +- 588.52   0.95 +- 0.0   \n",
       "\n",
       "             RMSE CV  \n",
       "0  1256.17 +- 319.33  \n",
       "0  2952.52 +- 468.37  \n",
       "0  3057.75 +- 504.26  \n",
       "0  7714.89 +- 689.29  "
      ]
     },
     "execution_count": 76,
     "metadata": {},
     "output_type": "execute_result"
    }
   ],
   "source": [
    "# creates a DataFrame to easily compare models' performance\n",
    "modeling_result_cv = pd.concat([lr_result_cv, lrr_result_cv, rf_result_cv, xgb_result_cv])\n",
    "modeling_result_cv.sort_values('RMSE CV')"
   ]
  },
  {
   "cell_type": "markdown",
   "metadata": {
    "heading_collapsed": true
   },
   "source": [
    "# 8.0 HYPERPARAMETER FINE TUNING"
   ]
  },
  {
   "cell_type": "markdown",
   "metadata": {
    "heading_collapsed": true,
    "hidden": true
   },
   "source": [
    "## 8.1 Random Search"
   ]
  },
  {
   "cell_type": "code",
   "execution_count": 32,
   "metadata": {
    "ExecuteTime": {
     "end_time": "2020-06-01T13:57:16.328009Z",
     "start_time": "2020-06-01T13:57:16.323949Z"
    },
    "hidden": true
   },
   "outputs": [],
   "source": [
    "# creates the dict\n",
    "param = {\n",
    "    'n_estimators': [1500, 1700, 2500, 3000, 3500],\n",
    "    'eta': [0, 0.03],\n",
    "    'max_depth': [3, 5, 9],\n",
    "    'subsample': [0.1, 0.5, 0.7],\n",
    "    'colsample_bytree': [0.3, 0.7, 0.9],\n",
    "    'min_child_weight': [3, 8, 15]\n",
    "}\n",
    "\n",
    "# defines the maximum evaluations\n",
    "MAX_EVAL = 10"
   ]
  },
  {
   "cell_type": "code",
   "execution_count": null,
   "metadata": {
    "ExecuteTime": {
     "end_time": "2020-05-31T02:16:53.481773Z",
     "start_time": "2020-05-31T01:53:14.290782Z"
    },
    "hidden": true
   },
   "outputs": [],
   "source": [
    "# creates empty DataFrame to store the final results\n",
    "final_result = pd.DataFrame()\n",
    "\n",
    "for i in range(MAX_EVAL):\n",
    "    # randomly chooses values for parameters\n",
    "    hp = {k: random.sample(v, 1)[0] for k, v in param.items()}\n",
    "    print(hp)\n",
    "    \n",
    "    # model\n",
    "    model_xgb = xgb.XGBRegressor(objective='reg:squarederror', # we're solving a regression problem\n",
    "                                 n_estimators=hp['n_estimators'], \n",
    "                                 eta=hp['eta'], \n",
    "                                 max_depth=hp['max_depth'],  # max depth of the tree\n",
    "                                 subsample=hp['subsample'], # percentage os variables to be selected\n",
    "                                 colsample_bytree=hp['colsample_bytree'],\n",
    "                                 min_child_weight=hp['min_child_weight']).fit(x_train, Y_train)\n",
    "\n",
    "    # performance\n",
    "    result = cross_validation(x_training, 5, 'XGBoost Regressor', model_xgb, verbose=True)\n",
    "    final_result = pd.concat([final_result, result])\n",
    "\n",
    "final_result"
   ]
  },
  {
   "cell_type": "markdown",
   "metadata": {
    "heading_collapsed": true,
    "hidden": true
   },
   "source": [
    "## 8.2 Final Model"
   ]
  },
  {
   "cell_type": "code",
   "execution_count": 77,
   "metadata": {
    "ExecuteTime": {
     "end_time": "2020-06-01T20:24:23.494913Z",
     "start_time": "2020-06-01T20:24:23.479984Z"
    },
    "hidden": true
   },
   "outputs": [],
   "source": [
    "# creates the dict of final optimized params\n",
    "param_tuned = {\n",
    "    'n_estimators': 3000,\n",
    "    'eta': 0.03,\n",
    "    'max_depth': 5,\n",
    "    'subsample': 0.7,\n",
    "    'colsample_bytree': 0.7,\n",
    "    'min_child_weight': 3\n",
    "}"
   ]
  },
  {
   "cell_type": "code",
   "execution_count": 78,
   "metadata": {
    "ExecuteTime": {
     "end_time": "2020-06-01T20:37:46.472462Z",
     "start_time": "2020-06-01T20:24:27.072743Z"
    },
    "hidden": true
   },
   "outputs": [
    {
     "data": {
      "text/html": [
       "<div>\n",
       "<style scoped>\n",
       "    .dataframe tbody tr th:only-of-type {\n",
       "        vertical-align: middle;\n",
       "    }\n",
       "\n",
       "    .dataframe tbody tr th {\n",
       "        vertical-align: top;\n",
       "    }\n",
       "\n",
       "    .dataframe thead th {\n",
       "        text-align: right;\n",
       "    }\n",
       "</style>\n",
       "<table border=\"1\" class=\"dataframe\">\n",
       "  <thead>\n",
       "    <tr style=\"text-align: right;\">\n",
       "      <th></th>\n",
       "      <th>Model Name</th>\n",
       "      <th>MAE</th>\n",
       "      <th>MAPE</th>\n",
       "      <th>RMSE</th>\n",
       "    </tr>\n",
       "  </thead>\n",
       "  <tbody>\n",
       "    <tr>\n",
       "      <th>0</th>\n",
       "      <td>XGBoost Regressor</td>\n",
       "      <td>764.744651</td>\n",
       "      <td>0.115106</td>\n",
       "      <td>1099.467978</td>\n",
       "    </tr>\n",
       "  </tbody>\n",
       "</table>\n",
       "</div>"
      ],
      "text/plain": [
       "          Model Name         MAE      MAPE         RMSE\n",
       "0  XGBoost Regressor  764.744651  0.115106  1099.467978"
      ]
     },
     "execution_count": 78,
     "metadata": {},
     "output_type": "execute_result"
    }
   ],
   "source": [
    "# model\n",
    "model_xgb_tuned = xgb.XGBRegressor(objective='reg:squarederror', # we're solving a regression problem\n",
    "                            n_estimators=param_tuned['n_estimators'], \n",
    "                            eta=param_tuned['eta'], \n",
    "                            max_depth=param_tuned['max_depth'],  # max depth of the tree\n",
    "                            subsample=param_tuned['subsample'], # percentage os variables to be selected\n",
    "                            colsample_bytree=param_tuned['colsample_bytree'],\n",
    "                            min_child_weight=param_tuned['min_child_weight']).fit(x_train, Y_train)\n",
    "\n",
    "# prediction\n",
    "yhat_xgb_tuned = model_xgb_tuned.predict(x_test)\n",
    "\n",
    "# performance\n",
    "xgb_tuned_result = ml_error('XGBoost Regressor', np.expm1(Y_test), np.expm1(yhat_xgb_tuned))\n",
    "\n",
    "xgb_tuned_result"
   ]
  },
  {
   "cell_type": "markdown",
   "metadata": {
    "hidden": true
   },
   "source": [
    "## 8.3 Saving the Model"
   ]
  },
  {
   "cell_type": "code",
   "execution_count": null,
   "metadata": {
    "ExecuteTime": {
     "end_time": "2020-06-01T11:46:26.008560Z",
     "start_time": "2020-06-01T11:46:25.981288Z"
    },
    "hidden": true
   },
   "outputs": [],
   "source": [
    "# saves the model\n",
    "pickle.dump(model_xgb_tuned, open('../model/model_rossmann.pkl', 'wb'))"
   ]
  },
  {
   "cell_type": "markdown",
   "metadata": {},
   "source": [
    "# 9.0 ERROR TRANSLATION AND INTERPRETATION"
   ]
  },
  {
   "cell_type": "markdown",
   "metadata": {},
   "source": [
    "### 9.0.1 Project checkpoint"
   ]
  },
  {
   "cell_type": "code",
   "execution_count": 80,
   "metadata": {
    "ExecuteTime": {
     "end_time": "2020-06-01T20:46:50.818233Z",
     "start_time": "2020-06-01T20:46:50.786888Z"
    }
   },
   "outputs": [],
   "source": [
    "df9 = X_test[cols_selected_boruta_full]"
   ]
  },
  {
   "cell_type": "markdown",
   "metadata": {},
   "source": [
    "### 9.0.2 Rescaling back\n",
    "As we have applied variable transformation, we need to transform them back to their original scale."
   ]
  },
  {
   "cell_type": "code",
   "execution_count": 81,
   "metadata": {
    "ExecuteTime": {
     "end_time": "2020-06-01T20:46:51.682110Z",
     "start_time": "2020-06-01T20:46:51.670780Z"
    }
   },
   "outputs": [],
   "source": [
    "# rescales\n",
    "df9['sales'] = np.expm1(df9['sales'])\n",
    "df9['predictions'] = np.expm1(yhat_xgb_tuned)"
   ]
  },
  {
   "cell_type": "code",
   "execution_count": 82,
   "metadata": {
    "ExecuteTime": {
     "end_time": "2020-06-01T20:46:52.417844Z",
     "start_time": "2020-06-01T20:46:52.410324Z"
    }
   },
   "outputs": [
    {
     "data": {
      "text/plain": [
       "-0.018794787955056763"
      ]
     },
     "execution_count": 82,
     "metadata": {},
     "output_type": "execute_result"
    }
   ],
   "source": [
    "mpe = mean_percentage_error(np.expm1(Y_test), np.expm1(yhat_xgb_tuned))\n",
    "mpe"
   ]
  },
  {
   "cell_type": "markdown",
   "metadata": {},
   "source": [
    "## 9.1 Business Performance"
   ]
  },
  {
   "cell_type": "code",
   "execution_count": 83,
   "metadata": {
    "ExecuteTime": {
     "end_time": "2020-06-01T20:46:56.933144Z",
     "start_time": "2020-06-01T20:46:55.956149Z"
    }
   },
   "outputs": [],
   "source": [
    "# gets total sales predictions by store\n",
    "df_predictions_by_store = df9[['store','predictions']].groupby('store').sum().reset_index()\n",
    "\n",
    "# MAE and MAPE\n",
    "df_predictions_MAE = df9[['store', 'sales', 'predictions']].groupby('store').apply(lambda x: mean_absolute_error(x['sales'], x['predictions'])).reset_index().rename(columns={0:'MAE'})\n",
    "df_predictions_MAPE = df9[['store', 'sales', 'predictions']].groupby('store').apply(lambda x: mean_absolute_percentage_error(x['sales'], x['predictions'])).reset_index().rename(columns={0:'MAPE'})\n",
    "\n",
    "# merges DataFrames\n",
    "df_MAE_MAPE = pd.merge(df_predictions_MAE, df_predictions_MAPE, how='inner', on='store')\n",
    "df_predictions_MAE_MAPE = pd.merge(df_predictions_by_store, df_MAE_MAPE, how='inner', on='store')\n",
    "\n",
    "# creates scenarios\n",
    "df_predictions_MAE_MAPE['worst_scenario'] = df_predictions_MAE_MAPE['predictions'] - df_predictions_MAE_MAPE['MAE']\n",
    "df_predictions_MAE_MAPE['best_scenario'] = df_predictions_MAE_MAPE['predictions'] + df_predictions_MAE_MAPE['MAE']\n",
    "\n",
    "# organizes columns\n",
    "df_predictions_MAE_MAPE = df_predictions_MAE_MAPE[['store','predictions','worst_scenario','best_scenario','MAE','MAPE']]"
   ]
  },
  {
   "cell_type": "code",
   "execution_count": 84,
   "metadata": {
    "ExecuteTime": {
     "end_time": "2020-06-01T20:46:58.887978Z",
     "start_time": "2020-06-01T20:46:58.874412Z"
    }
   },
   "outputs": [
    {
     "data": {
      "text/html": [
       "<div>\n",
       "<style scoped>\n",
       "    .dataframe tbody tr th:only-of-type {\n",
       "        vertical-align: middle;\n",
       "    }\n",
       "\n",
       "    .dataframe tbody tr th {\n",
       "        vertical-align: top;\n",
       "    }\n",
       "\n",
       "    .dataframe thead th {\n",
       "        text-align: right;\n",
       "    }\n",
       "</style>\n",
       "<table border=\"1\" class=\"dataframe\">\n",
       "  <thead>\n",
       "    <tr style=\"text-align: right;\">\n",
       "      <th></th>\n",
       "      <th>store</th>\n",
       "      <th>predictions</th>\n",
       "      <th>worst_scenario</th>\n",
       "      <th>best_scenario</th>\n",
       "      <th>MAE</th>\n",
       "      <th>MAPE</th>\n",
       "    </tr>\n",
       "  </thead>\n",
       "  <tbody>\n",
       "    <tr>\n",
       "      <th>291</th>\n",
       "      <td>292</td>\n",
       "      <td>108633.492188</td>\n",
       "      <td>105215.924830</td>\n",
       "      <td>112051.059545</td>\n",
       "      <td>3417.567357</td>\n",
       "      <td>0.611000</td>\n",
       "    </tr>\n",
       "    <tr>\n",
       "      <th>908</th>\n",
       "      <td>909</td>\n",
       "      <td>224070.812500</td>\n",
       "      <td>216207.786664</td>\n",
       "      <td>231933.838336</td>\n",
       "      <td>7863.025836</td>\n",
       "      <td>0.519385</td>\n",
       "    </tr>\n",
       "    <tr>\n",
       "      <th>901</th>\n",
       "      <td>902</td>\n",
       "      <td>201216.015625</td>\n",
       "      <td>199775.258261</td>\n",
       "      <td>202656.772989</td>\n",
       "      <td>1440.757364</td>\n",
       "      <td>0.360238</td>\n",
       "    </tr>\n",
       "    <tr>\n",
       "      <th>169</th>\n",
       "      <td>170</td>\n",
       "      <td>204236.187500</td>\n",
       "      <td>202821.217457</td>\n",
       "      <td>205651.157543</td>\n",
       "      <td>1414.970043</td>\n",
       "      <td>0.349291</td>\n",
       "    </tr>\n",
       "    <tr>\n",
       "      <th>875</th>\n",
       "      <td>876</td>\n",
       "      <td>193354.906250</td>\n",
       "      <td>189231.879522</td>\n",
       "      <td>197477.932978</td>\n",
       "      <td>4123.026728</td>\n",
       "      <td>0.332035</td>\n",
       "    </tr>\n",
       "  </tbody>\n",
       "</table>\n",
       "</div>"
      ],
      "text/plain": [
       "     store    predictions  worst_scenario  best_scenario          MAE  \\\n",
       "291    292  108633.492188   105215.924830  112051.059545  3417.567357   \n",
       "908    909  224070.812500   216207.786664  231933.838336  7863.025836   \n",
       "901    902  201216.015625   199775.258261  202656.772989  1440.757364   \n",
       "169    170  204236.187500   202821.217457  205651.157543  1414.970043   \n",
       "875    876  193354.906250   189231.879522  197477.932978  4123.026728   \n",
       "\n",
       "         MAPE  \n",
       "291  0.611000  \n",
       "908  0.519385  \n",
       "901  0.360238  \n",
       "169  0.349291  \n",
       "875  0.332035  "
      ]
     },
     "execution_count": 84,
     "metadata": {},
     "output_type": "execute_result"
    }
   ],
   "source": [
    "df_predictions_MAE_MAPE.sort_values('MAPE', ascending=False).head()"
   ]
  },
  {
   "cell_type": "markdown",
   "metadata": {},
   "source": [
    "As observed in the results, we need to report to the business that there are stores that are more difficult to make the predictions.\n",
    "\n",
    "Some strategies that may solve this challenge in the next CRISP iteration could be taking a closer look on the variables, try other methods, try other techniques."
   ]
  },
  {
   "cell_type": "markdown",
   "metadata": {},
   "source": [
    "### 9.1.1 Stores Analysis"
   ]
  },
  {
   "cell_type": "code",
   "execution_count": 85,
   "metadata": {
    "ExecuteTime": {
     "end_time": "2020-06-01T20:47:04.033639Z",
     "start_time": "2020-06-01T20:47:03.612950Z"
    }
   },
   "outputs": [
    {
     "data": {
      "image/png": "[encoded data removed]",
      "text/plain": [
       "<Figure size 1152x576 with 1 Axes>"
      ]
     },
     "metadata": {
      "needs_background": "light"
     },
     "output_type": "display_data"
    }
   ],
   "source": [
    "# create Axis\n",
    "fig, ax = plt.subplots()\n",
    "\n",
    "# set figure size\n",
    "ax.figure.set_size_inches(16, 8)\n",
    "\n",
    "# plots the data\n",
    "ax = sns.scatterplot(x='store', y='MAPE', data=df_predictions_MAE_MAPE)\n",
    "\n",
    "# displays the plot\n",
    "plt.show()"
   ]
  },
  {
   "cell_type": "markdown",
   "metadata": {},
   "source": [
    "Observing the results, we can see that there are stores that have higher MAPE values. So, these are the stores that presents challeging predictions."
   ]
  },
  {
   "cell_type": "code",
   "execution_count": 86,
   "metadata": {
    "ExecuteTime": {
     "end_time": "2020-06-01T20:47:07.216887Z",
     "start_time": "2020-06-01T20:47:07.198593Z"
    }
   },
   "outputs": [
    {
     "data": {
      "text/html": [
       "<div>\n",
       "<style scoped>\n",
       "    .dataframe tbody tr th:only-of-type {\n",
       "        vertical-align: middle;\n",
       "    }\n",
       "\n",
       "    .dataframe tbody tr th {\n",
       "        vertical-align: top;\n",
       "    }\n",
       "\n",
       "    .dataframe thead th {\n",
       "        text-align: right;\n",
       "    }\n",
       "</style>\n",
       "<table border=\"1\" class=\"dataframe\">\n",
       "  <thead>\n",
       "    <tr style=\"text-align: right;\">\n",
       "      <th></th>\n",
       "      <th>store</th>\n",
       "      <th>predictions</th>\n",
       "      <th>worst_scenario</th>\n",
       "      <th>best_scenario</th>\n",
       "      <th>MAE</th>\n",
       "      <th>MAPE</th>\n",
       "    </tr>\n",
       "  </thead>\n",
       "  <tbody>\n",
       "    <tr>\n",
       "      <th>674</th>\n",
       "      <td>675</td>\n",
       "      <td>155599.593750</td>\n",
       "      <td>154714.787591</td>\n",
       "      <td>156484.399909</td>\n",
       "      <td>884.806159</td>\n",
       "      <td>0.287821</td>\n",
       "    </tr>\n",
       "    <tr>\n",
       "      <th>1040</th>\n",
       "      <td>1041</td>\n",
       "      <td>238549.968750</td>\n",
       "      <td>238111.498522</td>\n",
       "      <td>238988.438978</td>\n",
       "      <td>438.470228</td>\n",
       "      <td>0.071015</td>\n",
       "    </tr>\n",
       "    <tr>\n",
       "      <th>477</th>\n",
       "      <td>478</td>\n",
       "      <td>244234.437500</td>\n",
       "      <td>243470.540158</td>\n",
       "      <td>244998.334842</td>\n",
       "      <td>763.897342</td>\n",
       "      <td>0.125030</td>\n",
       "    </tr>\n",
       "    <tr>\n",
       "      <th>540</th>\n",
       "      <td>541</td>\n",
       "      <td>246445.328125</td>\n",
       "      <td>245754.973936</td>\n",
       "      <td>247135.682314</td>\n",
       "      <td>690.354189</td>\n",
       "      <td>0.102264</td>\n",
       "    </tr>\n",
       "    <tr>\n",
       "      <th>395</th>\n",
       "      <td>396</td>\n",
       "      <td>374210.187500</td>\n",
       "      <td>373503.739443</td>\n",
       "      <td>374916.635557</td>\n",
       "      <td>706.448057</td>\n",
       "      <td>0.070843</td>\n",
       "    </tr>\n",
       "  </tbody>\n",
       "</table>\n",
       "</div>"
      ],
      "text/plain": [
       "      store    predictions  worst_scenario  best_scenario         MAE  \\\n",
       "674     675  155599.593750   154714.787591  156484.399909  884.806159   \n",
       "1040   1041  238549.968750   238111.498522  238988.438978  438.470228   \n",
       "477     478  244234.437500   243470.540158  244998.334842  763.897342   \n",
       "540     541  246445.328125   245754.973936  247135.682314  690.354189   \n",
       "395     396  374210.187500   373503.739443  374916.635557  706.448057   \n",
       "\n",
       "          MAPE  \n",
       "674   0.287821  \n",
       "1040  0.071015  \n",
       "477   0.125030  \n",
       "540   0.102264  \n",
       "395   0.070843  "
      ]
     },
     "execution_count": 86,
     "metadata": {},
     "output_type": "execute_result"
    }
   ],
   "source": [
    "# checks the operations\n",
    "df_predictions_MAE_MAPE.sample(5)"
   ]
  },
  {
   "cell_type": "markdown",
   "metadata": {},
   "source": [
    "## 9.2 Total Performance"
   ]
  },
  {
   "cell_type": "code",
   "execution_count": 91,
   "metadata": {
    "ExecuteTime": {
     "end_time": "2020-06-01T20:48:02.017027Z",
     "start_time": "2020-06-01T20:48:02.000741Z"
    }
   },
   "outputs": [
    {
     "data": {
      "text/html": [
       "<div>\n",
       "<style scoped>\n",
       "    .dataframe tbody tr th:only-of-type {\n",
       "        vertical-align: middle;\n",
       "    }\n",
       "\n",
       "    .dataframe tbody tr th {\n",
       "        vertical-align: top;\n",
       "    }\n",
       "\n",
       "    .dataframe thead th {\n",
       "        text-align: right;\n",
       "    }\n",
       "</style>\n",
       "<table border=\"1\" class=\"dataframe\">\n",
       "  <thead>\n",
       "    <tr style=\"text-align: right;\">\n",
       "      <th></th>\n",
       "      <th>Scenario</th>\n",
       "      <th>Values</th>\n",
       "    </tr>\n",
       "  </thead>\n",
       "  <tbody>\n",
       "    <tr>\n",
       "      <th>0</th>\n",
       "      <td>predictions</td>\n",
       "      <td>US$ 286,559,476.27</td>\n",
       "    </tr>\n",
       "    <tr>\n",
       "      <th>1</th>\n",
       "      <td>worst_scenario</td>\n",
       "      <td>US$ 285,703,608.10</td>\n",
       "    </tr>\n",
       "    <tr>\n",
       "      <th>2</th>\n",
       "      <td>best_scenario</td>\n",
       "      <td>US$ 287,415,344.43</td>\n",
       "    </tr>\n",
       "  </tbody>\n",
       "</table>\n",
       "</div>"
      ],
      "text/plain": [
       "         Scenario              Values\n",
       "0     predictions  US$ 286,559,476.27\n",
       "1  worst_scenario  US$ 285,703,608.10\n",
       "2   best_scenario  US$ 287,415,344.43"
      ]
     },
     "execution_count": 91,
     "metadata": {},
     "output_type": "execute_result"
    }
   ],
   "source": [
    "# gets the total sales by scenario\n",
    "df_scenario_values = df_predictions_MAE_MAPE[['predictions', 'worst_scenario', 'best_scenario']].apply(lambda x: np.sum(x), axis=0).reset_index().rename(columns={'index': 'Scenario', 0: 'Values'})\n",
    "\n",
    "# formats the values to monetary\n",
    "df_scenario_values['Values'] = df_scenario_values['Values'].map('US$ {:,.2f}'.format)\n",
    "\n",
    "df_scenario_values"
   ]
  },
  {
   "cell_type": "markdown",
   "metadata": {},
   "source": [
    "## 9.3 Machine Learning Performance"
   ]
  },
  {
   "cell_type": "code",
   "execution_count": 18,
   "metadata": {
    "ExecuteTime": {
     "end_time": "2020-06-02T21:25:55.745051Z",
     "start_time": "2020-06-02T21:25:55.398235Z"
    }
   },
   "outputs": [
    {
     "ename": "NameError",
     "evalue": "name 'df9' is not defined",
     "output_type": "error",
     "traceback": [
      "\u001b[0;31m---------------------------------------------------------------------------\u001b[0m",
      "\u001b[0;31mNameError\u001b[0m                                 Traceback (most recent call last)",
      "\u001b[0;32m<ipython-input-18-46795e041fda>\u001b[0m in \u001b[0;36m<module>\u001b[0;34m\u001b[0m\n\u001b[1;32m      1\u001b[0m \u001b[0;31m# gets the error\u001b[0m\u001b[0;34m\u001b[0m\u001b[0;34m\u001b[0m\u001b[0;34m\u001b[0m\u001b[0m\n\u001b[0;32m----> 2\u001b[0;31m \u001b[0mdf9\u001b[0m\u001b[0;34m[\u001b[0m\u001b[0;34m'error'\u001b[0m\u001b[0;34m]\u001b[0m \u001b[0;34m=\u001b[0m \u001b[0mdf9\u001b[0m\u001b[0;34m[\u001b[0m\u001b[0;34m'sales'\u001b[0m\u001b[0;34m]\u001b[0m \u001b[0;34m-\u001b[0m \u001b[0mdf9\u001b[0m\u001b[0;34m[\u001b[0m\u001b[0;34m'predictions'\u001b[0m\u001b[0;34m]\u001b[0m\u001b[0;34m\u001b[0m\u001b[0;34m\u001b[0m\u001b[0m\n\u001b[0m\u001b[1;32m      3\u001b[0m \u001b[0;34m\u001b[0m\u001b[0m\n\u001b[1;32m      4\u001b[0m \u001b[0;31m# gets the error rate\u001b[0m\u001b[0;34m\u001b[0m\u001b[0;34m\u001b[0m\u001b[0;34m\u001b[0m\u001b[0m\n\u001b[1;32m      5\u001b[0m \u001b[0mdf9\u001b[0m\u001b[0;34m[\u001b[0m\u001b[0;34m'error_rate'\u001b[0m\u001b[0;34m]\u001b[0m \u001b[0;34m=\u001b[0m \u001b[0mdf9\u001b[0m\u001b[0;34m[\u001b[0m\u001b[0;34m'predictions'\u001b[0m\u001b[0;34m]\u001b[0m \u001b[0;34m/\u001b[0m \u001b[0mdf9\u001b[0m\u001b[0;34m[\u001b[0m\u001b[0;34m'sales'\u001b[0m\u001b[0;34m]\u001b[0m\u001b[0;34m\u001b[0m\u001b[0;34m\u001b[0m\u001b[0m\n",
      "\u001b[0;31mNameError\u001b[0m: name 'df9' is not defined"
     ]
    }
   ],
   "source": [
    "# gets the error\n",
    "df9['error'] = df9['sales'] - df9['predictions']\n",
    "\n",
    "# gets the error rate\n",
    "df9['error_rate'] = df9['predictions'] / df9['sales']"
   ]
  },
  {
   "cell_type": "code",
   "execution_count": 93,
   "metadata": {
    "ExecuteTime": {
     "end_time": "2020-06-01T20:48:10.346067Z",
     "start_time": "2020-06-01T20:48:05.287735Z"
    }
   },
   "outputs": [
    {
     "data": {
      "image/png": "[encoded data removed]",
      "text/plain": [
       "<Figure size 1152x576 with 4 Axes>"
      ]
     },
     "metadata": {
      "needs_background": "light"
     },
     "output_type": "display_data"
    }
   ],
   "source": [
    "# create Axis\n",
    "fig, ax = plt.subplots()\n",
    "\n",
    "# set figure size\n",
    "ax.figure.set_size_inches(16, 8)\n",
    "\n",
    "# plots the data\n",
    "plt.subplot(2, 2, 1)\n",
    "sns.lineplot(x='date', y='sales', data=df9, label='SALES')\n",
    "sns.lineplot(x='date', y='predictions', data=df9, label='PREDICTIONS')\n",
    "\n",
    "\n",
    "# plots the data\n",
    "plt.subplot(2, 2, 2)\n",
    "sns.lineplot(x='date', y='error_rate', data=df9, label='ERROR RATE')\n",
    "plt.axhline(1, linestyle='--', color='r')\n",
    "\n",
    "\n",
    "# PLOTS FOR RESIDUAL ANALYSIS\n",
    "# plots the data\n",
    "plt.subplot(2, 2, 3)\n",
    "sns.distplot(df9['error'])\n",
    "\n",
    "\n",
    "# plots the data\n",
    "plt.subplot(2, 2, 4)\n",
    "sns.scatterplot(df9['predictions'], df9['error'])\n",
    "\n",
    "\n",
    "# displays the plot\n",
    "plt.show()"
   ]
  },
  {
   "cell_type": "code",
   "execution_count": 94,
   "metadata": {
    "ExecuteTime": {
     "end_time": "2020-06-01T20:48:10.649080Z",
     "start_time": "2020-06-01T20:48:10.348204Z"
    }
   },
   "outputs": [
    {
     "data": {
      "image/png": "[encoded data removed]",
      "text/plain": [
       "<Figure size 432x288 with 1 Axes>"
      ]
     },
     "metadata": {
      "needs_background": "light"
     },
     "output_type": "display_data"
    }
   ],
   "source": [
    "from scipy import stats\n",
    "\n",
    "stats.probplot(df9['error'], plot=plt);"
   ]
  },
  {
   "cell_type": "markdown",
   "metadata": {},
   "source": [
    "Observing the results, we can see that:\n",
    "- By observing the **first and second line plots**, we can see that the predictions or our model is pretty close to the real value for `sales`. On the other hand, the error rate has some variance.\n",
    "\n",
    "- By observing the **histogram**, the error distribution almost follows a normal distribution. \n",
    "\n",
    "- By observing the **scatterplot** for the errors, the points seems well fit in a horizontal tube which means that there's a few variation in the error. If the points formed any other shape (e.g opening/closing cone or an arch), this would mean that the errors follows a trend and we would need to review our model."
   ]
  },
  {
   "cell_type": "markdown",
   "metadata": {
    "heading_collapsed": true
   },
   "source": [
    "# 10.0 DEPLOY MODEL TO PRODUCTION"
   ]
  },
  {
   "cell_type": "markdown",
   "metadata": {
    "hidden": true
   },
   "source": [
    "## 10.1 Rossmann Class"
   ]
  },
  {
   "cell_type": "code",
   "execution_count": 34,
   "metadata": {
    "ExecuteTime": {
     "end_time": "2020-06-01T13:57:31.348002Z",
     "start_time": "2020-06-01T13:57:31.311499Z"
    },
    "code_folding": [],
    "hidden": true,
    "scrolled": true
   },
   "outputs": [],
   "source": [
    "import pickle\n",
    "import inflection\n",
    "import pandas as pd\n",
    "import numpy as np\n",
    "import math\n",
    "import datetime\n",
    "\n",
    "class Rossmann(object):\n",
    "    def __init__(self):\n",
    "        self.home_path = '/Users/brunokatekawa/Desktop/Data Science/DataScienceProducao/Curso_DS_Prod/'\n",
    "        # loads the rescaling\n",
    "        self.competition_distance_scaler   = pickle.load(open(self.home_path + 'parameter/competition_distance_scaler.pkl', 'rb'))\n",
    "        self.competition_time_month_scaler = pickle.load(open(self.home_path + 'parameter/competition_time_month_scaler.pkl', 'rb'))\n",
    "        self.promo_time_week_scaler        = pickle.load(open(self.home_path + 'parameter/promo_time_week_scaler.pkl', 'rb'))\n",
    "        self.year_scaler                   = pickle.load(open(self.home_path + 'parameter/year_scaler.pkl', 'rb'))\n",
    "        \n",
    "        # loads the encoder\n",
    "        self.store_type_scaler             = pickle.load(open(self.home_path + 'parameter/store_type_scaler.pkl', 'rb'))\n",
    "\n",
    "        \n",
    "    def data_cleaning(self, df1):\n",
    "\n",
    "        ## 1.1. Renaming columns\n",
    "        # stores the old column names\n",
    "        cols_old = ['Store', 'DayOfWeek', 'Date', 'Open', 'Promo', 'StateHoliday', \n",
    "                    'SchoolHoliday', 'StoreType', 'Assortment','CompetitionDistance', 'CompetitionOpenSinceMonth', \n",
    "                    'CompetitionOpenSinceYear', 'Promo2', 'Promo2SinceWeek', 'Promo2SinceYear', 'PromoInterval']\n",
    "\n",
    "        # snake_case\n",
    "        snakecase = lambda x: inflection.underscore(x)\n",
    "\n",
    "        # creates new columns from old columns in snakecase \n",
    "        cols_new = list(map(snakecase, cols_old))\n",
    "\n",
    "        # renames the old columns\n",
    "        df1.columns = cols_new\n",
    "\n",
    "\n",
    "        ## 1.3.  Checking data types\n",
    "        # transforms 'date' column to datetime type\n",
    "        df1['date'] = pd.to_datetime(df1['date'])\n",
    "\n",
    "\n",
    "        ## 1.5.  Filling out the NaN values\n",
    "        ### 1.5.1 Filling the competition data\n",
    "\n",
    "        # competition_distance\n",
    "        # let's assume that the distance from competitors is so long that there are no competitors\n",
    "        # applies for each column record: competition_distance\n",
    "        #     assign 200000.0 if record == NaN ; assign its current value if record != NaN\n",
    "        df1['competition_distance'] = df1['competition_distance'].apply(lambda x: 200000.0 if math.isnan(x) else x)\n",
    "\n",
    "        # competition_open_since_month\n",
    "        # let's assume that the opening date is the store sales date: date\n",
    "        # axis=1 -> apply in the row along the columns, because we have more than one column in the expression\n",
    "        df1['competition_open_since_month'] = df1.apply(lambda x: x['date'].month if math.isnan(x['competition_open_since_month']) else x['competition_open_since_month'], axis=1)\n",
    "\n",
    "        # competition_open_since_year \n",
    "        df1['competition_open_since_year'] = df1.apply(lambda x: x['date'].year if math.isnan(x['competition_open_since_year']) else x['competition_open_since_year'], axis=1)\n",
    "\n",
    "\n",
    "        ### 1.5.2 Filling the promotion data\n",
    "        # promo2_since_week\n",
    "        df1['promo2_since_week'] = df1.apply(lambda x: x['date'].week if math.isnan(x['promo2_since_week']) else x['promo2_since_week'], axis=1)\n",
    "\n",
    "        # promo2_since_year\n",
    "        df1['promo2_since_year'] = df1.apply(lambda x: x['date'].year if math.isnan(x['promo2_since_year']) else x['promo2_since_year'], axis=1)\n",
    "\n",
    "        # promo_interval\n",
    "        # creates a dictionary that will help in mapping\n",
    "        month_map = {1: 'Jan', 2: 'Fev', 3: 'Mar', 4: 'Apr', 5: 'May', 6: 'Jun',\n",
    "                     7: 'Jul', 8: 'Aug', 9: 'Sep', 10: 'Oct', 11: 'Nov', 12: 'Dec'}\n",
    "\n",
    "        # fills in the NaN with zeroes\n",
    "        df1['promo_interval'].fillna(0, inplace=True)\n",
    "\n",
    "        # creates the 'month_map' column as the month mapping of the 'date' column\n",
    "        df1['month_map'] = df1['date'].dt.month.map(month_map)\n",
    "\n",
    "\n",
    "        # make a split in 'promo_interval' column and creates a list containing the values\n",
    "        # check if the value of 'month_map' is within that list\n",
    "        # creates column 'is_promo' with numeric values (1 = was in promo or 0 = was not in promo) based on the verification\n",
    "        df1['is_promo'] = df1[['promo_interval','month_map']].apply(lambda x: 0 if x['promo_interval'] == 0 else 1 if x['month_map'] in x['promo_interval'].split(',') else 0, axis=1)\n",
    "\n",
    "\n",
    "        ## 1.6.  Changing data types\n",
    "        # transforms competition data to int\n",
    "        df1['competition_open_since_month'] = df1['competition_open_since_month'].astype(int)\n",
    "        df1['competition_open_since_year'] = df1['competition_open_since_year'].astype(int)\n",
    "\n",
    "        # transforms promotion data to int\n",
    "        df1['promo2_since_week'] = df1['promo2_since_week'].astype(int)\n",
    "        df1['promo2_since_year'] = df1['promo2_since_year'].astype(int)\n",
    "        \n",
    "        return df1\n",
    "\n",
    "    \n",
    "    def feature_engineering(self, df2):\n",
    "        # 2.0 FEATURE ENGINEERING\n",
    "        ## 2.4 Feature engineering - de facto\n",
    "\n",
    "        # year\n",
    "        df2['year'] = df2['date'].dt.year\n",
    "\n",
    "        # month\n",
    "        df2['month'] = df2['date'].dt.month\n",
    "\n",
    "        # day\n",
    "        df2['day'] = df2['date'].dt.day\n",
    "\n",
    "        # week of year\n",
    "        df2['week_of_year'] = df2['date'].dt.weekofyear\n",
    "\n",
    "        # year week\n",
    "        df2['year_week'] = df2['date'].dt.strftime('%Y-%W')\n",
    "\n",
    "\n",
    "        # competition since\n",
    "        # creates a new datetime column 'competition_since' which is a compound of two columns\n",
    "        # we are specifying that it will always have the 1st day of the month\n",
    "        df2['competition_since'] = df2.apply(lambda x: \n",
    "                                             datetime.datetime(year=x['competition_open_since_year'], \n",
    "                                                                         month=x['competition_open_since_month'], \n",
    "                                                                         day=1), \n",
    "                                             axis=1)\n",
    "\n",
    "\n",
    "        # How many months has passed since the competition store opened?\n",
    "        # gets the difference between columns and divides it by 30 to make the monthly granularity\n",
    "        #     then we get the days as int type\n",
    "        df2['competition_time_month'] = ((df2['date'] - df2['competition_since']) / 30).apply(lambda x: x.days).astype(int)\n",
    "\n",
    "\n",
    "        # promo since\n",
    "        df2['promo_since'] = df2['promo2_since_year'].astype(str) + '-' +df2['promo2_since_week'].astype(str)\n",
    "\n",
    "        # converts values from 'promo_since' to datetime considering 7 days\n",
    "        df2['promo_since'] = df2['promo_since'].apply(lambda x: \n",
    "                                 datetime.datetime.strptime(x + '-1', '%Y-%W-%w') - datetime.timedelta(days=7))\n",
    "\n",
    "        # How many weeks has passed since the promotion started?\n",
    "        # OR for how long (in weeks) the promotion is active?\n",
    "        # gets the difference between columns and divides it by 7 to make the weekly granularity\n",
    "        #     then we get the days as int type\n",
    "        df2['promo_time_week'] = ((df2['date'] - df2['promo_since']) / 7).apply(lambda x: x.days).astype(int)\n",
    "\n",
    "\n",
    "        # assortment\n",
    "        # replaces the values to make easier to understand them\n",
    "        df2['assortment'] = df2['assortment'].apply(lambda x: 'basic' if x == 'a' else 'extra' if x == 'b' else 'extended')\n",
    "\n",
    "        # state holiday\n",
    "        # replaces the values to make easier to understand them\n",
    "        df2['state_holiday'] = df2['state_holiday'].apply(lambda x: 'public_holiday' if x == 'a' else 'easter_holiday' if x == 'b' else 'christmas' if x == 'c' else 'regular_day')\n",
    "\n",
    "\n",
    "        # 3.0 VARIABLE FILTERING\n",
    "        ## 3.1 Row filtering\n",
    "        # gets only the rows for open stores\n",
    "        df2 = df2[df2['open'] != 0]\n",
    "        \n",
    "        ## 3.2 Column filtering\n",
    "        # drops the columns\n",
    "        cols_drop = ['open', 'promo_interval', 'month_map']\n",
    "        df2 = df2.drop(cols_drop, axis=1)\n",
    "        \n",
    "        return df2\n",
    "\n",
    "\n",
    "    def data_preparation(self, df5):\n",
    "        \n",
    "        ## 5.2 Rescaling\n",
    "        ### 5.2.1 Rescaling competition_distance\n",
    "        # competition_distance\n",
    "        df5['competition_distance'] = self.competition_distance_scaler.fit_transform(df5[['competition_distance']])\n",
    "\n",
    "\n",
    "        ### 5.2.2 Rescaling competition_time_month\n",
    "        # competition_time_month\n",
    "        df5['competition_time_month'] = self.competition_time_month_scaler.fit_transform(df5[['competition_time_month']])\n",
    "\n",
    "        \n",
    "        ### 5.2.3 Rescaling promo_time_week\n",
    "        # promo_time_week\n",
    "        df5['promo_time_week'] = self.promo_time_week_scaler.fit_transform(df5[['promo_time_week']])\n",
    "\n",
    "        # year\n",
    "        df5['year'] = self.year_scaler.fit_transform(df5[['year']])\n",
    "        \n",
    "        \n",
    "        ## 5.3 Transformation\n",
    "        ### 5.3.1 Encoding\n",
    "        #### 5.3.1.1 One Hot Encoding for state_holiday\n",
    "\n",
    "        # state_holiday\n",
    "        # One Hot Encoding\n",
    "        df5 = pd.get_dummies(df5, prefix=['state_holiday'], columns=['state_holiday'])\n",
    "\n",
    "\n",
    "        #### 5.3.1.2 Label Encoding for store_type\n",
    "        # store_type\n",
    "        # Label Encoding - as we don't know if there is an order\n",
    "        df5['store_type'] = self.store_type_scaler.fit_transform(df5['store_type'])\n",
    "\n",
    "\n",
    "        #### 5.3.1.3 Label Encoding for assortment\n",
    "        # assortment\n",
    "        # Ordinal Encoding - as there is an order\n",
    "\n",
    "        # explicitly dictates the encoding codes\n",
    "        assortment_dict = {'basic':1, 'extra': 2, 'extended': 3}\n",
    "\n",
    "        # maps the names\n",
    "        df5['assortment'] = df5['assortment'].map(assortment_dict)\n",
    "\n",
    "\n",
    "        ### 5.3.2 Nature Transformation\n",
    "        # day_of_week\n",
    "        df5['day_of_week_sin'] = df5['day_of_week'].apply(lambda x: np.sin(x *(2. * np.pi / 7)))\n",
    "        df5['day_of_week_cos'] = df5['day_of_week'].apply(lambda x: np.cos(x *(2. * np.pi / 7)))\n",
    "\n",
    "        # month\n",
    "        df5['month_sin'] = df5['month'].apply(lambda x: np.sin(x *(2. * np.pi / 12)))\n",
    "        df5['month_cos'] = df5['month'].apply(lambda x: np.cos(x *(2. * np.pi / 12)))\n",
    "\n",
    "        # day\n",
    "        df5['day_sin'] = df5['day'].apply(lambda x: np.sin(x *(2. * np.pi / 30)))\n",
    "        df5['day_cos'] = df5['day'].apply(lambda x: np.cos(x *(2. * np.pi / 30)))\n",
    "\n",
    "        # week_of_year\n",
    "        df5['week_of_year_sin'] = df5['week_of_year'].apply(lambda x: np.sin(x *(2. * np.pi / 52)))\n",
    "        df5['week_of_year_cos'] = df5['week_of_year'].apply(lambda x: np.cos(x *(2. * np.pi / 52)))\n",
    "        \n",
    "        cols_selected = ['store', 'promo', 'store_type',\n",
    "                       'assortment','competition_distance', 'competition_open_since_month',\n",
    "                       'competition_open_since_year','promo2', 'promo2_since_week',\n",
    "                       'promo2_since_year','competition_time_month', 'promo_time_week',\n",
    "                       'day_of_week_sin','day_of_week_cos', 'month_sin','month_cos',\n",
    "                       'day_sin','day_cos', 'week_of_year_sin', 'week_of_year_cos']\n",
    "        \n",
    "        return df5[cols_selected]\n",
    "    \n",
    "    \n",
    "    def get_prediction(self, model, original_data, test_data):\n",
    "        #predicts\n",
    "        pred = model.predict(test_data)\n",
    "        \n",
    "        # joins pred into the original data\n",
    "        original_data['prediction'] = np.expm1(pred)\n",
    "        \n",
    "        return original_data.to_json(orient='records', date_format='iso')"
   ]
  },
  {
   "cell_type": "markdown",
   "metadata": {
    "heading_collapsed": true,
    "hidden": true
   },
   "source": [
    "## 10.2 API Handler"
   ]
  },
  {
   "cell_type": "code",
   "execution_count": 35,
   "metadata": {
    "ExecuteTime": {
     "end_time": "2020-06-01T13:57:35.502945Z",
     "start_time": "2020-06-01T13:57:35.124625Z"
    },
    "hidden": true
   },
   "outputs": [
    {
     "ename": "ModuleNotFoundError",
     "evalue": "No module named 'rossmann'",
     "output_type": "error",
     "traceback": [
      "\u001b[0;31m---------------------------------------------------------------------------\u001b[0m",
      "\u001b[0;31mModuleNotFoundError\u001b[0m                       Traceback (most recent call last)",
      "\u001b[0;32m<ipython-input-35-6c24baee89f2>\u001b[0m in \u001b[0;36m<module>\u001b[0;34m\u001b[0m\n\u001b[1;32m      2\u001b[0m \u001b[0;32mimport\u001b[0m \u001b[0mpickle\u001b[0m\u001b[0;34m\u001b[0m\u001b[0;34m\u001b[0m\u001b[0m\n\u001b[1;32m      3\u001b[0m \u001b[0;32mfrom\u001b[0m \u001b[0mflask\u001b[0m \u001b[0;32mimport\u001b[0m \u001b[0mFlask\u001b[0m\u001b[0;34m,\u001b[0m \u001b[0mrequest\u001b[0m\u001b[0;34m,\u001b[0m \u001b[0mResponse\u001b[0m\u001b[0;34m\u001b[0m\u001b[0;34m\u001b[0m\u001b[0m\n\u001b[0;32m----> 4\u001b[0;31m \u001b[0;32mfrom\u001b[0m \u001b[0mrossmann\u001b[0m\u001b[0;34m.\u001b[0m\u001b[0mRossmann\u001b[0m \u001b[0;32mimport\u001b[0m \u001b[0mRossmann\u001b[0m\u001b[0;34m\u001b[0m\u001b[0;34m\u001b[0m\u001b[0m\n\u001b[0m\u001b[1;32m      5\u001b[0m \u001b[0;34m\u001b[0m\u001b[0m\n\u001b[1;32m      6\u001b[0m \u001b[0;31m# loads model\u001b[0m\u001b[0;34m\u001b[0m\u001b[0;34m\u001b[0m\u001b[0;34m\u001b[0m\u001b[0m\n",
      "\u001b[0;31mModuleNotFoundError\u001b[0m: No module named 'rossmann'"
     ]
    }
   ],
   "source": [
    "import pandas as pd\n",
    "import pickle\n",
    "from flask import Flask, request, Response\n",
    "from rossmann.Rossmann import Rossmann\n",
    "\n",
    "# loads model\n",
    "model = pickle.load(open('/Users/brunokatekawa/Desktop/Data Science/DataScienceProducao/Curso_DS_Prod/model/model_rossmann.pkl', 'rb'))\n",
    "\n",
    "# initializes API\n",
    "app = Flask(__name__)\n",
    "\n",
    "# creates the endpoint\n",
    "@app.route('/rossmann/predict', methods=['POST'])\n",
    "def rossmann_predcit():\n",
    "    # gets json that comes from API\n",
    "    test_json = request.get_json()\n",
    "    \n",
    "    # checks if json exists\n",
    "    if test_json:   \n",
    "        # unique example\n",
    "        if isinstance(test_json, dict):\n",
    "            test_raw = pd.DataFrame(test_json, index=[0])\n",
    "            \n",
    "        #multiple examples\n",
    "        else:\n",
    "            print('NAO passou pelo unique example')\n",
    "            test_raw = pd.DataFrame(test_json, columns=test_json[0].keys())\n",
    "        \n",
    "        \n",
    "        # instantiates Rossmann class\n",
    "        pipeline = Rossmann()\n",
    "        \n",
    "        # data cleaning\n",
    "        df1 = pipeline.data_cleaning(test_raw)\n",
    "        \n",
    "        # feature engineering\n",
    "        df2 = pipeline.feature_engineering(df1)\n",
    "        \n",
    "        # data preparation\n",
    "        df3 = pipeline.data_preparation(df2)\n",
    "        \n",
    "        # prediction\n",
    "        df_response = pipeline.get_prediction(model, test_raw, df3)\n",
    "        \n",
    "        return df_response\n",
    "        \n",
    "    else:\n",
    "        return Response('{}', status=200, mimetype='application/json')\n",
    "\n",
    "# checks if there is main in the class\n",
    "if __name__ == '__main__':\n",
    "    app.run('0.0.0.0')"
   ]
  },
  {
   "cell_type": "markdown",
   "metadata": {
    "heading_collapsed": true,
    "hidden": true
   },
   "source": [
    "## 10.3 API Tester"
   ]
  },
  {
   "cell_type": "code",
   "execution_count": 11,
   "metadata": {
    "ExecuteTime": {
     "end_time": "2020-06-02T11:33:58.631080Z",
     "start_time": "2020-06-02T11:33:58.555915Z"
    },
    "hidden": true
   },
   "outputs": [],
   "source": [
    "# loads test dataset\n",
    "df10 = pd.read_csv('../data/test.csv')"
   ]
  },
  {
   "cell_type": "code",
   "execution_count": 12,
   "metadata": {
    "ExecuteTime": {
     "end_time": "2020-06-02T11:33:59.320794Z",
     "start_time": "2020-06-02T11:33:59.292251Z"
    },
    "hidden": true
   },
   "outputs": [],
   "source": [
    "# merge test dataset + store\n",
    "df_test = pd.merge(df10, df_store_raw, how='left', on='Store')\n",
    "\n",
    "# selects store for prediction\n",
    "df_test = df_test[df_test['Store'].isin([20, 10, 27])]\n",
    "\n",
    "# drops closed days and Id column\n",
    "df_test = df_test[df_test['Open'] != 0]\n",
    "df_test = df_test[~df_test['Open'].isnull()]\n",
    "df_test = df_test.drop('Id', axis=1)"
   ]
  },
  {
   "cell_type": "code",
   "execution_count": 13,
   "metadata": {
    "ExecuteTime": {
     "end_time": "2020-06-02T11:34:00.747956Z",
     "start_time": "2020-06-02T11:34:00.741539Z"
    },
    "hidden": true
   },
   "outputs": [],
   "source": [
    "# converts DataFrame to json\n",
    "data = json.dumps(df_test.to_dict(orient='records'))"
   ]
  },
  {
   "cell_type": "code",
   "execution_count": 14,
   "metadata": {
    "ExecuteTime": {
     "end_time": "2020-06-02T11:34:55.823948Z",
     "start_time": "2020-06-02T11:34:12.106222Z"
    },
    "hidden": true
   },
   "outputs": [
    {
     "name": "stdout",
     "output_type": "stream",
     "text": [
      "Status Code 200\n"
     ]
    }
   ],
   "source": [
    "# API Call\n",
    "#url = 'http://0.0.0.0:5000/rossmann/predict'\n",
    "url = 'https://rossmann-model-prediction.herokuapp.com/rossmann/predict'\n",
    "header = {'Content-type': 'application/json'}\n",
    "data = data\n",
    "\n",
    "r = requests.post(url, data=data, headers=header)\n",
    "print('Status Code {}'.format(r.status_code))"
   ]
  },
  {
   "cell_type": "code",
   "execution_count": 15,
   "metadata": {
    "ExecuteTime": {
     "end_time": "2020-06-02T11:35:30.095680Z",
     "start_time": "2020-06-02T11:35:30.085219Z"
    },
    "hidden": true
   },
   "outputs": [],
   "source": [
    "d1 = pd.DataFrame(r.json(), columns=r.json()[0].keys())"
   ]
  },
  {
   "cell_type": "code",
   "execution_count": 16,
   "metadata": {
    "ExecuteTime": {
     "end_time": "2020-06-02T11:35:30.591781Z",
     "start_time": "2020-06-02T11:35:30.582377Z"
    },
    "hidden": true
   },
   "outputs": [
    {
     "name": "stdout",
     "output_type": "stream",
     "text": [
      "Store Number 10 will sell R$218,421.60 in the next 6 weeks\n",
      "Store Number 20 will sell R$306,757.39 in the next 6 weeks\n",
      "Store Number 27 will sell R$258,108.48 in the next 6 weeks\n"
     ]
    }
   ],
   "source": [
    "d2 = d1[['store', 'prediction']].groupby('store').sum().reset_index()\n",
    "\n",
    "for i in range(len(d2)):\n",
    "    print('Store Number {} will sell R${:,.2f} in the next 6 weeks'.format(\n",
    "        d2.loc[i, 'store'],\n",
    "        d2.loc[i, 'prediction']))"
   ]
  },
  {
   "cell_type": "code",
   "execution_count": 17,
   "metadata": {
    "ExecuteTime": {
     "end_time": "2020-06-02T11:48:14.543968Z",
     "start_time": "2020-06-02T11:48:14.537907Z"
    },
    "hidden": true,
    "scrolled": true
   },
   "outputs": [
    {
     "data": {
      "text/plain": [
       "'[{\"Store\": 10, \"DayOfWeek\": 4, \"Date\": \"2015-09-17\", \"Open\": 1.0, \"Promo\": 1, \"StateHoliday\": \"0\", \"SchoolHoliday\": 0, \"StoreType\": \"a\", \"Assortment\": \"a\", \"CompetitionDistance\": 3160.0, \"CompetitionOpenSinceMonth\": 9.0, \"CompetitionOpenSinceYear\": 2009.0, \"Promo2\": 0, \"Promo2SinceWeek\": NaN, \"Promo2SinceYear\": NaN, \"PromoInterval\": NaN}, {\"Store\": 20, \"DayOfWeek\": 4, \"Date\": \"2015-09-17\", \"Open\": 1.0, \"Promo\": 1, \"StateHoliday\": \"0\", \"SchoolHoliday\": 0, \"StoreType\": \"d\", \"Assortment\": \"a\", \"CompetitionDistance\": 2340.0, \"CompetitionOpenSinceMonth\": 5.0, \"CompetitionOpenSinceYear\": 2009.0, \"Promo2\": 1, \"Promo2SinceWeek\": 40.0, \"Promo2SinceYear\": 2014.0, \"PromoInterval\": \"Jan,Apr,Jul,Oct\"}, {\"Store\": 27, \"DayOfWeek\": 4, \"Date\": \"2015-09-17\", \"Open\": 1.0, \"Promo\": 1, \"StateHoliday\": \"0\", \"SchoolHoliday\": 0, \"StoreType\": \"a\", \"Assortment\": \"a\", \"CompetitionDistance\": 60.0, \"CompetitionOpenSinceMonth\": 1.0, \"CompetitionOpenSinceYear\": 2005.0, \"Promo2\": 1, \"Promo2SinceWeek\": 5.0, \"Promo2SinceYear\": 2011.0, \"PromoInterval\": \"Jan,Apr,Jul,Oct\"}, {\"Store\": 10, \"DayOfWeek\": 3, \"Date\": \"2015-09-16\", \"Open\": 1.0, \"Promo\": 1, \"StateHoliday\": \"0\", \"SchoolHoliday\": 0, \"StoreType\": \"a\", \"Assortment\": \"a\", \"CompetitionDistance\": 3160.0, \"CompetitionOpenSinceMonth\": 9.0, \"CompetitionOpenSinceYear\": 2009.0, \"Promo2\": 0, \"Promo2SinceWeek\": NaN, \"Promo2SinceYear\": NaN, \"PromoInterval\": NaN}, {\"Store\": 20, \"DayOfWeek\": 3, \"Date\": \"2015-09-16\", \"Open\": 1.0, \"Promo\": 1, \"StateHoliday\": \"0\", \"SchoolHoliday\": 0, \"StoreType\": \"d\", \"Assortment\": \"a\", \"CompetitionDistance\": 2340.0, \"CompetitionOpenSinceMonth\": 5.0, \"CompetitionOpenSinceYear\": 2009.0, \"Promo2\": 1, \"Promo2SinceWeek\": 40.0, \"Promo2SinceYear\": 2014.0, \"PromoInterval\": \"Jan,Apr,Jul,Oct\"}, {\"Store\": 27, \"DayOfWeek\": 3, \"Date\": \"2015-09-16\", \"Open\": 1.0, \"Promo\": 1, \"StateHoliday\": \"0\", \"SchoolHoliday\": 0, \"StoreType\": \"a\", \"Assortment\": \"a\", \"CompetitionDistance\": 60.0, \"CompetitionOpenSinceMonth\": 1.0, \"CompetitionOpenSinceYear\": 2005.0, \"Promo2\": 1, \"Promo2SinceWeek\": 5.0, \"Promo2SinceYear\": 2011.0, \"PromoInterval\": \"Jan,Apr,Jul,Oct\"}, {\"Store\": 10, \"DayOfWeek\": 2, \"Date\": \"2015-09-15\", \"Open\": 1.0, \"Promo\": 1, \"StateHoliday\": \"0\", \"SchoolHoliday\": 0, \"StoreType\": \"a\", \"Assortment\": \"a\", \"CompetitionDistance\": 3160.0, \"CompetitionOpenSinceMonth\": 9.0, \"CompetitionOpenSinceYear\": 2009.0, \"Promo2\": 0, \"Promo2SinceWeek\": NaN, \"Promo2SinceYear\": NaN, \"PromoInterval\": NaN}, {\"Store\": 20, \"DayOfWeek\": 2, \"Date\": \"2015-09-15\", \"Open\": 1.0, \"Promo\": 1, \"StateHoliday\": \"0\", \"SchoolHoliday\": 0, \"StoreType\": \"d\", \"Assortment\": \"a\", \"CompetitionDistance\": 2340.0, \"CompetitionOpenSinceMonth\": 5.0, \"CompetitionOpenSinceYear\": 2009.0, \"Promo2\": 1, \"Promo2SinceWeek\": 40.0, \"Promo2SinceYear\": 2014.0, \"PromoInterval\": \"Jan,Apr,Jul,Oct\"}, {\"Store\": 27, \"DayOfWeek\": 2, \"Date\": \"2015-09-15\", \"Open\": 1.0, \"Promo\": 1, \"StateHoliday\": \"0\", \"SchoolHoliday\": 0, \"StoreType\": \"a\", \"Assortment\": \"a\", \"CompetitionDistance\": 60.0, \"CompetitionOpenSinceMonth\": 1.0, \"CompetitionOpenSinceYear\": 2005.0, \"Promo2\": 1, \"Promo2SinceWeek\": 5.0, \"Promo2SinceYear\": 2011.0, \"PromoInterval\": \"Jan,Apr,Jul,Oct\"}, {\"Store\": 10, \"DayOfWeek\": 1, \"Date\": \"2015-09-14\", \"Open\": 1.0, \"Promo\": 1, \"StateHoliday\": \"0\", \"SchoolHoliday\": 0, \"StoreType\": \"a\", \"Assortment\": \"a\", \"CompetitionDistance\": 3160.0, \"CompetitionOpenSinceMonth\": 9.0, \"CompetitionOpenSinceYear\": 2009.0, \"Promo2\": 0, \"Promo2SinceWeek\": NaN, \"Promo2SinceYear\": NaN, \"PromoInterval\": NaN}, {\"Store\": 20, \"DayOfWeek\": 1, \"Date\": \"2015-09-14\", \"Open\": 1.0, \"Promo\": 1, \"StateHoliday\": \"0\", \"SchoolHoliday\": 1, \"StoreType\": \"d\", \"Assortment\": \"a\", \"CompetitionDistance\": 2340.0, \"CompetitionOpenSinceMonth\": 5.0, \"CompetitionOpenSinceYear\": 2009.0, \"Promo2\": 1, \"Promo2SinceWeek\": 40.0, \"Promo2SinceYear\": 2014.0, \"PromoInterval\": \"Jan,Apr,Jul,Oct\"}, {\"Store\": 27, \"DayOfWeek\": 1, \"Date\": \"2015-09-14\", \"Open\": 1.0, \"Promo\": 1, \"StateHoliday\": \"0\", \"SchoolHoliday\": 0, \"StoreType\": \"a\", \"Assortment\": \"a\", \"CompetitionDistance\": 60.0, \"CompetitionOpenSinceMonth\": 1.0, \"CompetitionOpenSinceYear\": 2005.0, \"Promo2\": 1, \"Promo2SinceWeek\": 5.0, \"Promo2SinceYear\": 2011.0, \"PromoInterval\": \"Jan,Apr,Jul,Oct\"}, {\"Store\": 10, \"DayOfWeek\": 6, \"Date\": \"2015-09-12\", \"Open\": 1.0, \"Promo\": 0, \"StateHoliday\": \"0\", \"SchoolHoliday\": 0, \"StoreType\": \"a\", \"Assortment\": \"a\", \"CompetitionDistance\": 3160.0, \"CompetitionOpenSinceMonth\": 9.0, \"CompetitionOpenSinceYear\": 2009.0, \"Promo2\": 0, \"Promo2SinceWeek\": NaN, \"Promo2SinceYear\": NaN, \"PromoInterval\": NaN}, {\"Store\": 20, \"DayOfWeek\": 6, \"Date\": \"2015-09-12\", \"Open\": 1.0, \"Promo\": 0, \"StateHoliday\": \"0\", \"SchoolHoliday\": 0, \"StoreType\": \"d\", \"Assortment\": \"a\", \"CompetitionDistance\": 2340.0, \"CompetitionOpenSinceMonth\": 5.0, \"CompetitionOpenSinceYear\": 2009.0, \"Promo2\": 1, \"Promo2SinceWeek\": 40.0, \"Promo2SinceYear\": 2014.0, \"PromoInterval\": \"Jan,Apr,Jul,Oct\"}, {\"Store\": 27, \"DayOfWeek\": 6, \"Date\": \"2015-09-12\", \"Open\": 1.0, \"Promo\": 0, \"StateHoliday\": \"0\", \"SchoolHoliday\": 0, \"StoreType\": \"a\", \"Assortment\": \"a\", \"CompetitionDistance\": 60.0, \"CompetitionOpenSinceMonth\": 1.0, \"CompetitionOpenSinceYear\": 2005.0, \"Promo2\": 1, \"Promo2SinceWeek\": 5.0, \"Promo2SinceYear\": 2011.0, \"PromoInterval\": \"Jan,Apr,Jul,Oct\"}, {\"Store\": 10, \"DayOfWeek\": 5, \"Date\": \"2015-09-11\", \"Open\": 1.0, \"Promo\": 0, \"StateHoliday\": \"0\", \"SchoolHoliday\": 0, \"StoreType\": \"a\", \"Assortment\": \"a\", \"CompetitionDistance\": 3160.0, \"CompetitionOpenSinceMonth\": 9.0, \"CompetitionOpenSinceYear\": 2009.0, \"Promo2\": 0, \"Promo2SinceWeek\": NaN, \"Promo2SinceYear\": NaN, \"PromoInterval\": NaN}, {\"Store\": 20, \"DayOfWeek\": 5, \"Date\": \"2015-09-11\", \"Open\": 1.0, \"Promo\": 0, \"StateHoliday\": \"0\", \"SchoolHoliday\": 1, \"StoreType\": \"d\", \"Assortment\": \"a\", \"CompetitionDistance\": 2340.0, \"CompetitionOpenSinceMonth\": 5.0, \"CompetitionOpenSinceYear\": 2009.0, \"Promo2\": 1, \"Promo2SinceWeek\": 40.0, \"Promo2SinceYear\": 2014.0, \"PromoInterval\": \"Jan,Apr,Jul,Oct\"}, {\"Store\": 27, \"DayOfWeek\": 5, \"Date\": \"2015-09-11\", \"Open\": 1.0, \"Promo\": 0, \"StateHoliday\": \"0\", \"SchoolHoliday\": 0, \"StoreType\": \"a\", \"Assortment\": \"a\", \"CompetitionDistance\": 60.0, \"CompetitionOpenSinceMonth\": 1.0, \"CompetitionOpenSinceYear\": 2005.0, \"Promo2\": 1, \"Promo2SinceWeek\": 5.0, \"Promo2SinceYear\": 2011.0, \"PromoInterval\": \"Jan,Apr,Jul,Oct\"}, {\"Store\": 10, \"DayOfWeek\": 4, \"Date\": \"2015-09-10\", \"Open\": 1.0, \"Promo\": 0, \"StateHoliday\": \"0\", \"SchoolHoliday\": 0, \"StoreType\": \"a\", \"Assortment\": \"a\", \"CompetitionDistance\": 3160.0, \"CompetitionOpenSinceMonth\": 9.0, \"CompetitionOpenSinceYear\": 2009.0, \"Promo2\": 0, \"Promo2SinceWeek\": NaN, \"Promo2SinceYear\": NaN, \"PromoInterval\": NaN}, {\"Store\": 20, \"DayOfWeek\": 4, \"Date\": \"2015-09-10\", \"Open\": 1.0, \"Promo\": 0, \"StateHoliday\": \"0\", \"SchoolHoliday\": 1, \"StoreType\": \"d\", \"Assortment\": \"a\", \"CompetitionDistance\": 2340.0, \"CompetitionOpenSinceMonth\": 5.0, \"CompetitionOpenSinceYear\": 2009.0, \"Promo2\": 1, \"Promo2SinceWeek\": 40.0, \"Promo2SinceYear\": 2014.0, \"PromoInterval\": \"Jan,Apr,Jul,Oct\"}, {\"Store\": 27, \"DayOfWeek\": 4, \"Date\": \"2015-09-10\", \"Open\": 1.0, \"Promo\": 0, \"StateHoliday\": \"0\", \"SchoolHoliday\": 0, \"StoreType\": \"a\", \"Assortment\": \"a\", \"CompetitionDistance\": 60.0, \"CompetitionOpenSinceMonth\": 1.0, \"CompetitionOpenSinceYear\": 2005.0, \"Promo2\": 1, \"Promo2SinceWeek\": 5.0, \"Promo2SinceYear\": 2011.0, \"PromoInterval\": \"Jan,Apr,Jul,Oct\"}, {\"Store\": 10, \"DayOfWeek\": 3, \"Date\": \"2015-09-09\", \"Open\": 1.0, \"Promo\": 0, \"StateHoliday\": \"0\", \"SchoolHoliday\": 0, \"StoreType\": \"a\", \"Assortment\": \"a\", \"CompetitionDistance\": 3160.0, \"CompetitionOpenSinceMonth\": 9.0, \"CompetitionOpenSinceYear\": 2009.0, \"Promo2\": 0, \"Promo2SinceWeek\": NaN, \"Promo2SinceYear\": NaN, \"PromoInterval\": NaN}, {\"Store\": 20, \"DayOfWeek\": 3, \"Date\": \"2015-09-09\", \"Open\": 1.0, \"Promo\": 0, \"StateHoliday\": \"0\", \"SchoolHoliday\": 1, \"StoreType\": \"d\", \"Assortment\": \"a\", \"CompetitionDistance\": 2340.0, \"CompetitionOpenSinceMonth\": 5.0, \"CompetitionOpenSinceYear\": 2009.0, \"Promo2\": 1, \"Promo2SinceWeek\": 40.0, \"Promo2SinceYear\": 2014.0, \"PromoInterval\": \"Jan,Apr,Jul,Oct\"}, {\"Store\": 27, \"DayOfWeek\": 3, \"Date\": \"2015-09-09\", \"Open\": 1.0, \"Promo\": 0, \"StateHoliday\": \"0\", \"SchoolHoliday\": 0, \"StoreType\": \"a\", \"Assortment\": \"a\", \"CompetitionDistance\": 60.0, \"CompetitionOpenSinceMonth\": 1.0, \"CompetitionOpenSinceYear\": 2005.0, \"Promo2\": 1, \"Promo2SinceWeek\": 5.0, \"Promo2SinceYear\": 2011.0, \"PromoInterval\": \"Jan,Apr,Jul,Oct\"}, {\"Store\": 10, \"DayOfWeek\": 2, \"Date\": \"2015-09-08\", \"Open\": 1.0, \"Promo\": 0, \"StateHoliday\": \"0\", \"SchoolHoliday\": 0, \"StoreType\": \"a\", \"Assortment\": \"a\", \"CompetitionDistance\": 3160.0, \"CompetitionOpenSinceMonth\": 9.0, \"CompetitionOpenSinceYear\": 2009.0, \"Promo2\": 0, \"Promo2SinceWeek\": NaN, \"Promo2SinceYear\": NaN, \"PromoInterval\": NaN}, {\"Store\": 20, \"DayOfWeek\": 2, \"Date\": \"2015-09-08\", \"Open\": 1.0, \"Promo\": 0, \"StateHoliday\": \"0\", \"SchoolHoliday\": 1, \"StoreType\": \"d\", \"Assortment\": \"a\", \"CompetitionDistance\": 2340.0, \"CompetitionOpenSinceMonth\": 5.0, \"CompetitionOpenSinceYear\": 2009.0, \"Promo2\": 1, \"Promo2SinceWeek\": 40.0, \"Promo2SinceYear\": 2014.0, \"PromoInterval\": \"Jan,Apr,Jul,Oct\"}, {\"Store\": 27, \"DayOfWeek\": 2, \"Date\": \"2015-09-08\", \"Open\": 1.0, \"Promo\": 0, \"StateHoliday\": \"0\", \"SchoolHoliday\": 0, \"StoreType\": \"a\", \"Assortment\": \"a\", \"CompetitionDistance\": 60.0, \"CompetitionOpenSinceMonth\": 1.0, \"CompetitionOpenSinceYear\": 2005.0, \"Promo2\": 1, \"Promo2SinceWeek\": 5.0, \"Promo2SinceYear\": 2011.0, \"PromoInterval\": \"Jan,Apr,Jul,Oct\"}, {\"Store\": 10, \"DayOfWeek\": 1, \"Date\": \"2015-09-07\", \"Open\": 1.0, \"Promo\": 0, \"StateHoliday\": \"0\", \"SchoolHoliday\": 0, \"StoreType\": \"a\", \"Assortment\": \"a\", \"CompetitionDistance\": 3160.0, \"CompetitionOpenSinceMonth\": 9.0, \"CompetitionOpenSinceYear\": 2009.0, \"Promo2\": 0, \"Promo2SinceWeek\": NaN, \"Promo2SinceYear\": NaN, \"PromoInterval\": NaN}, {\"Store\": 20, \"DayOfWeek\": 1, \"Date\": \"2015-09-07\", \"Open\": 1.0, \"Promo\": 0, \"StateHoliday\": \"0\", \"SchoolHoliday\": 1, \"StoreType\": \"d\", \"Assortment\": \"a\", \"CompetitionDistance\": 2340.0, \"CompetitionOpenSinceMonth\": 5.0, \"CompetitionOpenSinceYear\": 2009.0, \"Promo2\": 1, \"Promo2SinceWeek\": 40.0, \"Promo2SinceYear\": 2014.0, \"PromoInterval\": \"Jan,Apr,Jul,Oct\"}, {\"Store\": 27, \"DayOfWeek\": 1, \"Date\": \"2015-09-07\", \"Open\": 1.0, \"Promo\": 0, \"StateHoliday\": \"0\", \"SchoolHoliday\": 0, \"StoreType\": \"a\", \"Assortment\": \"a\", \"CompetitionDistance\": 60.0, \"CompetitionOpenSinceMonth\": 1.0, \"CompetitionOpenSinceYear\": 2005.0, \"Promo2\": 1, \"Promo2SinceWeek\": 5.0, \"Promo2SinceYear\": 2011.0, \"PromoInterval\": \"Jan,Apr,Jul,Oct\"}, {\"Store\": 10, \"DayOfWeek\": 6, \"Date\": \"2015-09-05\", \"Open\": 1.0, \"Promo\": 0, \"StateHoliday\": \"0\", \"SchoolHoliday\": 0, \"StoreType\": \"a\", \"Assortment\": \"a\", \"CompetitionDistance\": 3160.0, \"CompetitionOpenSinceMonth\": 9.0, \"CompetitionOpenSinceYear\": 2009.0, \"Promo2\": 0, \"Promo2SinceWeek\": NaN, \"Promo2SinceYear\": NaN, \"PromoInterval\": NaN}, {\"Store\": 20, \"DayOfWeek\": 6, \"Date\": \"2015-09-05\", \"Open\": 1.0, \"Promo\": 0, \"StateHoliday\": \"0\", \"SchoolHoliday\": 0, \"StoreType\": \"d\", \"Assortment\": \"a\", \"CompetitionDistance\": 2340.0, \"CompetitionOpenSinceMonth\": 5.0, \"CompetitionOpenSinceYear\": 2009.0, \"Promo2\": 1, \"Promo2SinceWeek\": 40.0, \"Promo2SinceYear\": 2014.0, \"PromoInterval\": \"Jan,Apr,Jul,Oct\"}, {\"Store\": 27, \"DayOfWeek\": 6, \"Date\": \"2015-09-05\", \"Open\": 1.0, \"Promo\": 0, \"StateHoliday\": \"0\", \"SchoolHoliday\": 0, \"StoreType\": \"a\", \"Assortment\": \"a\", \"CompetitionDistance\": 60.0, \"CompetitionOpenSinceMonth\": 1.0, \"CompetitionOpenSinceYear\": 2005.0, \"Promo2\": 1, \"Promo2SinceWeek\": 5.0, \"Promo2SinceYear\": 2011.0, \"PromoInterval\": \"Jan,Apr,Jul,Oct\"}, {\"Store\": 10, \"DayOfWeek\": 5, \"Date\": \"2015-09-04\", \"Open\": 1.0, \"Promo\": 1, \"StateHoliday\": \"0\", \"SchoolHoliday\": 0, \"StoreType\": \"a\", \"Assortment\": \"a\", \"CompetitionDistance\": 3160.0, \"CompetitionOpenSinceMonth\": 9.0, \"CompetitionOpenSinceYear\": 2009.0, \"Promo2\": 0, \"Promo2SinceWeek\": NaN, \"Promo2SinceYear\": NaN, \"PromoInterval\": NaN}, {\"Store\": 20, \"DayOfWeek\": 5, \"Date\": \"2015-09-04\", \"Open\": 1.0, \"Promo\": 1, \"StateHoliday\": \"0\", \"SchoolHoliday\": 1, \"StoreType\": \"d\", \"Assortment\": \"a\", \"CompetitionDistance\": 2340.0, \"CompetitionOpenSinceMonth\": 5.0, \"CompetitionOpenSinceYear\": 2009.0, \"Promo2\": 1, \"Promo2SinceWeek\": 40.0, \"Promo2SinceYear\": 2014.0, \"PromoInterval\": \"Jan,Apr,Jul,Oct\"}, {\"Store\": 27, \"DayOfWeek\": 5, \"Date\": \"2015-09-04\", \"Open\": 1.0, \"Promo\": 1, \"StateHoliday\": \"0\", \"SchoolHoliday\": 0, \"StoreType\": \"a\", \"Assortment\": \"a\", \"CompetitionDistance\": 60.0, \"CompetitionOpenSinceMonth\": 1.0, \"CompetitionOpenSinceYear\": 2005.0, \"Promo2\": 1, \"Promo2SinceWeek\": 5.0, \"Promo2SinceYear\": 2011.0, \"PromoInterval\": \"Jan,Apr,Jul,Oct\"}, {\"Store\": 10, \"DayOfWeek\": 4, \"Date\": \"2015-09-03\", \"Open\": 1.0, \"Promo\": 1, \"StateHoliday\": \"0\", \"SchoolHoliday\": 0, \"StoreType\": \"a\", \"Assortment\": \"a\", \"CompetitionDistance\": 3160.0, \"CompetitionOpenSinceMonth\": 9.0, \"CompetitionOpenSinceYear\": 2009.0, \"Promo2\": 0, \"Promo2SinceWeek\": NaN, \"Promo2SinceYear\": NaN, \"PromoInterval\": NaN}, {\"Store\": 20, \"DayOfWeek\": 4, \"Date\": \"2015-09-03\", \"Open\": 1.0, \"Promo\": 1, \"StateHoliday\": \"0\", \"SchoolHoliday\": 1, \"StoreType\": \"d\", \"Assortment\": \"a\", \"CompetitionDistance\": 2340.0, \"CompetitionOpenSinceMonth\": 5.0, \"CompetitionOpenSinceYear\": 2009.0, \"Promo2\": 1, \"Promo2SinceWeek\": 40.0, \"Promo2SinceYear\": 2014.0, \"PromoInterval\": \"Jan,Apr,Jul,Oct\"}, {\"Store\": 27, \"DayOfWeek\": 4, \"Date\": \"2015-09-03\", \"Open\": 1.0, \"Promo\": 1, \"StateHoliday\": \"0\", \"SchoolHoliday\": 0, \"StoreType\": \"a\", \"Assortment\": \"a\", \"CompetitionDistance\": 60.0, \"CompetitionOpenSinceMonth\": 1.0, \"CompetitionOpenSinceYear\": 2005.0, \"Promo2\": 1, \"Promo2SinceWeek\": 5.0, \"Promo2SinceYear\": 2011.0, \"PromoInterval\": \"Jan,Apr,Jul,Oct\"}, {\"Store\": 10, \"DayOfWeek\": 3, \"Date\": \"2015-09-02\", \"Open\": 1.0, \"Promo\": 1, \"StateHoliday\": \"0\", \"SchoolHoliday\": 1, \"StoreType\": \"a\", \"Assortment\": \"a\", \"CompetitionDistance\": 3160.0, \"CompetitionOpenSinceMonth\": 9.0, \"CompetitionOpenSinceYear\": 2009.0, \"Promo2\": 0, \"Promo2SinceWeek\": NaN, \"Promo2SinceYear\": NaN, \"PromoInterval\": NaN}, {\"Store\": 20, \"DayOfWeek\": 3, \"Date\": \"2015-09-02\", \"Open\": 1.0, \"Promo\": 1, \"StateHoliday\": \"0\", \"SchoolHoliday\": 1, \"StoreType\": \"d\", \"Assortment\": \"a\", \"CompetitionDistance\": 2340.0, \"CompetitionOpenSinceMonth\": 5.0, \"CompetitionOpenSinceYear\": 2009.0, \"Promo2\": 1, \"Promo2SinceWeek\": 40.0, \"Promo2SinceYear\": 2014.0, \"PromoInterval\": \"Jan,Apr,Jul,Oct\"}, {\"Store\": 27, \"DayOfWeek\": 3, \"Date\": \"2015-09-02\", \"Open\": 1.0, \"Promo\": 1, \"StateHoliday\": \"0\", \"SchoolHoliday\": 0, \"StoreType\": \"a\", \"Assortment\": \"a\", \"CompetitionDistance\": 60.0, \"CompetitionOpenSinceMonth\": 1.0, \"CompetitionOpenSinceYear\": 2005.0, \"Promo2\": 1, \"Promo2SinceWeek\": 5.0, \"Promo2SinceYear\": 2011.0, \"PromoInterval\": \"Jan,Apr,Jul,Oct\"}, {\"Store\": 10, \"DayOfWeek\": 2, \"Date\": \"2015-09-01\", \"Open\": 1.0, \"Promo\": 1, \"StateHoliday\": \"0\", \"SchoolHoliday\": 1, \"StoreType\": \"a\", \"Assortment\": \"a\", \"CompetitionDistance\": 3160.0, \"CompetitionOpenSinceMonth\": 9.0, \"CompetitionOpenSinceYear\": 2009.0, \"Promo2\": 0, \"Promo2SinceWeek\": NaN, \"Promo2SinceYear\": NaN, \"PromoInterval\": NaN}, {\"Store\": 20, \"DayOfWeek\": 2, \"Date\": \"2015-09-01\", \"Open\": 1.0, \"Promo\": 1, \"StateHoliday\": \"0\", \"SchoolHoliday\": 1, \"StoreType\": \"d\", \"Assortment\": \"a\", \"CompetitionDistance\": 2340.0, \"CompetitionOpenSinceMonth\": 5.0, \"CompetitionOpenSinceYear\": 2009.0, \"Promo2\": 1, \"Promo2SinceWeek\": 40.0, \"Promo2SinceYear\": 2014.0, \"PromoInterval\": \"Jan,Apr,Jul,Oct\"}, {\"Store\": 27, \"DayOfWeek\": 2, \"Date\": \"2015-09-01\", \"Open\": 1.0, \"Promo\": 1, \"StateHoliday\": \"0\", \"SchoolHoliday\": 0, \"StoreType\": \"a\", \"Assortment\": \"a\", \"CompetitionDistance\": 60.0, \"CompetitionOpenSinceMonth\": 1.0, \"CompetitionOpenSinceYear\": 2005.0, \"Promo2\": 1, \"Promo2SinceWeek\": 5.0, \"Promo2SinceYear\": 2011.0, \"PromoInterval\": \"Jan,Apr,Jul,Oct\"}, {\"Store\": 10, \"DayOfWeek\": 1, \"Date\": \"2015-08-31\", \"Open\": 1.0, \"Promo\": 1, \"StateHoliday\": \"0\", \"SchoolHoliday\": 1, \"StoreType\": \"a\", \"Assortment\": \"a\", \"CompetitionDistance\": 3160.0, \"CompetitionOpenSinceMonth\": 9.0, \"CompetitionOpenSinceYear\": 2009.0, \"Promo2\": 0, \"Promo2SinceWeek\": NaN, \"Promo2SinceYear\": NaN, \"PromoInterval\": NaN}, {\"Store\": 20, \"DayOfWeek\": 1, \"Date\": \"2015-08-31\", \"Open\": 1.0, \"Promo\": 1, \"StateHoliday\": \"0\", \"SchoolHoliday\": 1, \"StoreType\": \"d\", \"Assortment\": \"a\", \"CompetitionDistance\": 2340.0, \"CompetitionOpenSinceMonth\": 5.0, \"CompetitionOpenSinceYear\": 2009.0, \"Promo2\": 1, \"Promo2SinceWeek\": 40.0, \"Promo2SinceYear\": 2014.0, \"PromoInterval\": \"Jan,Apr,Jul,Oct\"}, {\"Store\": 27, \"DayOfWeek\": 1, \"Date\": \"2015-08-31\", \"Open\": 1.0, \"Promo\": 1, \"StateHoliday\": \"0\", \"SchoolHoliday\": 0, \"StoreType\": \"a\", \"Assortment\": \"a\", \"CompetitionDistance\": 60.0, \"CompetitionOpenSinceMonth\": 1.0, \"CompetitionOpenSinceYear\": 2005.0, \"Promo2\": 1, \"Promo2SinceWeek\": 5.0, \"Promo2SinceYear\": 2011.0, \"PromoInterval\": \"Jan,Apr,Jul,Oct\"}, {\"Store\": 10, \"DayOfWeek\": 6, \"Date\": \"2015-08-29\", \"Open\": 1.0, \"Promo\": 0, \"StateHoliday\": \"0\", \"SchoolHoliday\": 1, \"StoreType\": \"a\", \"Assortment\": \"a\", \"CompetitionDistance\": 3160.0, \"CompetitionOpenSinceMonth\": 9.0, \"CompetitionOpenSinceYear\": 2009.0, \"Promo2\": 0, \"Promo2SinceWeek\": NaN, \"Promo2SinceYear\": NaN, \"PromoInterval\": NaN}, {\"Store\": 20, \"DayOfWeek\": 6, \"Date\": \"2015-08-29\", \"Open\": 1.0, \"Promo\": 0, \"StateHoliday\": \"0\", \"SchoolHoliday\": 0, \"StoreType\": \"d\", \"Assortment\": \"a\", \"CompetitionDistance\": 2340.0, \"CompetitionOpenSinceMonth\": 5.0, \"CompetitionOpenSinceYear\": 2009.0, \"Promo2\": 1, \"Promo2SinceWeek\": 40.0, \"Promo2SinceYear\": 2014.0, \"PromoInterval\": \"Jan,Apr,Jul,Oct\"}, {\"Store\": 27, \"DayOfWeek\": 6, \"Date\": \"2015-08-29\", \"Open\": 1.0, \"Promo\": 0, \"StateHoliday\": \"0\", \"SchoolHoliday\": 0, \"StoreType\": \"a\", \"Assortment\": \"a\", \"CompetitionDistance\": 60.0, \"CompetitionOpenSinceMonth\": 1.0, \"CompetitionOpenSinceYear\": 2005.0, \"Promo2\": 1, \"Promo2SinceWeek\": 5.0, \"Promo2SinceYear\": 2011.0, \"PromoInterval\": \"Jan,Apr,Jul,Oct\"}, {\"Store\": 10, \"DayOfWeek\": 5, \"Date\": \"2015-08-28\", \"Open\": 1.0, \"Promo\": 0, \"StateHoliday\": \"0\", \"SchoolHoliday\": 1, \"StoreType\": \"a\", \"Assortment\": \"a\", \"CompetitionDistance\": 3160.0, \"CompetitionOpenSinceMonth\": 9.0, \"CompetitionOpenSinceYear\": 2009.0, \"Promo2\": 0, \"Promo2SinceWeek\": NaN, \"Promo2SinceYear\": NaN, \"PromoInterval\": NaN}, {\"Store\": 20, \"DayOfWeek\": 5, \"Date\": \"2015-08-28\", \"Open\": 1.0, \"Promo\": 0, \"StateHoliday\": \"0\", \"SchoolHoliday\": 1, \"StoreType\": \"d\", \"Assortment\": \"a\", \"CompetitionDistance\": 2340.0, \"CompetitionOpenSinceMonth\": 5.0, \"CompetitionOpenSinceYear\": 2009.0, \"Promo2\": 1, \"Promo2SinceWeek\": 40.0, \"Promo2SinceYear\": 2014.0, \"PromoInterval\": \"Jan,Apr,Jul,Oct\"}, {\"Store\": 27, \"DayOfWeek\": 5, \"Date\": \"2015-08-28\", \"Open\": 1.0, \"Promo\": 0, \"StateHoliday\": \"0\", \"SchoolHoliday\": 0, \"StoreType\": \"a\", \"Assortment\": \"a\", \"CompetitionDistance\": 60.0, \"CompetitionOpenSinceMonth\": 1.0, \"CompetitionOpenSinceYear\": 2005.0, \"Promo2\": 1, \"Promo2SinceWeek\": 5.0, \"Promo2SinceYear\": 2011.0, \"PromoInterval\": \"Jan,Apr,Jul,Oct\"}, {\"Store\": 10, \"DayOfWeek\": 4, \"Date\": \"2015-08-27\", \"Open\": 1.0, \"Promo\": 0, \"StateHoliday\": \"0\", \"SchoolHoliday\": 1, \"StoreType\": \"a\", \"Assortment\": \"a\", \"CompetitionDistance\": 3160.0, \"CompetitionOpenSinceMonth\": 9.0, \"CompetitionOpenSinceYear\": 2009.0, \"Promo2\": 0, \"Promo2SinceWeek\": NaN, \"Promo2SinceYear\": NaN, \"PromoInterval\": NaN}, {\"Store\": 20, \"DayOfWeek\": 4, \"Date\": \"2015-08-27\", \"Open\": 1.0, \"Promo\": 0, \"StateHoliday\": \"0\", \"SchoolHoliday\": 1, \"StoreType\": \"d\", \"Assortment\": \"a\", \"CompetitionDistance\": 2340.0, \"CompetitionOpenSinceMonth\": 5.0, \"CompetitionOpenSinceYear\": 2009.0, \"Promo2\": 1, \"Promo2SinceWeek\": 40.0, \"Promo2SinceYear\": 2014.0, \"PromoInterval\": \"Jan,Apr,Jul,Oct\"}, {\"Store\": 27, \"DayOfWeek\": 4, \"Date\": \"2015-08-27\", \"Open\": 1.0, \"Promo\": 0, \"StateHoliday\": \"0\", \"SchoolHoliday\": 0, \"StoreType\": \"a\", \"Assortment\": \"a\", \"CompetitionDistance\": 60.0, \"CompetitionOpenSinceMonth\": 1.0, \"CompetitionOpenSinceYear\": 2005.0, \"Promo2\": 1, \"Promo2SinceWeek\": 5.0, \"Promo2SinceYear\": 2011.0, \"PromoInterval\": \"Jan,Apr,Jul,Oct\"}, {\"Store\": 10, \"DayOfWeek\": 3, \"Date\": \"2015-08-26\", \"Open\": 1.0, \"Promo\": 0, \"StateHoliday\": \"0\", \"SchoolHoliday\": 1, \"StoreType\": \"a\", \"Assortment\": \"a\", \"CompetitionDistance\": 3160.0, \"CompetitionOpenSinceMonth\": 9.0, \"CompetitionOpenSinceYear\": 2009.0, \"Promo2\": 0, \"Promo2SinceWeek\": NaN, \"Promo2SinceYear\": NaN, \"PromoInterval\": NaN}, {\"Store\": 20, \"DayOfWeek\": 3, \"Date\": \"2015-08-26\", \"Open\": 1.0, \"Promo\": 0, \"StateHoliday\": \"0\", \"SchoolHoliday\": 1, \"StoreType\": \"d\", \"Assortment\": \"a\", \"CompetitionDistance\": 2340.0, \"CompetitionOpenSinceMonth\": 5.0, \"CompetitionOpenSinceYear\": 2009.0, \"Promo2\": 1, \"Promo2SinceWeek\": 40.0, \"Promo2SinceYear\": 2014.0, \"PromoInterval\": \"Jan,Apr,Jul,Oct\"}, {\"Store\": 27, \"DayOfWeek\": 3, \"Date\": \"2015-08-26\", \"Open\": 1.0, \"Promo\": 0, \"StateHoliday\": \"0\", \"SchoolHoliday\": 0, \"StoreType\": \"a\", \"Assortment\": \"a\", \"CompetitionDistance\": 60.0, \"CompetitionOpenSinceMonth\": 1.0, \"CompetitionOpenSinceYear\": 2005.0, \"Promo2\": 1, \"Promo2SinceWeek\": 5.0, \"Promo2SinceYear\": 2011.0, \"PromoInterval\": \"Jan,Apr,Jul,Oct\"}, {\"Store\": 10, \"DayOfWeek\": 2, \"Date\": \"2015-08-25\", \"Open\": 1.0, \"Promo\": 0, \"StateHoliday\": \"0\", \"SchoolHoliday\": 1, \"StoreType\": \"a\", \"Assortment\": \"a\", \"CompetitionDistance\": 3160.0, \"CompetitionOpenSinceMonth\": 9.0, \"CompetitionOpenSinceYear\": 2009.0, \"Promo2\": 0, \"Promo2SinceWeek\": NaN, \"Promo2SinceYear\": NaN, \"PromoInterval\": NaN}, {\"Store\": 20, \"DayOfWeek\": 2, \"Date\": \"2015-08-25\", \"Open\": 1.0, \"Promo\": 0, \"StateHoliday\": \"0\", \"SchoolHoliday\": 1, \"StoreType\": \"d\", \"Assortment\": \"a\", \"CompetitionDistance\": 2340.0, \"CompetitionOpenSinceMonth\": 5.0, \"CompetitionOpenSinceYear\": 2009.0, \"Promo2\": 1, \"Promo2SinceWeek\": 40.0, \"Promo2SinceYear\": 2014.0, \"PromoInterval\": \"Jan,Apr,Jul,Oct\"}, {\"Store\": 27, \"DayOfWeek\": 2, \"Date\": \"2015-08-25\", \"Open\": 1.0, \"Promo\": 0, \"StateHoliday\": \"0\", \"SchoolHoliday\": 0, \"StoreType\": \"a\", \"Assortment\": \"a\", \"CompetitionDistance\": 60.0, \"CompetitionOpenSinceMonth\": 1.0, \"CompetitionOpenSinceYear\": 2005.0, \"Promo2\": 1, \"Promo2SinceWeek\": 5.0, \"Promo2SinceYear\": 2011.0, \"PromoInterval\": \"Jan,Apr,Jul,Oct\"}, {\"Store\": 10, \"DayOfWeek\": 1, \"Date\": \"2015-08-24\", \"Open\": 1.0, \"Promo\": 0, \"StateHoliday\": \"0\", \"SchoolHoliday\": 1, \"StoreType\": \"a\", \"Assortment\": \"a\", \"CompetitionDistance\": 3160.0, \"CompetitionOpenSinceMonth\": 9.0, \"CompetitionOpenSinceYear\": 2009.0, \"Promo2\": 0, \"Promo2SinceWeek\": NaN, \"Promo2SinceYear\": NaN, \"PromoInterval\": NaN}, {\"Store\": 20, \"DayOfWeek\": 1, \"Date\": \"2015-08-24\", \"Open\": 1.0, \"Promo\": 0, \"StateHoliday\": \"0\", \"SchoolHoliday\": 1, \"StoreType\": \"d\", \"Assortment\": \"a\", \"CompetitionDistance\": 2340.0, \"CompetitionOpenSinceMonth\": 5.0, \"CompetitionOpenSinceYear\": 2009.0, \"Promo2\": 1, \"Promo2SinceWeek\": 40.0, \"Promo2SinceYear\": 2014.0, \"PromoInterval\": \"Jan,Apr,Jul,Oct\"}, {\"Store\": 27, \"DayOfWeek\": 1, \"Date\": \"2015-08-24\", \"Open\": 1.0, \"Promo\": 0, \"StateHoliday\": \"0\", \"SchoolHoliday\": 0, \"StoreType\": \"a\", \"Assortment\": \"a\", \"CompetitionDistance\": 60.0, \"CompetitionOpenSinceMonth\": 1.0, \"CompetitionOpenSinceYear\": 2005.0, \"Promo2\": 1, \"Promo2SinceWeek\": 5.0, \"Promo2SinceYear\": 2011.0, \"PromoInterval\": \"Jan,Apr,Jul,Oct\"}, {\"Store\": 10, \"DayOfWeek\": 6, \"Date\": \"2015-08-22\", \"Open\": 1.0, \"Promo\": 0, \"StateHoliday\": \"0\", \"SchoolHoliday\": 1, \"StoreType\": \"a\", \"Assortment\": \"a\", \"CompetitionDistance\": 3160.0, \"CompetitionOpenSinceMonth\": 9.0, \"CompetitionOpenSinceYear\": 2009.0, \"Promo2\": 0, \"Promo2SinceWeek\": NaN, \"Promo2SinceYear\": NaN, \"PromoInterval\": NaN}, {\"Store\": 20, \"DayOfWeek\": 6, \"Date\": \"2015-08-22\", \"Open\": 1.0, \"Promo\": 0, \"StateHoliday\": \"0\", \"SchoolHoliday\": 0, \"StoreType\": \"d\", \"Assortment\": \"a\", \"CompetitionDistance\": 2340.0, \"CompetitionOpenSinceMonth\": 5.0, \"CompetitionOpenSinceYear\": 2009.0, \"Promo2\": 1, \"Promo2SinceWeek\": 40.0, \"Promo2SinceYear\": 2014.0, \"PromoInterval\": \"Jan,Apr,Jul,Oct\"}, {\"Store\": 27, \"DayOfWeek\": 6, \"Date\": \"2015-08-22\", \"Open\": 1.0, \"Promo\": 0, \"StateHoliday\": \"0\", \"SchoolHoliday\": 0, \"StoreType\": \"a\", \"Assortment\": \"a\", \"CompetitionDistance\": 60.0, \"CompetitionOpenSinceMonth\": 1.0, \"CompetitionOpenSinceYear\": 2005.0, \"Promo2\": 1, \"Promo2SinceWeek\": 5.0, \"Promo2SinceYear\": 2011.0, \"PromoInterval\": \"Jan,Apr,Jul,Oct\"}, {\"Store\": 10, \"DayOfWeek\": 5, \"Date\": \"2015-08-21\", \"Open\": 1.0, \"Promo\": 1, \"StateHoliday\": \"0\", \"SchoolHoliday\": 1, \"StoreType\": \"a\", \"Assortment\": \"a\", \"CompetitionDistance\": 3160.0, \"CompetitionOpenSinceMonth\": 9.0, \"CompetitionOpenSinceYear\": 2009.0, \"Promo2\": 0, \"Promo2SinceWeek\": NaN, \"Promo2SinceYear\": NaN, \"PromoInterval\": NaN}, {\"Store\": 20, \"DayOfWeek\": 5, \"Date\": \"2015-08-21\", \"Open\": 1.0, \"Promo\": 1, \"StateHoliday\": \"0\", \"SchoolHoliday\": 1, \"StoreType\": \"d\", \"Assortment\": \"a\", \"CompetitionDistance\": 2340.0, \"CompetitionOpenSinceMonth\": 5.0, \"CompetitionOpenSinceYear\": 2009.0, \"Promo2\": 1, \"Promo2SinceWeek\": 40.0, \"Promo2SinceYear\": 2014.0, \"PromoInterval\": \"Jan,Apr,Jul,Oct\"}, {\"Store\": 27, \"DayOfWeek\": 5, \"Date\": \"2015-08-21\", \"Open\": 1.0, \"Promo\": 1, \"StateHoliday\": \"0\", \"SchoolHoliday\": 0, \"StoreType\": \"a\", \"Assortment\": \"a\", \"CompetitionDistance\": 60.0, \"CompetitionOpenSinceMonth\": 1.0, \"CompetitionOpenSinceYear\": 2005.0, \"Promo2\": 1, \"Promo2SinceWeek\": 5.0, \"Promo2SinceYear\": 2011.0, \"PromoInterval\": \"Jan,Apr,Jul,Oct\"}, {\"Store\": 10, \"DayOfWeek\": 4, \"Date\": \"2015-08-20\", \"Open\": 1.0, \"Promo\": 1, \"StateHoliday\": \"0\", \"SchoolHoliday\": 1, \"StoreType\": \"a\", \"Assortment\": \"a\", \"CompetitionDistance\": 3160.0, \"CompetitionOpenSinceMonth\": 9.0, \"CompetitionOpenSinceYear\": 2009.0, \"Promo2\": 0, \"Promo2SinceWeek\": NaN, \"Promo2SinceYear\": NaN, \"PromoInterval\": NaN}, {\"Store\": 20, \"DayOfWeek\": 4, \"Date\": \"2015-08-20\", \"Open\": 1.0, \"Promo\": 1, \"StateHoliday\": \"0\", \"SchoolHoliday\": 1, \"StoreType\": \"d\", \"Assortment\": \"a\", \"CompetitionDistance\": 2340.0, \"CompetitionOpenSinceMonth\": 5.0, \"CompetitionOpenSinceYear\": 2009.0, \"Promo2\": 1, \"Promo2SinceWeek\": 40.0, \"Promo2SinceYear\": 2014.0, \"PromoInterval\": \"Jan,Apr,Jul,Oct\"}, {\"Store\": 27, \"DayOfWeek\": 4, \"Date\": \"2015-08-20\", \"Open\": 1.0, \"Promo\": 1, \"StateHoliday\": \"0\", \"SchoolHoliday\": 0, \"StoreType\": \"a\", \"Assortment\": \"a\", \"CompetitionDistance\": 60.0, \"CompetitionOpenSinceMonth\": 1.0, \"CompetitionOpenSinceYear\": 2005.0, \"Promo2\": 1, \"Promo2SinceWeek\": 5.0, \"Promo2SinceYear\": 2011.0, \"PromoInterval\": \"Jan,Apr,Jul,Oct\"}, {\"Store\": 10, \"DayOfWeek\": 3, \"Date\": \"2015-08-19\", \"Open\": 1.0, \"Promo\": 1, \"StateHoliday\": \"0\", \"SchoolHoliday\": 1, \"StoreType\": \"a\", \"Assortment\": \"a\", \"CompetitionDistance\": 3160.0, \"CompetitionOpenSinceMonth\": 9.0, \"CompetitionOpenSinceYear\": 2009.0, \"Promo2\": 0, \"Promo2SinceWeek\": NaN, \"Promo2SinceYear\": NaN, \"PromoInterval\": NaN}, {\"Store\": 20, \"DayOfWeek\": 3, \"Date\": \"2015-08-19\", \"Open\": 1.0, \"Promo\": 1, \"StateHoliday\": \"0\", \"SchoolHoliday\": 1, \"StoreType\": \"d\", \"Assortment\": \"a\", \"CompetitionDistance\": 2340.0, \"CompetitionOpenSinceMonth\": 5.0, \"CompetitionOpenSinceYear\": 2009.0, \"Promo2\": 1, \"Promo2SinceWeek\": 40.0, \"Promo2SinceYear\": 2014.0, \"PromoInterval\": \"Jan,Apr,Jul,Oct\"}, {\"Store\": 27, \"DayOfWeek\": 3, \"Date\": \"2015-08-19\", \"Open\": 1.0, \"Promo\": 1, \"StateHoliday\": \"0\", \"SchoolHoliday\": 0, \"StoreType\": \"a\", \"Assortment\": \"a\", \"CompetitionDistance\": 60.0, \"CompetitionOpenSinceMonth\": 1.0, \"CompetitionOpenSinceYear\": 2005.0, \"Promo2\": 1, \"Promo2SinceWeek\": 5.0, \"Promo2SinceYear\": 2011.0, \"PromoInterval\": \"Jan,Apr,Jul,Oct\"}, {\"Store\": 10, \"DayOfWeek\": 2, \"Date\": \"2015-08-18\", \"Open\": 1.0, \"Promo\": 1, \"StateHoliday\": \"0\", \"SchoolHoliday\": 1, \"StoreType\": \"a\", \"Assortment\": \"a\", \"CompetitionDistance\": 3160.0, \"CompetitionOpenSinceMonth\": 9.0, \"CompetitionOpenSinceYear\": 2009.0, \"Promo2\": 0, \"Promo2SinceWeek\": NaN, \"Promo2SinceYear\": NaN, \"PromoInterval\": NaN}, {\"Store\": 20, \"DayOfWeek\": 2, \"Date\": \"2015-08-18\", \"Open\": 1.0, \"Promo\": 1, \"StateHoliday\": \"0\", \"SchoolHoliday\": 1, \"StoreType\": \"d\", \"Assortment\": \"a\", \"CompetitionDistance\": 2340.0, \"CompetitionOpenSinceMonth\": 5.0, \"CompetitionOpenSinceYear\": 2009.0, \"Promo2\": 1, \"Promo2SinceWeek\": 40.0, \"Promo2SinceYear\": 2014.0, \"PromoInterval\": \"Jan,Apr,Jul,Oct\"}, {\"Store\": 27, \"DayOfWeek\": 2, \"Date\": \"2015-08-18\", \"Open\": 1.0, \"Promo\": 1, \"StateHoliday\": \"0\", \"SchoolHoliday\": 0, \"StoreType\": \"a\", \"Assortment\": \"a\", \"CompetitionDistance\": 60.0, \"CompetitionOpenSinceMonth\": 1.0, \"CompetitionOpenSinceYear\": 2005.0, \"Promo2\": 1, \"Promo2SinceWeek\": 5.0, \"Promo2SinceYear\": 2011.0, \"PromoInterval\": \"Jan,Apr,Jul,Oct\"}, {\"Store\": 10, \"DayOfWeek\": 1, \"Date\": \"2015-08-17\", \"Open\": 1.0, \"Promo\": 1, \"StateHoliday\": \"0\", \"SchoolHoliday\": 1, \"StoreType\": \"a\", \"Assortment\": \"a\", \"CompetitionDistance\": 3160.0, \"CompetitionOpenSinceMonth\": 9.0, \"CompetitionOpenSinceYear\": 2009.0, \"Promo2\": 0, \"Promo2SinceWeek\": NaN, \"Promo2SinceYear\": NaN, \"PromoInterval\": NaN}, {\"Store\": 20, \"DayOfWeek\": 1, \"Date\": \"2015-08-17\", \"Open\": 1.0, \"Promo\": 1, \"StateHoliday\": \"0\", \"SchoolHoliday\": 1, \"StoreType\": \"d\", \"Assortment\": \"a\", \"CompetitionDistance\": 2340.0, \"CompetitionOpenSinceMonth\": 5.0, \"CompetitionOpenSinceYear\": 2009.0, \"Promo2\": 1, \"Promo2SinceWeek\": 40.0, \"Promo2SinceYear\": 2014.0, \"PromoInterval\": \"Jan,Apr,Jul,Oct\"}, {\"Store\": 27, \"DayOfWeek\": 1, \"Date\": \"2015-08-17\", \"Open\": 1.0, \"Promo\": 1, \"StateHoliday\": \"0\", \"SchoolHoliday\": 0, \"StoreType\": \"a\", \"Assortment\": \"a\", \"CompetitionDistance\": 60.0, \"CompetitionOpenSinceMonth\": 1.0, \"CompetitionOpenSinceYear\": 2005.0, \"Promo2\": 1, \"Promo2SinceWeek\": 5.0, \"Promo2SinceYear\": 2011.0, \"PromoInterval\": \"Jan,Apr,Jul,Oct\"}, {\"Store\": 10, \"DayOfWeek\": 6, \"Date\": \"2015-08-15\", \"Open\": 1.0, \"Promo\": 0, \"StateHoliday\": \"0\", \"SchoolHoliday\": 1, \"StoreType\": \"a\", \"Assortment\": \"a\", \"CompetitionDistance\": 3160.0, \"CompetitionOpenSinceMonth\": 9.0, \"CompetitionOpenSinceYear\": 2009.0, \"Promo2\": 0, \"Promo2SinceWeek\": NaN, \"Promo2SinceYear\": NaN, \"PromoInterval\": NaN}, {\"Store\": 27, \"DayOfWeek\": 6, \"Date\": \"2015-08-15\", \"Open\": 1.0, \"Promo\": 0, \"StateHoliday\": \"0\", \"SchoolHoliday\": 0, \"StoreType\": \"a\", \"Assortment\": \"a\", \"CompetitionDistance\": 60.0, \"CompetitionOpenSinceMonth\": 1.0, \"CompetitionOpenSinceYear\": 2005.0, \"Promo2\": 1, \"Promo2SinceWeek\": 5.0, \"Promo2SinceYear\": 2011.0, \"PromoInterval\": \"Jan,Apr,Jul,Oct\"}, {\"Store\": 10, \"DayOfWeek\": 5, \"Date\": \"2015-08-14\", \"Open\": 1.0, \"Promo\": 0, \"StateHoliday\": \"0\", \"SchoolHoliday\": 1, \"StoreType\": \"a\", \"Assortment\": \"a\", \"CompetitionDistance\": 3160.0, \"CompetitionOpenSinceMonth\": 9.0, \"CompetitionOpenSinceYear\": 2009.0, \"Promo2\": 0, \"Promo2SinceWeek\": NaN, \"Promo2SinceYear\": NaN, \"PromoInterval\": NaN}, {\"Store\": 20, \"DayOfWeek\": 5, \"Date\": \"2015-08-14\", \"Open\": 1.0, \"Promo\": 0, \"StateHoliday\": \"0\", \"SchoolHoliday\": 1, \"StoreType\": \"d\", \"Assortment\": \"a\", \"CompetitionDistance\": 2340.0, \"CompetitionOpenSinceMonth\": 5.0, \"CompetitionOpenSinceYear\": 2009.0, \"Promo2\": 1, \"Promo2SinceWeek\": 40.0, \"Promo2SinceYear\": 2014.0, \"PromoInterval\": \"Jan,Apr,Jul,Oct\"}, {\"Store\": 27, \"DayOfWeek\": 5, \"Date\": \"2015-08-14\", \"Open\": 1.0, \"Promo\": 0, \"StateHoliday\": \"0\", \"SchoolHoliday\": 0, \"StoreType\": \"a\", \"Assortment\": \"a\", \"CompetitionDistance\": 60.0, \"CompetitionOpenSinceMonth\": 1.0, \"CompetitionOpenSinceYear\": 2005.0, \"Promo2\": 1, \"Promo2SinceWeek\": 5.0, \"Promo2SinceYear\": 2011.0, \"PromoInterval\": \"Jan,Apr,Jul,Oct\"}, {\"Store\": 10, \"DayOfWeek\": 4, \"Date\": \"2015-08-13\", \"Open\": 1.0, \"Promo\": 0, \"StateHoliday\": \"0\", \"SchoolHoliday\": 1, \"StoreType\": \"a\", \"Assortment\": \"a\", \"CompetitionDistance\": 3160.0, \"CompetitionOpenSinceMonth\": 9.0, \"CompetitionOpenSinceYear\": 2009.0, \"Promo2\": 0, \"Promo2SinceWeek\": NaN, \"Promo2SinceYear\": NaN, \"PromoInterval\": NaN}, {\"Store\": 20, \"DayOfWeek\": 4, \"Date\": \"2015-08-13\", \"Open\": 1.0, \"Promo\": 0, \"StateHoliday\": \"0\", \"SchoolHoliday\": 1, \"StoreType\": \"d\", \"Assortment\": \"a\", \"CompetitionDistance\": 2340.0, \"CompetitionOpenSinceMonth\": 5.0, \"CompetitionOpenSinceYear\": 2009.0, \"Promo2\": 1, \"Promo2SinceWeek\": 40.0, \"Promo2SinceYear\": 2014.0, \"PromoInterval\": \"Jan,Apr,Jul,Oct\"}, {\"Store\": 27, \"DayOfWeek\": 4, \"Date\": \"2015-08-13\", \"Open\": 1.0, \"Promo\": 0, \"StateHoliday\": \"0\", \"SchoolHoliday\": 0, \"StoreType\": \"a\", \"Assortment\": \"a\", \"CompetitionDistance\": 60.0, \"CompetitionOpenSinceMonth\": 1.0, \"CompetitionOpenSinceYear\": 2005.0, \"Promo2\": 1, \"Promo2SinceWeek\": 5.0, \"Promo2SinceYear\": 2011.0, \"PromoInterval\": \"Jan,Apr,Jul,Oct\"}, {\"Store\": 10, \"DayOfWeek\": 3, \"Date\": \"2015-08-12\", \"Open\": 1.0, \"Promo\": 0, \"StateHoliday\": \"0\", \"SchoolHoliday\": 1, \"StoreType\": \"a\", \"Assortment\": \"a\", \"CompetitionDistance\": 3160.0, \"CompetitionOpenSinceMonth\": 9.0, \"CompetitionOpenSinceYear\": 2009.0, \"Promo2\": 0, \"Promo2SinceWeek\": NaN, \"Promo2SinceYear\": NaN, \"PromoInterval\": NaN}, {\"Store\": 20, \"DayOfWeek\": 3, \"Date\": \"2015-08-12\", \"Open\": 1.0, \"Promo\": 0, \"StateHoliday\": \"0\", \"SchoolHoliday\": 1, \"StoreType\": \"d\", \"Assortment\": \"a\", \"CompetitionDistance\": 2340.0, \"CompetitionOpenSinceMonth\": 5.0, \"CompetitionOpenSinceYear\": 2009.0, \"Promo2\": 1, \"Promo2SinceWeek\": 40.0, \"Promo2SinceYear\": 2014.0, \"PromoInterval\": \"Jan,Apr,Jul,Oct\"}, {\"Store\": 27, \"DayOfWeek\": 3, \"Date\": \"2015-08-12\", \"Open\": 1.0, \"Promo\": 0, \"StateHoliday\": \"0\", \"SchoolHoliday\": 0, \"StoreType\": \"a\", \"Assortment\": \"a\", \"CompetitionDistance\": 60.0, \"CompetitionOpenSinceMonth\": 1.0, \"CompetitionOpenSinceYear\": 2005.0, \"Promo2\": 1, \"Promo2SinceWeek\": 5.0, \"Promo2SinceYear\": 2011.0, \"PromoInterval\": \"Jan,Apr,Jul,Oct\"}, {\"Store\": 10, \"DayOfWeek\": 2, \"Date\": \"2015-08-11\", \"Open\": 1.0, \"Promo\": 0, \"StateHoliday\": \"0\", \"SchoolHoliday\": 1, \"StoreType\": \"a\", \"Assortment\": \"a\", \"CompetitionDistance\": 3160.0, \"CompetitionOpenSinceMonth\": 9.0, \"CompetitionOpenSinceYear\": 2009.0, \"Promo2\": 0, \"Promo2SinceWeek\": NaN, \"Promo2SinceYear\": NaN, \"PromoInterval\": NaN}, {\"Store\": 20, \"DayOfWeek\": 2, \"Date\": \"2015-08-11\", \"Open\": 1.0, \"Promo\": 0, \"StateHoliday\": \"0\", \"SchoolHoliday\": 1, \"StoreType\": \"d\", \"Assortment\": \"a\", \"CompetitionDistance\": 2340.0, \"CompetitionOpenSinceMonth\": 5.0, \"CompetitionOpenSinceYear\": 2009.0, \"Promo2\": 1, \"Promo2SinceWeek\": 40.0, \"Promo2SinceYear\": 2014.0, \"PromoInterval\": \"Jan,Apr,Jul,Oct\"}, {\"Store\": 27, \"DayOfWeek\": 2, \"Date\": \"2015-08-11\", \"Open\": 1.0, \"Promo\": 0, \"StateHoliday\": \"0\", \"SchoolHoliday\": 1, \"StoreType\": \"a\", \"Assortment\": \"a\", \"CompetitionDistance\": 60.0, \"CompetitionOpenSinceMonth\": 1.0, \"CompetitionOpenSinceYear\": 2005.0, \"Promo2\": 1, \"Promo2SinceWeek\": 5.0, \"Promo2SinceYear\": 2011.0, \"PromoInterval\": \"Jan,Apr,Jul,Oct\"}, {\"Store\": 10, \"DayOfWeek\": 1, \"Date\": \"2015-08-10\", \"Open\": 1.0, \"Promo\": 0, \"StateHoliday\": \"0\", \"SchoolHoliday\": 1, \"StoreType\": \"a\", \"Assortment\": \"a\", \"CompetitionDistance\": 3160.0, \"CompetitionOpenSinceMonth\": 9.0, \"CompetitionOpenSinceYear\": 2009.0, \"Promo2\": 0, \"Promo2SinceWeek\": NaN, \"Promo2SinceYear\": NaN, \"PromoInterval\": NaN}, {\"Store\": 20, \"DayOfWeek\": 1, \"Date\": \"2015-08-10\", \"Open\": 1.0, \"Promo\": 0, \"StateHoliday\": \"0\", \"SchoolHoliday\": 1, \"StoreType\": \"d\", \"Assortment\": \"a\", \"CompetitionDistance\": 2340.0, \"CompetitionOpenSinceMonth\": 5.0, \"CompetitionOpenSinceYear\": 2009.0, \"Promo2\": 1, \"Promo2SinceWeek\": 40.0, \"Promo2SinceYear\": 2014.0, \"PromoInterval\": \"Jan,Apr,Jul,Oct\"}, {\"Store\": 27, \"DayOfWeek\": 1, \"Date\": \"2015-08-10\", \"Open\": 1.0, \"Promo\": 0, \"StateHoliday\": \"0\", \"SchoolHoliday\": 1, \"StoreType\": \"a\", \"Assortment\": \"a\", \"CompetitionDistance\": 60.0, \"CompetitionOpenSinceMonth\": 1.0, \"CompetitionOpenSinceYear\": 2005.0, \"Promo2\": 1, \"Promo2SinceWeek\": 5.0, \"Promo2SinceYear\": 2011.0, \"PromoInterval\": \"Jan,Apr,Jul,Oct\"}, {\"Store\": 10, \"DayOfWeek\": 6, \"Date\": \"2015-08-08\", \"Open\": 1.0, \"Promo\": 0, \"StateHoliday\": \"0\", \"SchoolHoliday\": 1, \"StoreType\": \"a\", \"Assortment\": \"a\", \"CompetitionDistance\": 3160.0, \"CompetitionOpenSinceMonth\": 9.0, \"CompetitionOpenSinceYear\": 2009.0, \"Promo2\": 0, \"Promo2SinceWeek\": NaN, \"Promo2SinceYear\": NaN, \"PromoInterval\": NaN}, {\"Store\": 20, \"DayOfWeek\": 6, \"Date\": \"2015-08-08\", \"Open\": 1.0, \"Promo\": 0, \"StateHoliday\": \"0\", \"SchoolHoliday\": 0, \"StoreType\": \"d\", \"Assortment\": \"a\", \"CompetitionDistance\": 2340.0, \"CompetitionOpenSinceMonth\": 5.0, \"CompetitionOpenSinceYear\": 2009.0, \"Promo2\": 1, \"Promo2SinceWeek\": 40.0, \"Promo2SinceYear\": 2014.0, \"PromoInterval\": \"Jan,Apr,Jul,Oct\"}, {\"Store\": 27, \"DayOfWeek\": 6, \"Date\": \"2015-08-08\", \"Open\": 1.0, \"Promo\": 0, \"StateHoliday\": \"0\", \"SchoolHoliday\": 0, \"StoreType\": \"a\", \"Assortment\": \"a\", \"CompetitionDistance\": 60.0, \"CompetitionOpenSinceMonth\": 1.0, \"CompetitionOpenSinceYear\": 2005.0, \"Promo2\": 1, \"Promo2SinceWeek\": 5.0, \"Promo2SinceYear\": 2011.0, \"PromoInterval\": \"Jan,Apr,Jul,Oct\"}, {\"Store\": 10, \"DayOfWeek\": 5, \"Date\": \"2015-08-07\", \"Open\": 1.0, \"Promo\": 1, \"StateHoliday\": \"0\", \"SchoolHoliday\": 1, \"StoreType\": \"a\", \"Assortment\": \"a\", \"CompetitionDistance\": 3160.0, \"CompetitionOpenSinceMonth\": 9.0, \"CompetitionOpenSinceYear\": 2009.0, \"Promo2\": 0, \"Promo2SinceWeek\": NaN, \"Promo2SinceYear\": NaN, \"PromoInterval\": NaN}, {\"Store\": 20, \"DayOfWeek\": 5, \"Date\": \"2015-08-07\", \"Open\": 1.0, \"Promo\": 1, \"StateHoliday\": \"0\", \"SchoolHoliday\": 1, \"StoreType\": \"d\", \"Assortment\": \"a\", \"CompetitionDistance\": 2340.0, \"CompetitionOpenSinceMonth\": 5.0, \"CompetitionOpenSinceYear\": 2009.0, \"Promo2\": 1, \"Promo2SinceWeek\": 40.0, \"Promo2SinceYear\": 2014.0, \"PromoInterval\": \"Jan,Apr,Jul,Oct\"}, {\"Store\": 27, \"DayOfWeek\": 5, \"Date\": \"2015-08-07\", \"Open\": 1.0, \"Promo\": 1, \"StateHoliday\": \"0\", \"SchoolHoliday\": 1, \"StoreType\": \"a\", \"Assortment\": \"a\", \"CompetitionDistance\": 60.0, \"CompetitionOpenSinceMonth\": 1.0, \"CompetitionOpenSinceYear\": 2005.0, \"Promo2\": 1, \"Promo2SinceWeek\": 5.0, \"Promo2SinceYear\": 2011.0, \"PromoInterval\": \"Jan,Apr,Jul,Oct\"}, {\"Store\": 10, \"DayOfWeek\": 4, \"Date\": \"2015-08-06\", \"Open\": 1.0, \"Promo\": 1, \"StateHoliday\": \"0\", \"SchoolHoliday\": 1, \"StoreType\": \"a\", \"Assortment\": \"a\", \"CompetitionDistance\": 3160.0, \"CompetitionOpenSinceMonth\": 9.0, \"CompetitionOpenSinceYear\": 2009.0, \"Promo2\": 0, \"Promo2SinceWeek\": NaN, \"Promo2SinceYear\": NaN, \"PromoInterval\": NaN}, {\"Store\": 20, \"DayOfWeek\": 4, \"Date\": \"2015-08-06\", \"Open\": 1.0, \"Promo\": 1, \"StateHoliday\": \"0\", \"SchoolHoliday\": 1, \"StoreType\": \"d\", \"Assortment\": \"a\", \"CompetitionDistance\": 2340.0, \"CompetitionOpenSinceMonth\": 5.0, \"CompetitionOpenSinceYear\": 2009.0, \"Promo2\": 1, \"Promo2SinceWeek\": 40.0, \"Promo2SinceYear\": 2014.0, \"PromoInterval\": \"Jan,Apr,Jul,Oct\"}, {\"Store\": 27, \"DayOfWeek\": 4, \"Date\": \"2015-08-06\", \"Open\": 1.0, \"Promo\": 1, \"StateHoliday\": \"0\", \"SchoolHoliday\": 1, \"StoreType\": \"a\", \"Assortment\": \"a\", \"CompetitionDistance\": 60.0, \"CompetitionOpenSinceMonth\": 1.0, \"CompetitionOpenSinceYear\": 2005.0, \"Promo2\": 1, \"Promo2SinceWeek\": 5.0, \"Promo2SinceYear\": 2011.0, \"PromoInterval\": \"Jan,Apr,Jul,Oct\"}, {\"Store\": 10, \"DayOfWeek\": 3, \"Date\": \"2015-08-05\", \"Open\": 1.0, \"Promo\": 1, \"StateHoliday\": \"0\", \"SchoolHoliday\": 1, \"StoreType\": \"a\", \"Assortment\": \"a\", \"CompetitionDistance\": 3160.0, \"CompetitionOpenSinceMonth\": 9.0, \"CompetitionOpenSinceYear\": 2009.0, \"Promo2\": 0, \"Promo2SinceWeek\": NaN, \"Promo2SinceYear\": NaN, \"PromoInterval\": NaN}, {\"Store\": 20, \"DayOfWeek\": 3, \"Date\": \"2015-08-05\", \"Open\": 1.0, \"Promo\": 1, \"StateHoliday\": \"0\", \"SchoolHoliday\": 1, \"StoreType\": \"d\", \"Assortment\": \"a\", \"CompetitionDistance\": 2340.0, \"CompetitionOpenSinceMonth\": 5.0, \"CompetitionOpenSinceYear\": 2009.0, \"Promo2\": 1, \"Promo2SinceWeek\": 40.0, \"Promo2SinceYear\": 2014.0, \"PromoInterval\": \"Jan,Apr,Jul,Oct\"}, {\"Store\": 27, \"DayOfWeek\": 3, \"Date\": \"2015-08-05\", \"Open\": 1.0, \"Promo\": 1, \"StateHoliday\": \"0\", \"SchoolHoliday\": 1, \"StoreType\": \"a\", \"Assortment\": \"a\", \"CompetitionDistance\": 60.0, \"CompetitionOpenSinceMonth\": 1.0, \"CompetitionOpenSinceYear\": 2005.0, \"Promo2\": 1, \"Promo2SinceWeek\": 5.0, \"Promo2SinceYear\": 2011.0, \"PromoInterval\": \"Jan,Apr,Jul,Oct\"}, {\"Store\": 10, \"DayOfWeek\": 2, \"Date\": \"2015-08-04\", \"Open\": 1.0, \"Promo\": 1, \"StateHoliday\": \"0\", \"SchoolHoliday\": 1, \"StoreType\": \"a\", \"Assortment\": \"a\", \"CompetitionDistance\": 3160.0, \"CompetitionOpenSinceMonth\": 9.0, \"CompetitionOpenSinceYear\": 2009.0, \"Promo2\": 0, \"Promo2SinceWeek\": NaN, \"Promo2SinceYear\": NaN, \"PromoInterval\": NaN}, {\"Store\": 20, \"DayOfWeek\": 2, \"Date\": \"2015-08-04\", \"Open\": 1.0, \"Promo\": 1, \"StateHoliday\": \"0\", \"SchoolHoliday\": 1, \"StoreType\": \"d\", \"Assortment\": \"a\", \"CompetitionDistance\": 2340.0, \"CompetitionOpenSinceMonth\": 5.0, \"CompetitionOpenSinceYear\": 2009.0, \"Promo2\": 1, \"Promo2SinceWeek\": 40.0, \"Promo2SinceYear\": 2014.0, \"PromoInterval\": \"Jan,Apr,Jul,Oct\"}, {\"Store\": 27, \"DayOfWeek\": 2, \"Date\": \"2015-08-04\", \"Open\": 1.0, \"Promo\": 1, \"StateHoliday\": \"0\", \"SchoolHoliday\": 1, \"StoreType\": \"a\", \"Assortment\": \"a\", \"CompetitionDistance\": 60.0, \"CompetitionOpenSinceMonth\": 1.0, \"CompetitionOpenSinceYear\": 2005.0, \"Promo2\": 1, \"Promo2SinceWeek\": 5.0, \"Promo2SinceYear\": 2011.0, \"PromoInterval\": \"Jan,Apr,Jul,Oct\"}, {\"Store\": 10, \"DayOfWeek\": 1, \"Date\": \"2015-08-03\", \"Open\": 1.0, \"Promo\": 1, \"StateHoliday\": \"0\", \"SchoolHoliday\": 1, \"StoreType\": \"a\", \"Assortment\": \"a\", \"CompetitionDistance\": 3160.0, \"CompetitionOpenSinceMonth\": 9.0, \"CompetitionOpenSinceYear\": 2009.0, \"Promo2\": 0, \"Promo2SinceWeek\": NaN, \"Promo2SinceYear\": NaN, \"PromoInterval\": NaN}, {\"Store\": 20, \"DayOfWeek\": 1, \"Date\": \"2015-08-03\", \"Open\": 1.0, \"Promo\": 1, \"StateHoliday\": \"0\", \"SchoolHoliday\": 1, \"StoreType\": \"d\", \"Assortment\": \"a\", \"CompetitionDistance\": 2340.0, \"CompetitionOpenSinceMonth\": 5.0, \"CompetitionOpenSinceYear\": 2009.0, \"Promo2\": 1, \"Promo2SinceWeek\": 40.0, \"Promo2SinceYear\": 2014.0, \"PromoInterval\": \"Jan,Apr,Jul,Oct\"}, {\"Store\": 27, \"DayOfWeek\": 1, \"Date\": \"2015-08-03\", \"Open\": 1.0, \"Promo\": 1, \"StateHoliday\": \"0\", \"SchoolHoliday\": 1, \"StoreType\": \"a\", \"Assortment\": \"a\", \"CompetitionDistance\": 60.0, \"CompetitionOpenSinceMonth\": 1.0, \"CompetitionOpenSinceYear\": 2005.0, \"Promo2\": 1, \"Promo2SinceWeek\": 5.0, \"Promo2SinceYear\": 2011.0, \"PromoInterval\": \"Jan,Apr,Jul,Oct\"}, {\"Store\": 10, \"DayOfWeek\": 6, \"Date\": \"2015-08-01\", \"Open\": 1.0, \"Promo\": 0, \"StateHoliday\": \"0\", \"SchoolHoliday\": 1, \"StoreType\": \"a\", \"Assortment\": \"a\", \"CompetitionDistance\": 3160.0, \"CompetitionOpenSinceMonth\": 9.0, \"CompetitionOpenSinceYear\": 2009.0, \"Promo2\": 0, \"Promo2SinceWeek\": NaN, \"Promo2SinceYear\": NaN, \"PromoInterval\": NaN}, {\"Store\": 20, \"DayOfWeek\": 6, \"Date\": \"2015-08-01\", \"Open\": 1.0, \"Promo\": 0, \"StateHoliday\": \"0\", \"SchoolHoliday\": 0, \"StoreType\": \"d\", \"Assortment\": \"a\", \"CompetitionDistance\": 2340.0, \"CompetitionOpenSinceMonth\": 5.0, \"CompetitionOpenSinceYear\": 2009.0, \"Promo2\": 1, \"Promo2SinceWeek\": 40.0, \"Promo2SinceYear\": 2014.0, \"PromoInterval\": \"Jan,Apr,Jul,Oct\"}, {\"Store\": 27, \"DayOfWeek\": 6, \"Date\": \"2015-08-01\", \"Open\": 1.0, \"Promo\": 0, \"StateHoliday\": \"0\", \"SchoolHoliday\": 0, \"StoreType\": \"a\", \"Assortment\": \"a\", \"CompetitionDistance\": 60.0, \"CompetitionOpenSinceMonth\": 1.0, \"CompetitionOpenSinceYear\": 2005.0, \"Promo2\": 1, \"Promo2SinceWeek\": 5.0, \"Promo2SinceYear\": 2011.0, \"PromoInterval\": \"Jan,Apr,Jul,Oct\"}]'"
      ]
     },
     "execution_count": 17,
     "metadata": {},
     "output_type": "execute_result"
    }
   ],
   "source": [
    "data"
   ]
  },
  {
   "cell_type": "code",
   "execution_count": null,
   "metadata": {
    "hidden": true
   },
   "outputs": [],
   "source": []
  }
 ],
 "metadata": {
  "kernelspec": {
   "display_name": "Python 3",
   "language": "python",
   "name": "python3"
  },
  "language_info": {
   "codemirror_mode": {
    "name": "ipython",
    "version": 3
   },
   "file_extension": ".py",
   "mimetype": "text/x-python",
   "name": "python",
   "nbconvert_exporter": "python",
   "pygments_lexer": "ipython3",
   "version": "3.8.0"
  }
 },
 "nbformat": 4,
 "nbformat_minor": 4
}
